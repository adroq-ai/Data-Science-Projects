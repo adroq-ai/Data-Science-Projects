{
  "cells": [
    {
      "cell_type": "markdown",
      "metadata": {
        "id": "NJofg3xFOQVL"
      },
      "source": [
        "#**Fake News**\n",
        "\n",
        "Build a system to identify unreliable news articles\n",
        "\n",
        "## **Dataset Description**\n",
        "\n",
        "**train.csv:** A full training dataset with the following attributes:\n",
        "\n",
        "* **id:** unique id for a news article\n",
        "* **title:** the title of a news article\n",
        "* **author:** author of the news article\n",
        "* **text:** the text of the article; could be incomplete\n",
        "* **label:** a label that marks the article as potentially unreliable\n",
        "\n",
        "\n",
        "\n",
        "        1: unreliable\n",
        "\n",
        "        0: reliable"
      ]
    },
    {
      "cell_type": "markdown",
      "metadata": {
        "id": "3bRvn3ByGgty"
      },
      "source": [
        "# **Installing require Tools**"
      ]
    },
    {
      "cell_type": "code",
      "execution_count": 1,
      "metadata": {
        "colab": {
          "base_uri": "https://localhost:8080/"
        },
        "id": "6Zt2NGhcGXvp",
        "outputId": "091176b3-f115-42e0-876b-d5b90f8e5f7d"
      },
      "outputs": [
        {
          "output_type": "stream",
          "name": "stdout",
          "text": [
            "Collecting gradio\n",
            "  Downloading gradio-5.9.1-py3-none-any.whl.metadata (16 kB)\n",
            "Collecting aiofiles<24.0,>=22.0 (from gradio)\n",
            "  Downloading aiofiles-23.2.1-py3-none-any.whl.metadata (9.7 kB)\n",
            "Requirement already satisfied: anyio<5.0,>=3.0 in /usr/local/lib/python3.10/dist-packages (from gradio) (3.7.1)\n",
            "Collecting fastapi<1.0,>=0.115.2 (from gradio)\n",
            "  Downloading fastapi-0.115.6-py3-none-any.whl.metadata (27 kB)\n",
            "Collecting ffmpy (from gradio)\n",
            "  Downloading ffmpy-0.5.0-py3-none-any.whl.metadata (3.0 kB)\n",
            "Collecting gradio-client==1.5.2 (from gradio)\n",
            "  Downloading gradio_client-1.5.2-py3-none-any.whl.metadata (7.1 kB)\n",
            "Requirement already satisfied: httpx>=0.24.1 in /usr/local/lib/python3.10/dist-packages (from gradio) (0.28.1)\n",
            "Requirement already satisfied: huggingface-hub>=0.25.1 in /usr/local/lib/python3.10/dist-packages (from gradio) (0.27.0)\n",
            "Requirement already satisfied: jinja2<4.0 in /usr/local/lib/python3.10/dist-packages (from gradio) (3.1.4)\n",
            "Collecting markupsafe~=2.0 (from gradio)\n",
            "  Downloading MarkupSafe-2.1.5-cp310-cp310-manylinux_2_17_x86_64.manylinux2014_x86_64.whl.metadata (3.0 kB)\n",
            "Requirement already satisfied: numpy<3.0,>=1.0 in /usr/local/lib/python3.10/dist-packages (from gradio) (1.26.4)\n",
            "Requirement already satisfied: orjson~=3.0 in /usr/local/lib/python3.10/dist-packages (from gradio) (3.10.12)\n",
            "Requirement already satisfied: packaging in /usr/local/lib/python3.10/dist-packages (from gradio) (24.2)\n",
            "Requirement already satisfied: pandas<3.0,>=1.0 in /usr/local/lib/python3.10/dist-packages (from gradio) (2.2.2)\n",
            "Requirement already satisfied: pillow<12.0,>=8.0 in /usr/local/lib/python3.10/dist-packages (from gradio) (11.0.0)\n",
            "Requirement already satisfied: pydantic>=2.0 in /usr/local/lib/python3.10/dist-packages (from gradio) (2.10.3)\n",
            "Collecting pydub (from gradio)\n",
            "  Downloading pydub-0.25.1-py2.py3-none-any.whl.metadata (1.4 kB)\n",
            "Collecting python-multipart>=0.0.18 (from gradio)\n",
            "  Downloading python_multipart-0.0.20-py3-none-any.whl.metadata (1.8 kB)\n",
            "Requirement already satisfied: pyyaml<7.0,>=5.0 in /usr/local/lib/python3.10/dist-packages (from gradio) (6.0.2)\n",
            "Collecting ruff>=0.2.2 (from gradio)\n",
            "  Downloading ruff-0.8.4-py3-none-manylinux_2_17_x86_64.manylinux2014_x86_64.whl.metadata (25 kB)\n",
            "Collecting safehttpx<0.2.0,>=0.1.6 (from gradio)\n",
            "  Downloading safehttpx-0.1.6-py3-none-any.whl.metadata (4.2 kB)\n",
            "Collecting semantic-version~=2.0 (from gradio)\n",
            "  Downloading semantic_version-2.10.0-py2.py3-none-any.whl.metadata (9.7 kB)\n",
            "Collecting starlette<1.0,>=0.40.0 (from gradio)\n",
            "  Downloading starlette-0.45.1-py3-none-any.whl.metadata (6.3 kB)\n",
            "Collecting tomlkit<0.14.0,>=0.12.0 (from gradio)\n",
            "  Downloading tomlkit-0.13.2-py3-none-any.whl.metadata (2.7 kB)\n",
            "Requirement already satisfied: typer<1.0,>=0.12 in /usr/local/lib/python3.10/dist-packages (from gradio) (0.15.1)\n",
            "Requirement already satisfied: typing-extensions~=4.0 in /usr/local/lib/python3.10/dist-packages (from gradio) (4.12.2)\n",
            "Collecting uvicorn>=0.14.0 (from gradio)\n",
            "  Downloading uvicorn-0.34.0-py3-none-any.whl.metadata (6.5 kB)\n",
            "Requirement already satisfied: fsspec in /usr/local/lib/python3.10/dist-packages (from gradio-client==1.5.2->gradio) (2024.10.0)\n",
            "Requirement already satisfied: websockets<15.0,>=10.0 in /usr/local/lib/python3.10/dist-packages (from gradio-client==1.5.2->gradio) (14.1)\n",
            "Requirement already satisfied: idna>=2.8 in /usr/local/lib/python3.10/dist-packages (from anyio<5.0,>=3.0->gradio) (3.10)\n",
            "Requirement already satisfied: sniffio>=1.1 in /usr/local/lib/python3.10/dist-packages (from anyio<5.0,>=3.0->gradio) (1.3.1)\n",
            "Requirement already satisfied: exceptiongroup in /usr/local/lib/python3.10/dist-packages (from anyio<5.0,>=3.0->gradio) (1.2.2)\n",
            "Collecting starlette<1.0,>=0.40.0 (from gradio)\n",
            "  Downloading starlette-0.41.3-py3-none-any.whl.metadata (6.0 kB)\n",
            "Requirement already satisfied: certifi in /usr/local/lib/python3.10/dist-packages (from httpx>=0.24.1->gradio) (2024.12.14)\n",
            "Requirement already satisfied: httpcore==1.* in /usr/local/lib/python3.10/dist-packages (from httpx>=0.24.1->gradio) (1.0.7)\n",
            "Requirement already satisfied: h11<0.15,>=0.13 in /usr/local/lib/python3.10/dist-packages (from httpcore==1.*->httpx>=0.24.1->gradio) (0.14.0)\n",
            "Requirement already satisfied: filelock in /usr/local/lib/python3.10/dist-packages (from huggingface-hub>=0.25.1->gradio) (3.16.1)\n",
            "Requirement already satisfied: requests in /usr/local/lib/python3.10/dist-packages (from huggingface-hub>=0.25.1->gradio) (2.32.3)\n",
            "Requirement already satisfied: tqdm>=4.42.1 in /usr/local/lib/python3.10/dist-packages (from huggingface-hub>=0.25.1->gradio) (4.67.1)\n",
            "Requirement already satisfied: python-dateutil>=2.8.2 in /usr/local/lib/python3.10/dist-packages (from pandas<3.0,>=1.0->gradio) (2.8.2)\n",
            "Requirement already satisfied: pytz>=2020.1 in /usr/local/lib/python3.10/dist-packages (from pandas<3.0,>=1.0->gradio) (2024.2)\n",
            "Requirement already satisfied: tzdata>=2022.7 in /usr/local/lib/python3.10/dist-packages (from pandas<3.0,>=1.0->gradio) (2024.2)\n",
            "Requirement already satisfied: annotated-types>=0.6.0 in /usr/local/lib/python3.10/dist-packages (from pydantic>=2.0->gradio) (0.7.0)\n",
            "Requirement already satisfied: pydantic-core==2.27.1 in /usr/local/lib/python3.10/dist-packages (from pydantic>=2.0->gradio) (2.27.1)\n",
            "Requirement already satisfied: click>=8.0.0 in /usr/local/lib/python3.10/dist-packages (from typer<1.0,>=0.12->gradio) (8.1.7)\n",
            "Requirement already satisfied: shellingham>=1.3.0 in /usr/local/lib/python3.10/dist-packages (from typer<1.0,>=0.12->gradio) (1.5.4)\n",
            "Requirement already satisfied: rich>=10.11.0 in /usr/local/lib/python3.10/dist-packages (from typer<1.0,>=0.12->gradio) (13.9.4)\n",
            "Requirement already satisfied: six>=1.5 in /usr/local/lib/python3.10/dist-packages (from python-dateutil>=2.8.2->pandas<3.0,>=1.0->gradio) (1.17.0)\n",
            "Requirement already satisfied: markdown-it-py>=2.2.0 in /usr/local/lib/python3.10/dist-packages (from rich>=10.11.0->typer<1.0,>=0.12->gradio) (3.0.0)\n",
            "Requirement already satisfied: pygments<3.0.0,>=2.13.0 in /usr/local/lib/python3.10/dist-packages (from rich>=10.11.0->typer<1.0,>=0.12->gradio) (2.18.0)\n",
            "Requirement already satisfied: charset-normalizer<4,>=2 in /usr/local/lib/python3.10/dist-packages (from requests->huggingface-hub>=0.25.1->gradio) (3.4.0)\n",
            "Requirement already satisfied: urllib3<3,>=1.21.1 in /usr/local/lib/python3.10/dist-packages (from requests->huggingface-hub>=0.25.1->gradio) (2.2.3)\n",
            "Requirement already satisfied: mdurl~=0.1 in /usr/local/lib/python3.10/dist-packages (from markdown-it-py>=2.2.0->rich>=10.11.0->typer<1.0,>=0.12->gradio) (0.1.2)\n",
            "Downloading gradio-5.9.1-py3-none-any.whl (57.2 MB)\n",
            "\u001b[2K   \u001b[90m━━━━━━━━━━━━━━━━━━━━━━━━━━━━━━━━━━━━━━━━\u001b[0m \u001b[32m57.2/57.2 MB\u001b[0m \u001b[31m14.2 MB/s\u001b[0m eta \u001b[36m0:00:00\u001b[0m\n",
            "\u001b[?25hDownloading gradio_client-1.5.2-py3-none-any.whl (320 kB)\n",
            "\u001b[2K   \u001b[90m━━━━━━━━━━━━━━━━━━━━━━━━━━━━━━━━━━━━━━━━\u001b[0m \u001b[32m320.4/320.4 kB\u001b[0m \u001b[31m28.3 MB/s\u001b[0m eta \u001b[36m0:00:00\u001b[0m\n",
            "\u001b[?25hDownloading aiofiles-23.2.1-py3-none-any.whl (15 kB)\n",
            "Downloading fastapi-0.115.6-py3-none-any.whl (94 kB)\n",
            "\u001b[2K   \u001b[90m━━━━━━━━━━━━━━━━━━━━━━━━━━━━━━━━━━━━━━━━\u001b[0m \u001b[32m94.8/94.8 kB\u001b[0m \u001b[31m10.4 MB/s\u001b[0m eta \u001b[36m0:00:00\u001b[0m\n",
            "\u001b[?25hDownloading MarkupSafe-2.1.5-cp310-cp310-manylinux_2_17_x86_64.manylinux2014_x86_64.whl (25 kB)\n",
            "Downloading python_multipart-0.0.20-py3-none-any.whl (24 kB)\n",
            "Downloading ruff-0.8.4-py3-none-manylinux_2_17_x86_64.manylinux2014_x86_64.whl (11.2 MB)\n",
            "\u001b[2K   \u001b[90m━━━━━━━━━━━━━━━━━━━━━━━━━━━━━━━━━━━━━━━━\u001b[0m \u001b[32m11.2/11.2 MB\u001b[0m \u001b[31m108.4 MB/s\u001b[0m eta \u001b[36m0:00:00\u001b[0m\n",
            "\u001b[?25hDownloading safehttpx-0.1.6-py3-none-any.whl (8.7 kB)\n",
            "Downloading semantic_version-2.10.0-py2.py3-none-any.whl (15 kB)\n",
            "Downloading starlette-0.41.3-py3-none-any.whl (73 kB)\n",
            "\u001b[2K   \u001b[90m━━━━━━━━━━━━━━━━━━━━━━━━━━━━━━━━━━━━━━━━\u001b[0m \u001b[32m73.2/73.2 kB\u001b[0m \u001b[31m8.2 MB/s\u001b[0m eta \u001b[36m0:00:00\u001b[0m\n",
            "\u001b[?25hDownloading tomlkit-0.13.2-py3-none-any.whl (37 kB)\n",
            "Downloading uvicorn-0.34.0-py3-none-any.whl (62 kB)\n",
            "\u001b[2K   \u001b[90m━━━━━━━━━━━━━━━━━━━━━━━━━━━━━━━━━━━━━━━━\u001b[0m \u001b[32m62.3/62.3 kB\u001b[0m \u001b[31m6.3 MB/s\u001b[0m eta \u001b[36m0:00:00\u001b[0m\n",
            "\u001b[?25hDownloading ffmpy-0.5.0-py3-none-any.whl (6.0 kB)\n",
            "Downloading pydub-0.25.1-py2.py3-none-any.whl (32 kB)\n",
            "Installing collected packages: pydub, uvicorn, tomlkit, semantic-version, ruff, python-multipart, markupsafe, ffmpy, aiofiles, starlette, safehttpx, gradio-client, fastapi, gradio\n",
            "  Attempting uninstall: markupsafe\n",
            "    Found existing installation: MarkupSafe 3.0.2\n",
            "    Uninstalling MarkupSafe-3.0.2:\n",
            "      Successfully uninstalled MarkupSafe-3.0.2\n",
            "Successfully installed aiofiles-23.2.1 fastapi-0.115.6 ffmpy-0.5.0 gradio-5.9.1 gradio-client-1.5.2 markupsafe-2.1.5 pydub-0.25.1 python-multipart-0.0.20 ruff-0.8.4 safehttpx-0.1.6 semantic-version-2.10.0 starlette-0.41.3 tomlkit-0.13.2 uvicorn-0.34.0\n"
          ]
        }
      ],
      "source": [
        "!pip install gradio"
      ]
    },
    {
      "cell_type": "markdown",
      "metadata": {
        "id": "eo_cHFi7_ALw"
      },
      "source": [
        "# **Import the Libraries**"
      ]
    },
    {
      "cell_type": "code",
      "execution_count": 2,
      "metadata": {
        "id": "7gzs5lx1IBuq"
      },
      "outputs": [],
      "source": [
        "import numpy as np\n",
        "import pandas as pd\n",
        "import re  # For regular expressions to clean the text\n",
        "from nltk.corpus import stopwords   # For filtering out common stop words\n",
        "from nltk.stem.porter import PorterStemmer   # For stemming words\n",
        "from sklearn.feature_extraction.text import TfidfVectorizer  # To convert text data into numerical data\n",
        "from sklearn.model_selection import train_test_split\n",
        "from sklearn.linear_model import LogisticRegression\n",
        "from sklearn.metrics import accuracy_score, confusion_matrix, classification_report\n",
        "import gradio as gr"
      ]
    },
    {
      "cell_type": "code",
      "execution_count": 3,
      "metadata": {
        "colab": {
          "base_uri": "https://localhost:8080/"
        },
        "id": "B24GKnLjA2WG",
        "outputId": "83627c83-5a21-4011-c40f-ee937cad9b45"
      },
      "outputs": [
        {
          "output_type": "stream",
          "name": "stderr",
          "text": [
            "[nltk_data] Downloading package stopwords to /root/nltk_data...\n",
            "[nltk_data]   Unzipping corpora/stopwords.zip.\n"
          ]
        },
        {
          "output_type": "execute_result",
          "data": {
            "text/plain": [
              "True"
            ]
          },
          "metadata": {},
          "execution_count": 3
        }
      ],
      "source": [
        "import nltk\n",
        "nltk.download('stopwords')"
      ]
    },
    {
      "cell_type": "code",
      "execution_count": 4,
      "metadata": {
        "colab": {
          "base_uri": "https://localhost:8080/"
        },
        "id": "QZj_qiQNBcFu",
        "outputId": "c0db3fee-5112-4cf6-977b-00c9820d5cfb"
      },
      "outputs": [
        {
          "output_type": "stream",
          "name": "stdout",
          "text": [
            "['i', 'me', 'my', 'myself', 'we', 'our', 'ours', 'ourselves', 'you', \"you're\", \"you've\", \"you'll\", \"you'd\", 'your', 'yours', 'yourself', 'yourselves', 'he', 'him', 'his', 'himself', 'she', \"she's\", 'her', 'hers', 'herself', 'it', \"it's\", 'its', 'itself', 'they', 'them', 'their', 'theirs', 'themselves', 'what', 'which', 'who', 'whom', 'this', 'that', \"that'll\", 'these', 'those', 'am', 'is', 'are', 'was', 'were', 'be', 'been', 'being', 'have', 'has', 'had', 'having', 'do', 'does', 'did', 'doing', 'a', 'an', 'the', 'and', 'but', 'if', 'or', 'because', 'as', 'until', 'while', 'of', 'at', 'by', 'for', 'with', 'about', 'against', 'between', 'into', 'through', 'during', 'before', 'after', 'above', 'below', 'to', 'from', 'up', 'down', 'in', 'out', 'on', 'off', 'over', 'under', 'again', 'further', 'then', 'once', 'here', 'there', 'when', 'where', 'why', 'how', 'all', 'any', 'both', 'each', 'few', 'more', 'most', 'other', 'some', 'such', 'no', 'nor', 'not', 'only', 'own', 'same', 'so', 'than', 'too', 'very', 's', 't', 'can', 'will', 'just', 'don', \"don't\", 'should', \"should've\", 'now', 'd', 'll', 'm', 'o', 're', 've', 'y', 'ain', 'aren', \"aren't\", 'couldn', \"couldn't\", 'didn', \"didn't\", 'doesn', \"doesn't\", 'hadn', \"hadn't\", 'hasn', \"hasn't\", 'haven', \"haven't\", 'isn', \"isn't\", 'ma', 'mightn', \"mightn't\", 'mustn', \"mustn't\", 'needn', \"needn't\", 'shan', \"shan't\", 'shouldn', \"shouldn't\", 'wasn', \"wasn't\", 'weren', \"weren't\", 'won', \"won't\", 'wouldn', \"wouldn't\"]\n"
          ]
        }
      ],
      "source": [
        "# printing the stopwords in English\n",
        "print(stopwords.words('english'))"
      ]
    },
    {
      "cell_type": "markdown",
      "metadata": {
        "id": "3xASeZU6BvO_"
      },
      "source": [
        "# **Data Collection and Data Preprocessing**"
      ]
    },
    {
      "cell_type": "code",
      "execution_count": 5,
      "metadata": {
        "id": "A03EWNh9Bufo"
      },
      "outputs": [],
      "source": [
        "# Loading the dataset into a pandas DataFrame\n",
        "news_data = pd.read_csv('train.csv', on_bad_lines='skip', engine='python')  # Use this to identify issues"
      ]
    },
    {
      "cell_type": "code",
      "execution_count": 6,
      "metadata": {
        "colab": {
          "base_uri": "https://localhost:8080/"
        },
        "id": "B75ZmEICe1T8",
        "outputId": "d7213a73-ae50-485e-923f-6e467278d974"
      },
      "outputs": [
        {
          "output_type": "execute_result",
          "data": {
            "text/plain": [
              "(1045, 5)"
            ]
          },
          "metadata": {},
          "execution_count": 6
        }
      ],
      "source": [
        "# Checking the shape of the dataset\n",
        "news_data.shape    # Outputs the number of rows and columns in the dataset."
      ]
    },
    {
      "cell_type": "code",
      "execution_count": 7,
      "metadata": {
        "colab": {
          "base_uri": "https://localhost:8080/"
        },
        "id": "Nc3Wv2XGNRVa",
        "outputId": "aad778b6-a496-4adc-ab03-e1a45b100836"
      },
      "outputs": [
        {
          "output_type": "stream",
          "name": "stdout",
          "text": [
            "id          0\n",
            "title      29\n",
            "author    108\n",
            "text        2\n",
            "label       0\n",
            "dtype: int64\n"
          ]
        }
      ],
      "source": [
        "# Checking the numer of missing values in the dataset\n",
        "print(news_data.isnull().sum())"
      ]
    },
    {
      "cell_type": "code",
      "execution_count": 8,
      "metadata": {
        "colab": {
          "base_uri": "https://localhost:8080/",
          "height": 206
        },
        "id": "kL5yXYdWOETK",
        "outputId": "84d317b9-f8d3-4bdb-bc86-b331537a7116"
      },
      "outputs": [
        {
          "output_type": "execute_result",
          "data": {
            "text/plain": [
              "   id                                              title              author  \\\n",
              "0   0  House Dem Aide: We Didn’t Even See Comey’s Let...       Darrell Lucus   \n",
              "1   1  FLYNN: Hillary Clinton, Big Woman on Campus - ...     Daniel J. Flynn   \n",
              "2   2                  Why the Truth Might Get You Fired  Consortiumnews.com   \n",
              "3   3  15 Civilians Killed In Single US Airstrike Hav...     Jessica Purkiss   \n",
              "4   4  Iranian woman jailed for fictional unpublished...      Howard Portnoy   \n",
              "\n",
              "                                                text  label  \n",
              "0  House Dem Aide: We Didn’t Even See Comey’s Let...      1  \n",
              "1  Ever get the feeling your life circles the rou...      0  \n",
              "2  Why the Truth Might Get You Fired October 29, ...      1  \n",
              "3  Videos 15 Civilians Killed In Single US Airstr...      1  \n",
              "4  Print \\nAn Iranian woman has been sentenced to...      1  "
            ],
            "text/html": [
              "\n",
              "  <div id=\"df-df88c885-3914-42d0-bb92-8a767bc46500\" class=\"colab-df-container\">\n",
              "    <div>\n",
              "<style scoped>\n",
              "    .dataframe tbody tr th:only-of-type {\n",
              "        vertical-align: middle;\n",
              "    }\n",
              "\n",
              "    .dataframe tbody tr th {\n",
              "        vertical-align: top;\n",
              "    }\n",
              "\n",
              "    .dataframe thead th {\n",
              "        text-align: right;\n",
              "    }\n",
              "</style>\n",
              "<table border=\"1\" class=\"dataframe\">\n",
              "  <thead>\n",
              "    <tr style=\"text-align: right;\">\n",
              "      <th></th>\n",
              "      <th>id</th>\n",
              "      <th>title</th>\n",
              "      <th>author</th>\n",
              "      <th>text</th>\n",
              "      <th>label</th>\n",
              "    </tr>\n",
              "  </thead>\n",
              "  <tbody>\n",
              "    <tr>\n",
              "      <th>0</th>\n",
              "      <td>0</td>\n",
              "      <td>House Dem Aide: We Didn’t Even See Comey’s Let...</td>\n",
              "      <td>Darrell Lucus</td>\n",
              "      <td>House Dem Aide: We Didn’t Even See Comey’s Let...</td>\n",
              "      <td>1</td>\n",
              "    </tr>\n",
              "    <tr>\n",
              "      <th>1</th>\n",
              "      <td>1</td>\n",
              "      <td>FLYNN: Hillary Clinton, Big Woman on Campus - ...</td>\n",
              "      <td>Daniel J. Flynn</td>\n",
              "      <td>Ever get the feeling your life circles the rou...</td>\n",
              "      <td>0</td>\n",
              "    </tr>\n",
              "    <tr>\n",
              "      <th>2</th>\n",
              "      <td>2</td>\n",
              "      <td>Why the Truth Might Get You Fired</td>\n",
              "      <td>Consortiumnews.com</td>\n",
              "      <td>Why the Truth Might Get You Fired October 29, ...</td>\n",
              "      <td>1</td>\n",
              "    </tr>\n",
              "    <tr>\n",
              "      <th>3</th>\n",
              "      <td>3</td>\n",
              "      <td>15 Civilians Killed In Single US Airstrike Hav...</td>\n",
              "      <td>Jessica Purkiss</td>\n",
              "      <td>Videos 15 Civilians Killed In Single US Airstr...</td>\n",
              "      <td>1</td>\n",
              "    </tr>\n",
              "    <tr>\n",
              "      <th>4</th>\n",
              "      <td>4</td>\n",
              "      <td>Iranian woman jailed for fictional unpublished...</td>\n",
              "      <td>Howard Portnoy</td>\n",
              "      <td>Print \\nAn Iranian woman has been sentenced to...</td>\n",
              "      <td>1</td>\n",
              "    </tr>\n",
              "  </tbody>\n",
              "</table>\n",
              "</div>\n",
              "    <div class=\"colab-df-buttons\">\n",
              "\n",
              "  <div class=\"colab-df-container\">\n",
              "    <button class=\"colab-df-convert\" onclick=\"convertToInteractive('df-df88c885-3914-42d0-bb92-8a767bc46500')\"\n",
              "            title=\"Convert this dataframe to an interactive table.\"\n",
              "            style=\"display:none;\">\n",
              "\n",
              "  <svg xmlns=\"http://www.w3.org/2000/svg\" height=\"24px\" viewBox=\"0 -960 960 960\">\n",
              "    <path d=\"M120-120v-720h720v720H120Zm60-500h600v-160H180v160Zm220 220h160v-160H400v160Zm0 220h160v-160H400v160ZM180-400h160v-160H180v160Zm440 0h160v-160H620v160ZM180-180h160v-160H180v160Zm440 0h160v-160H620v160Z\"/>\n",
              "  </svg>\n",
              "    </button>\n",
              "\n",
              "  <style>\n",
              "    .colab-df-container {\n",
              "      display:flex;\n",
              "      gap: 12px;\n",
              "    }\n",
              "\n",
              "    .colab-df-convert {\n",
              "      background-color: #E8F0FE;\n",
              "      border: none;\n",
              "      border-radius: 50%;\n",
              "      cursor: pointer;\n",
              "      display: none;\n",
              "      fill: #1967D2;\n",
              "      height: 32px;\n",
              "      padding: 0 0 0 0;\n",
              "      width: 32px;\n",
              "    }\n",
              "\n",
              "    .colab-df-convert:hover {\n",
              "      background-color: #E2EBFA;\n",
              "      box-shadow: 0px 1px 2px rgba(60, 64, 67, 0.3), 0px 1px 3px 1px rgba(60, 64, 67, 0.15);\n",
              "      fill: #174EA6;\n",
              "    }\n",
              "\n",
              "    .colab-df-buttons div {\n",
              "      margin-bottom: 4px;\n",
              "    }\n",
              "\n",
              "    [theme=dark] .colab-df-convert {\n",
              "      background-color: #3B4455;\n",
              "      fill: #D2E3FC;\n",
              "    }\n",
              "\n",
              "    [theme=dark] .colab-df-convert:hover {\n",
              "      background-color: #434B5C;\n",
              "      box-shadow: 0px 1px 3px 1px rgba(0, 0, 0, 0.15);\n",
              "      filter: drop-shadow(0px 1px 2px rgba(0, 0, 0, 0.3));\n",
              "      fill: #FFFFFF;\n",
              "    }\n",
              "  </style>\n",
              "\n",
              "    <script>\n",
              "      const buttonEl =\n",
              "        document.querySelector('#df-df88c885-3914-42d0-bb92-8a767bc46500 button.colab-df-convert');\n",
              "      buttonEl.style.display =\n",
              "        google.colab.kernel.accessAllowed ? 'block' : 'none';\n",
              "\n",
              "      async function convertToInteractive(key) {\n",
              "        const element = document.querySelector('#df-df88c885-3914-42d0-bb92-8a767bc46500');\n",
              "        const dataTable =\n",
              "          await google.colab.kernel.invokeFunction('convertToInteractive',\n",
              "                                                    [key], {});\n",
              "        if (!dataTable) return;\n",
              "\n",
              "        const docLinkHtml = 'Like what you see? Visit the ' +\n",
              "          '<a target=\"_blank\" href=https://colab.research.google.com/notebooks/data_table.ipynb>data table notebook</a>'\n",
              "          + ' to learn more about interactive tables.';\n",
              "        element.innerHTML = '';\n",
              "        dataTable['output_type'] = 'display_data';\n",
              "        await google.colab.output.renderOutput(dataTable, element);\n",
              "        const docLink = document.createElement('div');\n",
              "        docLink.innerHTML = docLinkHtml;\n",
              "        element.appendChild(docLink);\n",
              "      }\n",
              "    </script>\n",
              "  </div>\n",
              "\n",
              "\n",
              "<div id=\"df-009d54b6-c885-4028-94a9-cb5be391c754\">\n",
              "  <button class=\"colab-df-quickchart\" onclick=\"quickchart('df-009d54b6-c885-4028-94a9-cb5be391c754')\"\n",
              "            title=\"Suggest charts\"\n",
              "            style=\"display:none;\">\n",
              "\n",
              "<svg xmlns=\"http://www.w3.org/2000/svg\" height=\"24px\"viewBox=\"0 0 24 24\"\n",
              "     width=\"24px\">\n",
              "    <g>\n",
              "        <path d=\"M19 3H5c-1.1 0-2 .9-2 2v14c0 1.1.9 2 2 2h14c1.1 0 2-.9 2-2V5c0-1.1-.9-2-2-2zM9 17H7v-7h2v7zm4 0h-2V7h2v10zm4 0h-2v-4h2v4z\"/>\n",
              "    </g>\n",
              "</svg>\n",
              "  </button>\n",
              "\n",
              "<style>\n",
              "  .colab-df-quickchart {\n",
              "      --bg-color: #E8F0FE;\n",
              "      --fill-color: #1967D2;\n",
              "      --hover-bg-color: #E2EBFA;\n",
              "      --hover-fill-color: #174EA6;\n",
              "      --disabled-fill-color: #AAA;\n",
              "      --disabled-bg-color: #DDD;\n",
              "  }\n",
              "\n",
              "  [theme=dark] .colab-df-quickchart {\n",
              "      --bg-color: #3B4455;\n",
              "      --fill-color: #D2E3FC;\n",
              "      --hover-bg-color: #434B5C;\n",
              "      --hover-fill-color: #FFFFFF;\n",
              "      --disabled-bg-color: #3B4455;\n",
              "      --disabled-fill-color: #666;\n",
              "  }\n",
              "\n",
              "  .colab-df-quickchart {\n",
              "    background-color: var(--bg-color);\n",
              "    border: none;\n",
              "    border-radius: 50%;\n",
              "    cursor: pointer;\n",
              "    display: none;\n",
              "    fill: var(--fill-color);\n",
              "    height: 32px;\n",
              "    padding: 0;\n",
              "    width: 32px;\n",
              "  }\n",
              "\n",
              "  .colab-df-quickchart:hover {\n",
              "    background-color: var(--hover-bg-color);\n",
              "    box-shadow: 0 1px 2px rgba(60, 64, 67, 0.3), 0 1px 3px 1px rgba(60, 64, 67, 0.15);\n",
              "    fill: var(--button-hover-fill-color);\n",
              "  }\n",
              "\n",
              "  .colab-df-quickchart-complete:disabled,\n",
              "  .colab-df-quickchart-complete:disabled:hover {\n",
              "    background-color: var(--disabled-bg-color);\n",
              "    fill: var(--disabled-fill-color);\n",
              "    box-shadow: none;\n",
              "  }\n",
              "\n",
              "  .colab-df-spinner {\n",
              "    border: 2px solid var(--fill-color);\n",
              "    border-color: transparent;\n",
              "    border-bottom-color: var(--fill-color);\n",
              "    animation:\n",
              "      spin 1s steps(1) infinite;\n",
              "  }\n",
              "\n",
              "  @keyframes spin {\n",
              "    0% {\n",
              "      border-color: transparent;\n",
              "      border-bottom-color: var(--fill-color);\n",
              "      border-left-color: var(--fill-color);\n",
              "    }\n",
              "    20% {\n",
              "      border-color: transparent;\n",
              "      border-left-color: var(--fill-color);\n",
              "      border-top-color: var(--fill-color);\n",
              "    }\n",
              "    30% {\n",
              "      border-color: transparent;\n",
              "      border-left-color: var(--fill-color);\n",
              "      border-top-color: var(--fill-color);\n",
              "      border-right-color: var(--fill-color);\n",
              "    }\n",
              "    40% {\n",
              "      border-color: transparent;\n",
              "      border-right-color: var(--fill-color);\n",
              "      border-top-color: var(--fill-color);\n",
              "    }\n",
              "    60% {\n",
              "      border-color: transparent;\n",
              "      border-right-color: var(--fill-color);\n",
              "    }\n",
              "    80% {\n",
              "      border-color: transparent;\n",
              "      border-right-color: var(--fill-color);\n",
              "      border-bottom-color: var(--fill-color);\n",
              "    }\n",
              "    90% {\n",
              "      border-color: transparent;\n",
              "      border-bottom-color: var(--fill-color);\n",
              "    }\n",
              "  }\n",
              "</style>\n",
              "\n",
              "  <script>\n",
              "    async function quickchart(key) {\n",
              "      const quickchartButtonEl =\n",
              "        document.querySelector('#' + key + ' button');\n",
              "      quickchartButtonEl.disabled = true;  // To prevent multiple clicks.\n",
              "      quickchartButtonEl.classList.add('colab-df-spinner');\n",
              "      try {\n",
              "        const charts = await google.colab.kernel.invokeFunction(\n",
              "            'suggestCharts', [key], {});\n",
              "      } catch (error) {\n",
              "        console.error('Error during call to suggestCharts:', error);\n",
              "      }\n",
              "      quickchartButtonEl.classList.remove('colab-df-spinner');\n",
              "      quickchartButtonEl.classList.add('colab-df-quickchart-complete');\n",
              "    }\n",
              "    (() => {\n",
              "      let quickchartButtonEl =\n",
              "        document.querySelector('#df-009d54b6-c885-4028-94a9-cb5be391c754 button');\n",
              "      quickchartButtonEl.style.display =\n",
              "        google.colab.kernel.accessAllowed ? 'block' : 'none';\n",
              "    })();\n",
              "  </script>\n",
              "</div>\n",
              "\n",
              "    </div>\n",
              "  </div>\n"
            ],
            "application/vnd.google.colaboratory.intrinsic+json": {
              "type": "dataframe",
              "variable_name": "news_data",
              "summary": "{\n  \"name\": \"news_data\",\n  \"rows\": 1045,\n  \"fields\": [\n    {\n      \"column\": \"id\",\n      \"properties\": {\n        \"dtype\": \"number\",\n        \"std\": 301,\n        \"min\": 0,\n        \"max\": 1044,\n        \"num_unique_values\": 1045,\n        \"samples\": [\n          773,\n          280,\n          629\n        ],\n        \"semantic_type\": \"\",\n        \"description\": \"\"\n      }\n    },\n    {\n      \"column\": \"title\",\n      \"properties\": {\n        \"dtype\": \"string\",\n        \"num_unique_values\": 1016,\n        \"samples\": [\n          \"The L.P.G.A. Tour and Donald Trump: It\\u2019s Complicated - The New York Times\",\n          \"\\u2018Veep\\u2019 Season 5, Episode 7: Do a Little Dance ... - The New York Times\",\n          \"New World Order Pushes Back on Brexit Revolution\"\n        ],\n        \"semantic_type\": \"\",\n        \"description\": \"\"\n      }\n    },\n    {\n      \"column\": \"author\",\n      \"properties\": {\n        \"dtype\": \"string\",\n        \"num_unique_values\": 585,\n        \"samples\": [\n          \"Elliot Bougis\",\n          \"Ryan Banister\",\n          \"Warner Todd Huston\"\n        ],\n        \"semantic_type\": \"\",\n        \"description\": \"\"\n      }\n    },\n    {\n      \"column\": \"text\",\n      \"properties\": {\n        \"dtype\": \"string\",\n        \"num_unique_values\": 1033,\n        \"samples\": [\n          \"RIO DE JANEIRO  \\u2014   The lives of the world\\u2019s top golfers revolve around a village much smaller than the facilities in and around Olympic Park, where they received a warm reception in the sport\\u2019s return to the Olympic program after a   absence. In a typical week on the PGA Tour, the players are handed the keys to luxury vehicles. In Rio de Janeiro, they rode in shuttle buses or were driven around in armored cars by members of a security detail. On Sunday, a week after Bubba Watson finished in a tie for 25th at the PGA Tour stop in Connecticut and collected a $47, 226. 66 check, he earned nothing for finishing tied for eighth at the Rio Games, which he described as \\u201cone of the greatest golf trips I\\u2019ve ever been on. \\u201d The biosphere that the golfers normally inhabit was broadened immeasurably during the weeklong competition that culminated with the coronation of Britain\\u2019s Justin Rose, who closed with a   67 to win the first gold medal awarded in golf since 1904. Rose, the 2013 United States Open champion, finished at 16 under par, two strokes ahead of the reigning British Open champion, Henrik Stenson of Sweden. Rose and Stenson arrived at the 18th hole tied at 15 under. Rose hit his third shot about three feet from the hole and then watched as Stenson   for bogey. Rose made his birdie putt to claim the gold. Matt Kuchar of the United States carded the day\\u2019s lowest round, a 63, to claim the bronze at 13 under. As he came off the 18th green, Kuchar pulled his wife, Sybi, into a lingering embrace. When they separated, he told her, \\u201cI\\u2019ve never been so happy with a   finish in my life. \\u201d Despite not winning a medal, Watson, a   Masters champion, said: \\u201cThis is the greatest sporting event I\\u2019ve ever been a part of. I get to go to the Masters for the rest of my life, but it\\u2019s just golf. \\u201d The sport\\u2019s return to the Olympics got off to an inauspicious start, with many of the best players, including the top four in the rankings, opting out because of health concerns, security fears and scheduling issues. Those who came appeared prepared to leave with lasting memories and no apparent regrets. \\u201cOnce we got down here, we realized what a great experience it was,\\u201d said Rose, who was inspired to win a medal for his wife, Kate, a former member of the British acrobatic gymnastics team. She was a European champion who rose to fourth in the world before retiring at age 17 without having had a chance to compete in the Olympics because her sport was not included in the Summer Games. \\u201cI was very excited about golf in the Olympics,\\u201d Kate Rose said. \\u201cAt least one of us will get to the Olympics. So from the beginning, he really embraced it. \\u201d While golf\\u2019s   Big Four  \\u2014   Jason Day, Dustin Johnson, Jordan Spieth and Rory McIlroy  \\u2014   stayed home, Rose and his wife ventured out to watch gymnastics. Watson turned up at diving, swimming, women\\u2019s field hockey and men\\u2019s basketball sessions. Stenson checked in at handball matches. When golfers talk about their team, they typically mean their caddies. At the Olympics, Rose\\u2019s support group included all the athletes competing for Britain and every fan on the course waving the Union Jack. A sellout crowd of 12, 000 flocked to the course Sunday. The spectators\\u2019   support for their countrymen dispelled the notion that golf is an individual sport. \\u201cWith the flags and everything, it\\u2019s as emotional as I\\u2019ve ever felt about a win,\\u201d said Rose\\u2019s caddie, Mark Fulcher. \\u201cHonestly, bless athletics,\\u201d he added, referring to track and field. \\u201cIt looked great, but it was a   stadium. There was nothing   about this place today. It was an amazing atmosphere. \\u201d At the start of the week, Rose and Fulcher added an app to their phones to receive alerts whenever a British athlete wins a gold medal. \\u201cIt\\u2019s going to be pretty amazing seeing the gold flip up with Rosie,\\u201d Fulcher said. During his down time, Kuchar attended a bronze medal tennis match featuring the American doubles team of Jack Sock and Steve Johnson. He watched the Americans finish off their Canadian opponents and run toward the players\\u2019 box, shouting giddily about getting to wear their \\u201cpodium jackets. \\u201d The scene stuck with Kuchar, who said he got to thinking about how nice it would be to wear the United States jacket that was reserved for the medals ceremony. On Sunday, his eyes welled up as he talked about his podium jacket moment. \\u201cIt was just an overwhelming feeling of pride,\\u201d he said. Kuchar\\u2019s caddie, John Wood, stood by his man all day only to be separated from him for the medals ceremony. Wood did not care that the caddies do not get medals. He choked up and took several seconds to compose himself. \\u201cBeing a part of this,\\u201d Wood said, \\u201cI don\\u2019t need anything else. \\u201d\",\n          \"1212 Views November 07, 2016 5 Comments Blog, Community News and Announcements The Saker \\nIt is with great sadness that we, the Saker Community, have decided to sever our ties with the German Saker blog. For many years the German Saker blog has been one of the most successful and dedicated blogs of our community and we want to sincerely thank Dagmar Henn for the superb job she did as the person in charge of this blog. Recently, however, the German Saker blog has taken a very different tone and has made a number of accusations and statements which have convinced us that we need to part ways. We do that with great sadness. We reserve the right to start another \\u201ccommunity approved\\u201d German Saker blog in the future with a different domain name and we express the hope that the current administrators of the so-called \\u201csaker.de 2.0\\u2033 will agree to stop using the word \\u201csaker\\u201d in their domain and blog name. Any future use of that word by the \\u201csaker.de 2.0\\u2033 would be morally illegitimate and misleading. \\nSigned: French Saker blog, Italian Saker blog, Latin American Saker blog, Oceania Saker blog, Russian Saker blog, Serbian Saker blog, The Saker The Essential Saker: from the trenches of the emerging multipolar world $27.95 \",\n          \"LOS ANGELES  \\u2014   From the stars to the producers to the executives, no one involved with \\u201cThe People v. O. J. Simpson: American Crime Story\\u201d seemed to realize the significance of where they were celebrating their triumphant Emmy night after the awards ceremony Sunday. They were all at an   at an event space called Vibiana, about two blocks from the courthouse where the Simpson case was tried. A couple of decades later, the case was recreated on this FX program, which won the Emmy for best limited series, capping a big night for the show. When the Fox executive Dana Walden heard about the proximity of the courthouse to the party, she said, \\u201cThat just gave me chills,\\u201d a sentiment echoed by FX\\u2019s chief executive, John Landgraf, who called it \\u201ca little chilling. \\u201d But there was one person who understood the odd coincidence of ending up back where it all started, after a circuitous and sometimes torturous route. \\u201cI know where I am,\\u201d Marcia Clark, the prosecutor in the Simpson case, said, a little gravely. She was sitting on a couch, inches away from the actress Sarah Paulson, who was holding the Emmy she won for portraying Ms. Clark. Ms. Clark, who was Ms. Paulson\\u2019s guest at the Emmys, said she couldn\\u2019t help but think about how near the courthouse was on the ride over from the ceremony. It was a bitter reminder for Ms. Clark, who was ridiculed in the news media in the    \\u2014   the perception being that she had blown the prosecution and let Mr. Simpson go free. She has found her public comeback only in the last year, after the explosive popularity of the series and the sympathetic portrayal from Ms. Paulson, who in her acceptance speech for her best actress award offered up a moving public apology to Ms. Clark. \\u201cThe world saw me in sound bites,\\u201d Ms. Clark said. \\u201cNow I feel like I\\u2019m more understood. \\u201d As Ryan Murphy, the prolific television producer who shepherded this show, put it: \\u201cThe great story tonight is Marcia Clark finally won. \\u201d And so did FX. At the Emmys, it\\u2019s usually an HBO night, and to a certain extent it was again: The premium cable channel won the best drama and comedy categories for a second consecutive year with \\u201cGame of Thrones\\u201d and \\u201cVeep. \\u201d It also broke Comedy Central\\u2019s hold on the variety category, with a victory by John Oliver\\u2019s \\u201cLast Week Tonight. \\u2019\\u2019 But propelled by a category that FX is reinventing  \\u2014   the limited series  \\u2014   the network arguably stole the show, smashing the basic cable Emmy record by winning 18 awards over all. The previous record was eight awards. The FX show also won acting Emmys for Courtney B. Vance\\u2019s portrayal of the defense lawyer Johnnie Cochran and Sterling K. Brown\\u2019s depiction of another prosecutor, Christopher Darden. (Louie Anderson won his first Emmy for his role as the mother of Zach Galifianakis\\u2019s character in FX\\u2019s \\u201cBaskets. \\u201d) Mr. Landgraf has said in the past that he feels like he has to play \\u201cMoneyball\\u201d to compete with his rivals. Last month, he said his budget was about a sixth the size of Netflix\\u2019s. (Netflix\\u2019s programming budget is about $6 billion, HBO\\u2019s is $3 billion, and FX\\u2019s is about $1 billion.) But despite that, FX outshined them on Sunday. The success of the O. J. show wasn\\u2019t a sure thing. For decades, Hollywood did everything it could to stay away from the Bronco chase, Judge Lance A. Ito and the trial, in what proved to be a divisive national episode. \\u201cLike most things, it\\u2019s a   in retrospect, but it wasn\\u2019t at the time,\\u201d said Brad Simpson, a producer of the show, with his Emmy in hand. \\u201cThere was such a heavy saturation of O. J. that nobody wanted to hear about it again. When we announced the show, all the comments were, \\u2018Oh lord, don\\u2019t put the country through this again.\\u2019 But the show touched on things that obsesses America: class, race, the criminal justice system. \\u201d By turning it into a limited series, which requires a relatively easy time commitment, FX was able to attract actors including John Travolta, Cuba Gooding Jr. and David Schwimmer. (All were nominated for awards on Sunday night.) And though the Academy Awards have been criticized for their   lineup of acting nominees, the Emmys have done better with diversity: Three   won acting awards on Sunday, including Mr. Vance and Mr. Brown from \\u201cThe People v. O. J. Simpson. \\u201d \\u201cActors and directors follow the writing,\\u201d Mr. Vance said at the party. \\u201cThe writers in TV are writing for different hues of color. Hopefully the movies start to see that if you want to get the people, you better do the writing. \\u201d Mr. Murphy, the producer, has been a regular at the Emmys (he\\u2019s the man behind shows including \\u201cGlee,\\u201d \\u201c \\u201d and \\u201cAmerican Horror Story\\u201d) and he said that between the diversity onstage and the large number of   winners, Sunday night\\u2019s ceremony represented \\u201ca sea change. \\u201d \\u201cI feel like sometimes you go to those award shows, and there are some people who win over and over again, but it wasn\\u2019t that type of night,\\u201d he said. \\u201cThe Television Academy and the voters have moved onto a different feeling, a different embrace, and it felt good. \\u201d There was arguably nobody who benefited more on Sunday night than Ms. Clark. Though Ms. Paulson was joined at the hip with Ms. Clark on Sunday, the two did not meet until late in production. They\\u2019ve become close since then, and Ms. Paulson provided one of the night\\u2019s stirring moments when she apologized to Ms. Clark during her acceptance speech, saying that the public in the 1990s was \\u201csuperficial and careless. \\u201d Ms. Clark seemed to be enjoying the rehabilitation of her reputation. \\u201cI think the benefit of this   was people got to see the fullness of everyone involved,\\u201d she said. \\u201cNot just me. Chris Darden, too. Everyone. As well as the historical context. I think everybody got more of what was going on, more than they did ever before. \\u201d For two hours, Ms. Clark and Ms. Paulson sat cozily in a corner near Mr. Murphy and the \\u201cNarcos\\u201d star Pedro Pascal. At a little before midnight, Ms. Paulson got up to leave with Ms. Clark. As they walked through a courtyard, a group of young women were gawking at them, but they weren\\u2019t interested in the one holding the Emmy. \\u201cOh my God, that\\u2019s Marcia Clark!\\u201d one woman said. Ms. Clark heard it, looked over, pointed triumphantly and waved. She walked out of the party and toward an S. U. V. with Ms. Paulson, and just a few blocks away from her first brush with fame, Ms. Clark finally had her Hollywood ending.\"\n        ],\n        \"semantic_type\": \"\",\n        \"description\": \"\"\n      }\n    },\n    {\n      \"column\": \"label\",\n      \"properties\": {\n        \"dtype\": \"number\",\n        \"std\": 0,\n        \"min\": 0,\n        \"max\": 1,\n        \"num_unique_values\": 2,\n        \"samples\": [\n          0,\n          1\n        ],\n        \"semantic_type\": \"\",\n        \"description\": \"\"\n      }\n    }\n  ]\n}"
            }
          },
          "metadata": {},
          "execution_count": 8
        }
      ],
      "source": [
        "# Displays the first 5 rows of the dataset.\n",
        "news_data.head()"
      ]
    },
    {
      "cell_type": "code",
      "execution_count": 9,
      "metadata": {
        "id": "gNRnrRVBe6DQ"
      },
      "outputs": [],
      "source": [
        "# Replace missing or NaN values with an empty string\n",
        "news_data.fillna('', inplace=True)  # Fill missing values with an empty string\n"
      ]
    },
    {
      "cell_type": "code",
      "execution_count": 10,
      "metadata": {
        "colab": {
          "base_uri": "https://localhost:8080/"
        },
        "id": "jrL8wy9tgi-m",
        "outputId": "67c1e22d-a5f6-4c4d-bfaa-a46de81995c0"
      },
      "outputs": [
        {
          "output_type": "execute_result",
          "data": {
            "text/plain": [
              "(1045, 5)"
            ]
          },
          "metadata": {},
          "execution_count": 10
        }
      ],
      "source": [
        "# Checking the shape of the dataset\n",
        "news_data.shape    # Outputs the number of rows and columns in the dataset."
      ]
    },
    {
      "cell_type": "code",
      "execution_count": 11,
      "metadata": {
        "id": "uY9vTFHbQt2z"
      },
      "outputs": [],
      "source": [
        "# Merging the author name and news title\n",
        "news_data['content'] = news_data['author']+' '+news_data['title']\n"
      ]
    },
    {
      "cell_type": "code",
      "execution_count": 12,
      "metadata": {
        "colab": {
          "base_uri": "https://localhost:8080/"
        },
        "id": "hJG-hDaCSH6D",
        "outputId": "fe4bdcf7-1eb4-44d9-c89b-0601808106fb"
      },
      "outputs": [
        {
          "output_type": "stream",
          "name": "stdout",
          "text": [
            "0       Darrell Lucus House Dem Aide: We Didn’t Even S...\n",
            "1       Daniel J. Flynn FLYNN: Hillary Clinton, Big Wo...\n",
            "2       Consortiumnews.com Why the Truth Might Get You...\n",
            "3       Jessica Purkiss 15 Civilians Killed In Single ...\n",
            "4       Howard Portnoy Iranian woman jailed for fictio...\n",
            "                              ...                        \n",
            "1040    Nicholas Confessore and Rachel Shorey Outside ...\n",
            "1041    Joel B. Pollak Fake News: New York Times Targe...\n",
            "1042    Michael Wilson, Samantha Schmidt and Sarah Mas...\n",
            "1043    Jerome Hudson Resistance: Schwarzenegger Calls...\n",
            "1044    Christine Hauser Virginia Officials Request U....\n",
            "Name: content, Length: 1045, dtype: object\n"
          ]
        }
      ],
      "source": [
        "print(news_data['content'])"
      ]
    },
    {
      "cell_type": "code",
      "execution_count": 13,
      "metadata": {
        "colab": {
          "base_uri": "https://localhost:8080/",
          "height": 293
        },
        "id": "S-QDU9dbSXbQ",
        "outputId": "4b8f6a6d-661a-445c-bffa-e3af5ed7ae45"
      },
      "outputs": [
        {
          "output_type": "execute_result",
          "data": {
            "text/plain": [
              "   id                                              title              author  \\\n",
              "0   0  House Dem Aide: We Didn’t Even See Comey’s Let...       Darrell Lucus   \n",
              "1   1  FLYNN: Hillary Clinton, Big Woman on Campus - ...     Daniel J. Flynn   \n",
              "2   2                  Why the Truth Might Get You Fired  Consortiumnews.com   \n",
              "3   3  15 Civilians Killed In Single US Airstrike Hav...     Jessica Purkiss   \n",
              "4   4  Iranian woman jailed for fictional unpublished...      Howard Portnoy   \n",
              "\n",
              "                                                text  label  \\\n",
              "0  House Dem Aide: We Didn’t Even See Comey’s Let...      1   \n",
              "1  Ever get the feeling your life circles the rou...      0   \n",
              "2  Why the Truth Might Get You Fired October 29, ...      1   \n",
              "3  Videos 15 Civilians Killed In Single US Airstr...      1   \n",
              "4  Print \\nAn Iranian woman has been sentenced to...      1   \n",
              "\n",
              "                                             content  \n",
              "0  Darrell Lucus House Dem Aide: We Didn’t Even S...  \n",
              "1  Daniel J. Flynn FLYNN: Hillary Clinton, Big Wo...  \n",
              "2  Consortiumnews.com Why the Truth Might Get You...  \n",
              "3  Jessica Purkiss 15 Civilians Killed In Single ...  \n",
              "4  Howard Portnoy Iranian woman jailed for fictio...  "
            ],
            "text/html": [
              "\n",
              "  <div id=\"df-81c5d256-7e09-4eac-b8c6-4321af61405b\" class=\"colab-df-container\">\n",
              "    <div>\n",
              "<style scoped>\n",
              "    .dataframe tbody tr th:only-of-type {\n",
              "        vertical-align: middle;\n",
              "    }\n",
              "\n",
              "    .dataframe tbody tr th {\n",
              "        vertical-align: top;\n",
              "    }\n",
              "\n",
              "    .dataframe thead th {\n",
              "        text-align: right;\n",
              "    }\n",
              "</style>\n",
              "<table border=\"1\" class=\"dataframe\">\n",
              "  <thead>\n",
              "    <tr style=\"text-align: right;\">\n",
              "      <th></th>\n",
              "      <th>id</th>\n",
              "      <th>title</th>\n",
              "      <th>author</th>\n",
              "      <th>text</th>\n",
              "      <th>label</th>\n",
              "      <th>content</th>\n",
              "    </tr>\n",
              "  </thead>\n",
              "  <tbody>\n",
              "    <tr>\n",
              "      <th>0</th>\n",
              "      <td>0</td>\n",
              "      <td>House Dem Aide: We Didn’t Even See Comey’s Let...</td>\n",
              "      <td>Darrell Lucus</td>\n",
              "      <td>House Dem Aide: We Didn’t Even See Comey’s Let...</td>\n",
              "      <td>1</td>\n",
              "      <td>Darrell Lucus House Dem Aide: We Didn’t Even S...</td>\n",
              "    </tr>\n",
              "    <tr>\n",
              "      <th>1</th>\n",
              "      <td>1</td>\n",
              "      <td>FLYNN: Hillary Clinton, Big Woman on Campus - ...</td>\n",
              "      <td>Daniel J. Flynn</td>\n",
              "      <td>Ever get the feeling your life circles the rou...</td>\n",
              "      <td>0</td>\n",
              "      <td>Daniel J. Flynn FLYNN: Hillary Clinton, Big Wo...</td>\n",
              "    </tr>\n",
              "    <tr>\n",
              "      <th>2</th>\n",
              "      <td>2</td>\n",
              "      <td>Why the Truth Might Get You Fired</td>\n",
              "      <td>Consortiumnews.com</td>\n",
              "      <td>Why the Truth Might Get You Fired October 29, ...</td>\n",
              "      <td>1</td>\n",
              "      <td>Consortiumnews.com Why the Truth Might Get You...</td>\n",
              "    </tr>\n",
              "    <tr>\n",
              "      <th>3</th>\n",
              "      <td>3</td>\n",
              "      <td>15 Civilians Killed In Single US Airstrike Hav...</td>\n",
              "      <td>Jessica Purkiss</td>\n",
              "      <td>Videos 15 Civilians Killed In Single US Airstr...</td>\n",
              "      <td>1</td>\n",
              "      <td>Jessica Purkiss 15 Civilians Killed In Single ...</td>\n",
              "    </tr>\n",
              "    <tr>\n",
              "      <th>4</th>\n",
              "      <td>4</td>\n",
              "      <td>Iranian woman jailed for fictional unpublished...</td>\n",
              "      <td>Howard Portnoy</td>\n",
              "      <td>Print \\nAn Iranian woman has been sentenced to...</td>\n",
              "      <td>1</td>\n",
              "      <td>Howard Portnoy Iranian woman jailed for fictio...</td>\n",
              "    </tr>\n",
              "  </tbody>\n",
              "</table>\n",
              "</div>\n",
              "    <div class=\"colab-df-buttons\">\n",
              "\n",
              "  <div class=\"colab-df-container\">\n",
              "    <button class=\"colab-df-convert\" onclick=\"convertToInteractive('df-81c5d256-7e09-4eac-b8c6-4321af61405b')\"\n",
              "            title=\"Convert this dataframe to an interactive table.\"\n",
              "            style=\"display:none;\">\n",
              "\n",
              "  <svg xmlns=\"http://www.w3.org/2000/svg\" height=\"24px\" viewBox=\"0 -960 960 960\">\n",
              "    <path d=\"M120-120v-720h720v720H120Zm60-500h600v-160H180v160Zm220 220h160v-160H400v160Zm0 220h160v-160H400v160ZM180-400h160v-160H180v160Zm440 0h160v-160H620v160ZM180-180h160v-160H180v160Zm440 0h160v-160H620v160Z\"/>\n",
              "  </svg>\n",
              "    </button>\n",
              "\n",
              "  <style>\n",
              "    .colab-df-container {\n",
              "      display:flex;\n",
              "      gap: 12px;\n",
              "    }\n",
              "\n",
              "    .colab-df-convert {\n",
              "      background-color: #E8F0FE;\n",
              "      border: none;\n",
              "      border-radius: 50%;\n",
              "      cursor: pointer;\n",
              "      display: none;\n",
              "      fill: #1967D2;\n",
              "      height: 32px;\n",
              "      padding: 0 0 0 0;\n",
              "      width: 32px;\n",
              "    }\n",
              "\n",
              "    .colab-df-convert:hover {\n",
              "      background-color: #E2EBFA;\n",
              "      box-shadow: 0px 1px 2px rgba(60, 64, 67, 0.3), 0px 1px 3px 1px rgba(60, 64, 67, 0.15);\n",
              "      fill: #174EA6;\n",
              "    }\n",
              "\n",
              "    .colab-df-buttons div {\n",
              "      margin-bottom: 4px;\n",
              "    }\n",
              "\n",
              "    [theme=dark] .colab-df-convert {\n",
              "      background-color: #3B4455;\n",
              "      fill: #D2E3FC;\n",
              "    }\n",
              "\n",
              "    [theme=dark] .colab-df-convert:hover {\n",
              "      background-color: #434B5C;\n",
              "      box-shadow: 0px 1px 3px 1px rgba(0, 0, 0, 0.15);\n",
              "      filter: drop-shadow(0px 1px 2px rgba(0, 0, 0, 0.3));\n",
              "      fill: #FFFFFF;\n",
              "    }\n",
              "  </style>\n",
              "\n",
              "    <script>\n",
              "      const buttonEl =\n",
              "        document.querySelector('#df-81c5d256-7e09-4eac-b8c6-4321af61405b button.colab-df-convert');\n",
              "      buttonEl.style.display =\n",
              "        google.colab.kernel.accessAllowed ? 'block' : 'none';\n",
              "\n",
              "      async function convertToInteractive(key) {\n",
              "        const element = document.querySelector('#df-81c5d256-7e09-4eac-b8c6-4321af61405b');\n",
              "        const dataTable =\n",
              "          await google.colab.kernel.invokeFunction('convertToInteractive',\n",
              "                                                    [key], {});\n",
              "        if (!dataTable) return;\n",
              "\n",
              "        const docLinkHtml = 'Like what you see? Visit the ' +\n",
              "          '<a target=\"_blank\" href=https://colab.research.google.com/notebooks/data_table.ipynb>data table notebook</a>'\n",
              "          + ' to learn more about interactive tables.';\n",
              "        element.innerHTML = '';\n",
              "        dataTable['output_type'] = 'display_data';\n",
              "        await google.colab.output.renderOutput(dataTable, element);\n",
              "        const docLink = document.createElement('div');\n",
              "        docLink.innerHTML = docLinkHtml;\n",
              "        element.appendChild(docLink);\n",
              "      }\n",
              "    </script>\n",
              "  </div>\n",
              "\n",
              "\n",
              "<div id=\"df-3f80248a-d372-4b04-9c3f-448ea8411748\">\n",
              "  <button class=\"colab-df-quickchart\" onclick=\"quickchart('df-3f80248a-d372-4b04-9c3f-448ea8411748')\"\n",
              "            title=\"Suggest charts\"\n",
              "            style=\"display:none;\">\n",
              "\n",
              "<svg xmlns=\"http://www.w3.org/2000/svg\" height=\"24px\"viewBox=\"0 0 24 24\"\n",
              "     width=\"24px\">\n",
              "    <g>\n",
              "        <path d=\"M19 3H5c-1.1 0-2 .9-2 2v14c0 1.1.9 2 2 2h14c1.1 0 2-.9 2-2V5c0-1.1-.9-2-2-2zM9 17H7v-7h2v7zm4 0h-2V7h2v10zm4 0h-2v-4h2v4z\"/>\n",
              "    </g>\n",
              "</svg>\n",
              "  </button>\n",
              "\n",
              "<style>\n",
              "  .colab-df-quickchart {\n",
              "      --bg-color: #E8F0FE;\n",
              "      --fill-color: #1967D2;\n",
              "      --hover-bg-color: #E2EBFA;\n",
              "      --hover-fill-color: #174EA6;\n",
              "      --disabled-fill-color: #AAA;\n",
              "      --disabled-bg-color: #DDD;\n",
              "  }\n",
              "\n",
              "  [theme=dark] .colab-df-quickchart {\n",
              "      --bg-color: #3B4455;\n",
              "      --fill-color: #D2E3FC;\n",
              "      --hover-bg-color: #434B5C;\n",
              "      --hover-fill-color: #FFFFFF;\n",
              "      --disabled-bg-color: #3B4455;\n",
              "      --disabled-fill-color: #666;\n",
              "  }\n",
              "\n",
              "  .colab-df-quickchart {\n",
              "    background-color: var(--bg-color);\n",
              "    border: none;\n",
              "    border-radius: 50%;\n",
              "    cursor: pointer;\n",
              "    display: none;\n",
              "    fill: var(--fill-color);\n",
              "    height: 32px;\n",
              "    padding: 0;\n",
              "    width: 32px;\n",
              "  }\n",
              "\n",
              "  .colab-df-quickchart:hover {\n",
              "    background-color: var(--hover-bg-color);\n",
              "    box-shadow: 0 1px 2px rgba(60, 64, 67, 0.3), 0 1px 3px 1px rgba(60, 64, 67, 0.15);\n",
              "    fill: var(--button-hover-fill-color);\n",
              "  }\n",
              "\n",
              "  .colab-df-quickchart-complete:disabled,\n",
              "  .colab-df-quickchart-complete:disabled:hover {\n",
              "    background-color: var(--disabled-bg-color);\n",
              "    fill: var(--disabled-fill-color);\n",
              "    box-shadow: none;\n",
              "  }\n",
              "\n",
              "  .colab-df-spinner {\n",
              "    border: 2px solid var(--fill-color);\n",
              "    border-color: transparent;\n",
              "    border-bottom-color: var(--fill-color);\n",
              "    animation:\n",
              "      spin 1s steps(1) infinite;\n",
              "  }\n",
              "\n",
              "  @keyframes spin {\n",
              "    0% {\n",
              "      border-color: transparent;\n",
              "      border-bottom-color: var(--fill-color);\n",
              "      border-left-color: var(--fill-color);\n",
              "    }\n",
              "    20% {\n",
              "      border-color: transparent;\n",
              "      border-left-color: var(--fill-color);\n",
              "      border-top-color: var(--fill-color);\n",
              "    }\n",
              "    30% {\n",
              "      border-color: transparent;\n",
              "      border-left-color: var(--fill-color);\n",
              "      border-top-color: var(--fill-color);\n",
              "      border-right-color: var(--fill-color);\n",
              "    }\n",
              "    40% {\n",
              "      border-color: transparent;\n",
              "      border-right-color: var(--fill-color);\n",
              "      border-top-color: var(--fill-color);\n",
              "    }\n",
              "    60% {\n",
              "      border-color: transparent;\n",
              "      border-right-color: var(--fill-color);\n",
              "    }\n",
              "    80% {\n",
              "      border-color: transparent;\n",
              "      border-right-color: var(--fill-color);\n",
              "      border-bottom-color: var(--fill-color);\n",
              "    }\n",
              "    90% {\n",
              "      border-color: transparent;\n",
              "      border-bottom-color: var(--fill-color);\n",
              "    }\n",
              "  }\n",
              "</style>\n",
              "\n",
              "  <script>\n",
              "    async function quickchart(key) {\n",
              "      const quickchartButtonEl =\n",
              "        document.querySelector('#' + key + ' button');\n",
              "      quickchartButtonEl.disabled = true;  // To prevent multiple clicks.\n",
              "      quickchartButtonEl.classList.add('colab-df-spinner');\n",
              "      try {\n",
              "        const charts = await google.colab.kernel.invokeFunction(\n",
              "            'suggestCharts', [key], {});\n",
              "      } catch (error) {\n",
              "        console.error('Error during call to suggestCharts:', error);\n",
              "      }\n",
              "      quickchartButtonEl.classList.remove('colab-df-spinner');\n",
              "      quickchartButtonEl.classList.add('colab-df-quickchart-complete');\n",
              "    }\n",
              "    (() => {\n",
              "      let quickchartButtonEl =\n",
              "        document.querySelector('#df-3f80248a-d372-4b04-9c3f-448ea8411748 button');\n",
              "      quickchartButtonEl.style.display =\n",
              "        google.colab.kernel.accessAllowed ? 'block' : 'none';\n",
              "    })();\n",
              "  </script>\n",
              "</div>\n",
              "\n",
              "    </div>\n",
              "  </div>\n"
            ],
            "application/vnd.google.colaboratory.intrinsic+json": {
              "type": "dataframe",
              "variable_name": "news_data",
              "summary": "{\n  \"name\": \"news_data\",\n  \"rows\": 1045,\n  \"fields\": [\n    {\n      \"column\": \"id\",\n      \"properties\": {\n        \"dtype\": \"number\",\n        \"std\": 301,\n        \"min\": 0,\n        \"max\": 1044,\n        \"num_unique_values\": 1045,\n        \"samples\": [\n          773,\n          280,\n          629\n        ],\n        \"semantic_type\": \"\",\n        \"description\": \"\"\n      }\n    },\n    {\n      \"column\": \"title\",\n      \"properties\": {\n        \"dtype\": \"string\",\n        \"num_unique_values\": 1017,\n        \"samples\": [\n          \"Brother of Clinton\\u2019s Campaign Chair is an Active Foreign Agent on the Saudi Arabian Payroll\",\n          \"Israel is Becoming Pivotal to China\\u2019s Mid-Eastern Calculus http://journal-neo.org/2016/11/07/israel-is-becoming-pivotal-to-china-s-mid-eastern-calculus/\",\n          \"\\u0415\\u0421 \\u043d\\u0430\\u043c\\u0435\\u0440\\u0435\\u043d \\u0440\\u0430\\u0441\\u0448\\u0438\\u0440\\u0438\\u0442\\u044c \\u0441\\u0430\\u043d\\u043a\\u0446\\u0438\\u0438 \\u0432 \\u043e\\u0442\\u043d\\u043e\\u0448\\u0435\\u043d\\u0438\\u0438 \\u0421\\u0438\\u0440\\u0438\\u0438\"\n        ],\n        \"semantic_type\": \"\",\n        \"description\": \"\"\n      }\n    },\n    {\n      \"column\": \"author\",\n      \"properties\": {\n        \"dtype\": \"string\",\n        \"num_unique_values\": 586,\n        \"samples\": [\n          \"John Binder\",\n          \"Adam Goldman, Eric Lichtblau and Matt Apuzzo\",\n          \"TASS\"\n        ],\n        \"semantic_type\": \"\",\n        \"description\": \"\"\n      }\n    },\n    {\n      \"column\": \"text\",\n      \"properties\": {\n        \"dtype\": \"string\",\n        \"num_unique_values\": 1034,\n        \"samples\": [\n          \"BERLIN  \\u2014   A strong relationship with the United States is a bedrock of German foreign policy, so when Chancellor Angela Merkel met President Trump on Friday, German journalists and analysts scrutinized their body language and the tone of their remarks for clues about how they might work together. \\u201cNot warm, but not distant,\\u201d wrote the   newspaper S\\u00fcddeutsche Zeitung in its online edition on Saturday. \\u201cIt could have been a lot worse,\\u201d Germany\\u2019s   daily, Bild, wrote of the relationship that is the cornerstone of the NATO alliance and vital to global security. The initial reaction from Ms. Merkel\\u2019s spokesman, Steffen Seibert, emphasized the positives. Mr. Seibert welcomed Mr. Trump\\u2019s support of efforts to resolve the crisis in Ukraine and  the president\\u2019s confirmation of the importance of NATO. Mr. Seibert also reaffirmed Germany\\u2019s commitment to spend 2 percent of its gross domestic product on its military by 2024, as pledged during last year\\u2019s NATO summit meeting. But that did not seem to be enough for Mr. Trump, who insisted on Twitter early Saturday that Germany owed the alliance \\u201cvast sums of money. \\u201d \\u201cDespite what you have heard from the FAKE NEWS, I had a GREAT meeting with German Chancellor Angela Merkel,\\u201d he wrote. \\u201cNevertheless, Germany owes vast sums of money to NATO  the United States must be paid more for the powerful, and very expensive, defense it provides to Germany!\\u201d According to figures released by the alliance, Germany spent 1. 2 percent of its gross domestic product on its military in 2016, compared with 3. 6 percent for the United States. As security experts have pointed out, NATO members spending more on their defense does not automatically translate into more money being sent to Brussels or Washington. The style of making one point and swiftly changing direction reminded some foreign policy experts of the way Mr. Trump acted on the campaign trail, when his position on certain issues could veer wildly from one day to the next. \\u201cOnce again, we\\u2019ve seen Dr. Jekyll and Mr. Hyde,\\u201d said Sylke Tempel, the editor in chief of Internationale Politik, published by the German Council on Foreign Relations, remarking on the approach that Mr. Trump took during the leaders\\u2019 joint news conference on Friday. \\u201cHe was Mr. Jekyll while reading his statement, saying nice things about economic ties, his commitment to Ukraine, common friendship all the niceties,\\u201d Ms. Tempel said. \\u201cThen, in the    session, he\\u2019s his old self: disparaging the media, criticizing the British. \\u201d Although memories of Ms. Merkel\\u2019s warm relationship with President Barack Obama remain fresh in the minds of many Germans, it took repeated meetings over several years before the chancellor reached that level with Mr. Obama. During a joint news conference in Dresden in June 2009, she displayed stiff body language and a chilly formality, months after she had denied Mr. Obama permission to speak in front of the Brandenburg Gate during the 2008 presidential campaign. In 2006, Mr. Obama\\u2019s predecessor, President George W. Bush, sought to win her over with a playful shoulder rub, a move abruptly rebuffed by the pragmatic chancellor. One year later, however, at the summit meeting of the Group of 8 industrialized nations, she coaxed Mr. Bush to voice support for her vision of a global plan to combat climate change. Yet both of Mr. Trump\\u2019s most recent predecessors followed diplomatic conventions and worked within the institutions established after World War II to foster communication and cooperation among nations. Mr. Trump\\u2019s \\u201cAmerica First\\u201d approach and his disparagement of global trade agreements have caused uncertainty among German politicians and industry leaders. Asked by a German journalist about this approach, the president insisted that while he was not against trade, the United States had been treated unfairly in global trade agreements. \\u201cBut I am not an isolationist,\\u201d he said. Less than 24 hours later, however, Mr. Trump\\u2019s government refused to back a pledge to fully oppose trade protectionism at a meeting in   Germany, of the finance ministers of the Group of 20, which comprises industrial and   countries as well as the European Union. Participants last year had agreed to resist \\u201call forms\\u201d of protectionism. Germans have been both fascinated and horrified by Mr. Trump\\u2019s willingness to ignore the strictures of diplomacy when dealing with foreign leaders. For example, he has castigated Ms. Merkel for allowing refugees to flow into Germany in 2015, and he has called into question   War II alliances, including NATO and the European Union. Germans have not been entirely sure what to make of him. \\u201cOne thing we can depend upon, that we saw yesterday: Donald Trump says what he wants,\\u201d Nikolaus Blome, deputy editor of Bild, wrote in its online edition. \\u201cHe has predictable political interests. What he doesn\\u2019t have is a predictable way to pursue them. \\u201d Ms. Tempel, of the German Council on Foreign Relations, said simply: \\u201cIf this mission was really about getting a first impression, you got your first impression. \\u201d\",\n          \"During Saturday\\u2019s Democratic Weekly Address, House Democratic Caucus Vice Chair Representative Linda S\\u00e1nchez ( ) stated, \\u201d Recently we have seen the President use fear  \\u2014   fear of Muslims and fear of immigrants  \\u2014   as a tool to promote his misguided and poorly developed policies. Policies that not only undermine our American values, but also jeopardize our safety and harm our economy. \\u201d  Transcript as Follows: \\u201cHello. I\\u2019m California Congresswoman Linda S\\u00e1nchez, Vice Chair of the House Democratic Caucus. I am proud to share my family\\u2019s story because it is an American story. I am the daughter of immigrants. My parents came here from Mexico. Like so many immigrants, my parents came to this country and worked hard every day to provide for me, my six brothers and sisters. My father, Ignacio, was an industrial mechanic. My mother, Maria, became an elementary school teacher after first raising a family. They owned their own home. They sent all seven of their children to college. And we give back every day to this country we love. In fact  \\u2014   my parents are the only parents in our nation\\u2019s   history to send  \\u2014   not one  \\u2014   but TWO daughters to the United States Congress! My mother and father saved and sacrificed to achieve the American Dream for our family. They weren\\u2019t handed their success  \\u2014   they earned it! Immigrants, like my parents, are working and contributing to the success of our country every day. They are starting businesses which create jobs, caring for our children and aging parents, serving in our military, and they harvest and prepare the food we eat. Immigrants are woven into the fabric of our country because we are and always will be a nation of immigrants. Recently we have seen the President use fear  \\u2014   fear of Muslims and fear of immigrants  \\u2014   as a tool to promote his misguided and poorly developed policies. Policies that not only undermine our American values, but also jeopardize our safety and harm our economy. Democrats agree that removing violent criminals should be the priority. But tearing families apart through mass deportations does not make our country safer and wastes our precious resources. Banning refugees who have already been thoroughly vetted wastes resources. Building useless walls instead of fixing our roads and bridges wastes resources. We cannot let the politics of fear and suspicion, distract us from our priorities. Democrats want to make this country work for all Americans. We believe in making America greater by fighting for economic growth that benefits everyone. Our agenda is simple: Keep America safe, keep America working, and keep America moving forward. And I know that so many of you share those same priorities. Over the past month, millions of Americans are getting involved and taking action in their communities. We have seen organized demonstrations in cities all across our country. Men and women from every walk of life coming together to stand up and speak out against a hateful and divisive agenda. They are sending a clear message: We will resist. We will persist. It was volunteer lawyers with laptops sitting on cold airport floors that led the fight against the President\\u2019s reckless Muslim ban. It was a group of entrepreneurial women who organized a march in Washington with crowds surpassing the inauguration. President Lincoln said, \\u2018Public sentiment is everything.\\u2019 Because in this country, it is the people who have the ultimate power. I beg you, keep flexing your power. The fight we are in right now is not a fight over politics. It is a fight for the future of our country. And we are in this fight together. If you share our commitment to the success of working men and women all across our nation, stay with us in this fight. Do not give up hope. Do not give in to anger and fear. Do not stop fighting for what you think is best for our country. If we keep up the fight  \\u2014   we will win. And together we will make our country even greater. Thank you. And may God bless the United States of America. \\u201d Follow Ian Hanchett on Twitter @IanHanchett\",\n          \"LONDON  \\u2014   \\u201cGet on with it. \\u201d With those words late in a major speech on Tuesday, Prime Minister Theresa May charted Britain\\u2019s course toward a clean break with the European Union and expressed her fondest hope: that the time for \\u201cdivision and discord\\u201d is over. Her   speech outlined what promised to be a hugely complex,   negotiation, and it defined the broad objectives, but not the details, of British withdrawal. \\u201cThe United Kingdom is leaving the European Union, and my job is to get the right deal for Britain as we do,\\u201d she said. With the address, Mrs. May began the jockeying that will lead to a break after more than four decades of tight integration, and define Britain\\u2019s relations with its neighbors for decades to come. She confirmed that Britain is determined to regain control of migration from the European Union and rejected the supremacy of the European Court of Justice. That stance is anathema to the European Union, which has made the free movement of people  \\u2014   as well as goods, capital and services  \\u2014   a bedrock principle and which relies on the court to arbitrate. \\u201cLet me be clear,\\u201d Mrs. May said, acknowledging the differences. \\u201cWhat I am proposing cannot mean remaining in the single market. \\u201d She said that she hoped to complete a final deal with the European Union by March 2019 and that it would be voted on by both houses of Parliament. She was not clear about what would happen if Parliament rejected the deal, though some speculated that a rejection would result in the sort of chaotic, \\u201ccliff edge\\u201d breakup that she and Britain\\u2019s bankers and business leaders hoped to avoid. Mrs. May struck a diplomatic note, including an appeal for a new partnership with Continental Europe, but not at all costs. \\u201cWe seek a new and equal partnership  \\u2014   between an independent,   global Britain and our friends and allies in the E. U.,\\u201d Mrs. May said. \\u201cNot partial membership of the European Union, associate membership of the European Union, or anything that leaves us half in, half out. \\u201d And she appealed to Britons, especially to those in Scotland, Wales and Northern Ireland, to unite behind the government and stop refighting the referendum that backed leaving the bloc, which she had opposed. The reaction among her opponents in the \\u201cremain\\u201d camp was predictably harsh and seemed to herald a long and bruising process. \\u201cTheresa May has confirmed Britain is heading for a hard Brexit,\\u201d said Tim Farron, the leader of the centrist Liberal Democrats. \\u201cShe claimed people voted to leave the single market. They didn\\u2019t. She has made the choice to do massive damage to the British economy. \\u201d The Labour leader, Jeremy Corbyn, accused the Tories of turning Britain into \\u201ca   tax haven,\\u201d with their recent threat to slash corporate taxes if a good deal cannot be reached with the European Union. The speech, which provided some degree of substance, gained a warmer reception in the markets, with the pound seeming to stabilize after several jittery days. It rose as much as 1 percent against the dollar during her speech, while stocks on the London exchange fell. Supporters of a withdrawal have been encouraged as well by reports that other countries in the bloc have recognized that they might suffer if there was a complete rupture and they were denied access to London\\u2019s financial services sector. But British businesses remained nervous. Carolyn Fairbairn, director general of the Confederation of British Industry, a business lobbying group, welcomed the greater clarity provided by Mrs. May but worried that \\u201cruling out membership of the single market has reduced options for maintaining a   trading relationship between the U. K. and the E. U. \\u201d Kallum Pickering, senior Britain economist at Berenberg Bank in London, was more blunt, writing in an analysis that \\u201cas we do not expect the E. U. to compromise its principles, the U. K. is set to face significant economic consequences from Brexit. \\u201d Few analysts expect the negotiations to go as smoothly or as quickly as Mrs. May seemed to say in her speech. In recognition of the troubles that may lie ahead, Mark Boleat, the policy chairman for the City of London Corporation, the heart of Britain\\u2019s financial services industry, urged Mrs. May to swiftly secure a transition deal that would provide the certainty that businesses crave. Charles Brasted, a partner at Hogan Lovells, an international law firm, cautioned that the deal Mrs. May wanted was likely to be seen by the European Union as \\u201cprecisely the cherry picking that they have warned against. \\u201d He added: \\u201cThe objectives are now clear. The path towards them is uncharted. \\u201d But he warned that \\u201cevery one of the aspirations expressed by the U. K. government today will demand exceptional political skill to negotiate and will be complex to implement legally and commercially. \\u201d In Europe, Donald Tusk, the president of the European Council, said on Twitter: \\u201cSad process, surrealistic times but at least more realistic announcement on #Brexit. \\u201d Germany\\u2019s foreign minister,   Steinmeier, welcomed Mrs. May\\u2019s \\u201cdesire for a positive and constructive partnership, a friendship with a strong E. U.,\\u201d which Germany would reciprocate. Mrs. May\\u2019s speech, delivered in the grand surroundings of Lancaster House in London, was the most closely watched statement on European policy since January 2013, when the prime minister at the time, David Cameron, promised to hold a referendum on European Union membership. The prospect that Britain would remain part of the single market has been fading since Mrs. May said in October that she would demand complete control of migration from the European Union and release from the European Court of Justice. The extent to which Mrs. May would be willing to compromise to maintain some access to the single market and to the customs union for goods was less clear. Membership in the customs union limits the ability of member countries to strike individual   deals with   nations. So she said she wanted a deal that would allow Britain to trade freely with the world, but still have as much   trade as possible with European Union countries. Ideally, Britain would like to have its cake and eat it, in the memorable phrase of the foreign secretary, Boris Johnson. In other words, Britain would reject what it disliked about the bloc, like freedom of movement, but keep trade unencumbered as it tried to get the best possible trading deal consistent with its other objectives. While European nations are expected to be stingy with market access, Mr. Pickering says he believes they will eventually bend. In the final deal, he wrote, he still expects Britain and the European Union to agree to a deal in which \\u201cthe U. K. maintains a good level of access to the E. U.\\u2019s goods markets and limited access to the   services markets. \\u201d \\u201cCrucially, we expect the U. K. to lose its E. U. financial services passport,\\u201d Mr. Pickering wrote, referring to a system that allowed banks based in Britain to offer financial services throughout the bloc. \\u201cThis follows from the U. K. raising some modest barriers to migration from the E. U. \\u201d Many European Union countries have backed taking a hard line against Britain to send a message to other member states that might consider leaving. Anticipating that, Mrs. May said that Britain wanted a successful European Union and a friendly partnership, but that \\u201cno deal for Britain is better than a bad deal for Britain. \\u201d\"\n        ],\n        \"semantic_type\": \"\",\n        \"description\": \"\"\n      }\n    },\n    {\n      \"column\": \"label\",\n      \"properties\": {\n        \"dtype\": \"number\",\n        \"std\": 0,\n        \"min\": 0,\n        \"max\": 1,\n        \"num_unique_values\": 2,\n        \"samples\": [\n          0,\n          1\n        ],\n        \"semantic_type\": \"\",\n        \"description\": \"\"\n      }\n    },\n    {\n      \"column\": \"content\",\n      \"properties\": {\n        \"dtype\": \"string\",\n        \"num_unique_values\": 1043,\n        \"samples\": [\n          \" Un terremoto de magnitud 5,0 sacude Per\\u00fa - RT\",\n          \"Anonymous Coward (UID 11897093) Do you think there will be as many doom sayers if trump should get in office ?\"\n        ],\n        \"semantic_type\": \"\",\n        \"description\": \"\"\n      }\n    }\n  ]\n}"
            }
          },
          "metadata": {},
          "execution_count": 13
        }
      ],
      "source": [
        "news_data.head()"
      ]
    },
    {
      "cell_type": "code",
      "execution_count": 14,
      "metadata": {
        "id": "hKNqEwy5Sx95"
      },
      "outputs": [],
      "source": [
        "# Splitting features (X) and target (y)\n",
        "X = news_data.drop(columns='label', axis=1)\n",
        "y = news_data['label']"
      ]
    },
    {
      "cell_type": "code",
      "execution_count": 15,
      "metadata": {
        "colab": {
          "base_uri": "https://localhost:8080/"
        },
        "id": "mCC1yvxITeMP",
        "outputId": "ac1e00b3-7ed0-402a-f7ed-4bc3d8b1b0d1"
      },
      "outputs": [
        {
          "output_type": "stream",
          "name": "stdout",
          "text": [
            "        id                                              title  \\\n",
            "0        0  House Dem Aide: We Didn’t Even See Comey’s Let...   \n",
            "1        1  FLYNN: Hillary Clinton, Big Woman on Campus - ...   \n",
            "2        2                  Why the Truth Might Get You Fired   \n",
            "3        3  15 Civilians Killed In Single US Airstrike Hav...   \n",
            "4        4  Iranian woman jailed for fictional unpublished...   \n",
            "...    ...                                                ...   \n",
            "1040  1040  Outside Money Favors Hillary Clinton at a 2-to...   \n",
            "1041  1041  Fake News: New York Times Targets Breitbart fo...   \n",
            "1042  1042  After Blast, New Yorkers Examine Themselves fo...   \n",
            "1043  1043  Resistance: Schwarzenegger Calls for ’Grassroo...   \n",
            "1044  1044  Virginia Officials Request U.S. Inquiry After ...   \n",
            "\n",
            "                                                 author  \\\n",
            "0                                         Darrell Lucus   \n",
            "1                                       Daniel J. Flynn   \n",
            "2                                    Consortiumnews.com   \n",
            "3                                       Jessica Purkiss   \n",
            "4                                        Howard Portnoy   \n",
            "...                                                 ...   \n",
            "1040              Nicholas Confessore and Rachel Shorey   \n",
            "1041                                     Joel B. Pollak   \n",
            "1042  Michael Wilson, Samantha Schmidt and Sarah Mas...   \n",
            "1043                                      Jerome Hudson   \n",
            "1044                                   Christine Hauser   \n",
            "\n",
            "                                                   text  \\\n",
            "0     House Dem Aide: We Didn’t Even See Comey’s Let...   \n",
            "1     Ever get the feeling your life circles the rou...   \n",
            "2     Why the Truth Might Get You Fired October 29, ...   \n",
            "3     Videos 15 Civilians Killed In Single US Airstr...   \n",
            "4     Print \\nAn Iranian woman has been sentenced to...   \n",
            "...                                                 ...   \n",
            "1040  Six years after a Supreme Court decision opene...   \n",
            "1041  The New York Times ran a story on Saturday imp...   \n",
            "1042  As detectives scoured every inch of the bomb s...   \n",
            "1043  Arnold Schwarzenegger called for a “grassroots...   \n",
            "1044  A   old inmate was in a southeast Virginia jai...   \n",
            "\n",
            "                                                content  \n",
            "0     Darrell Lucus House Dem Aide: We Didn’t Even S...  \n",
            "1     Daniel J. Flynn FLYNN: Hillary Clinton, Big Wo...  \n",
            "2     Consortiumnews.com Why the Truth Might Get You...  \n",
            "3     Jessica Purkiss 15 Civilians Killed In Single ...  \n",
            "4     Howard Portnoy Iranian woman jailed for fictio...  \n",
            "...                                                 ...  \n",
            "1040  Nicholas Confessore and Rachel Shorey Outside ...  \n",
            "1041  Joel B. Pollak Fake News: New York Times Targe...  \n",
            "1042  Michael Wilson, Samantha Schmidt and Sarah Mas...  \n",
            "1043  Jerome Hudson Resistance: Schwarzenegger Calls...  \n",
            "1044  Christine Hauser Virginia Officials Request U....  \n",
            "\n",
            "[1045 rows x 5 columns]\n",
            "0       1\n",
            "1       0\n",
            "2       1\n",
            "3       1\n",
            "4       1\n",
            "       ..\n",
            "1040    0\n",
            "1041    0\n",
            "1042    0\n",
            "1043    0\n",
            "1044    0\n",
            "Name: label, Length: 1045, dtype: int64\n"
          ]
        }
      ],
      "source": [
        "print(X)\n",
        "print(y)"
      ]
    },
    {
      "cell_type": "markdown",
      "metadata": {
        "id": "m0nj6kQsTh-A"
      },
      "source": [
        "#**Stemming**\n",
        "\n",
        "Stemming is the process of reducing a word to its **Root-word**\n",
        "\n",
        "\n",
        "Example\n",
        "\n",
        "Classifier, Classification, Classified  ----> Class\n",
        "\n",
        "\"running\" → \"run\""
      ]
    },
    {
      "cell_type": "code",
      "execution_count": 16,
      "metadata": {
        "id": "trPt1ZeRThjz"
      },
      "outputs": [],
      "source": [
        "# Initialize a Porter Stemmer instance\n",
        "port_stem = PorterStemmer()"
      ]
    },
    {
      "cell_type": "code",
      "execution_count": 17,
      "metadata": {
        "id": "eKywrYeIUaZy"
      },
      "outputs": [],
      "source": [
        "# Define a function to preprocess and stem text\n",
        "def stemming(content):\n",
        "    \"\"\"\n",
        "    Function to clean, lower case, split, remove stop words, and stem the input text content.\n",
        "\n",
        "    Args:\n",
        "    content (str): A string containing the text to process.\n",
        "\n",
        "    Returns:\n",
        "    str: The processed and stemmed string.\n",
        "    \"\"\"\n",
        "    # Remove all non-alphabetic characters from the text and replace them with spaces\n",
        "    stemmed_content = re.sub('[^a-zA-Z]', ' ', content)\n",
        "\n",
        "    # Convert the cleaned text to lowercase\n",
        "    stemmed_content = stemmed_content.lower()\n",
        "\n",
        "    # Split the text into individual list of words (tokens)\n",
        "    stemmed_content = stemmed_content.split()\n",
        "\n",
        "    # Stem each word in the text that is not a stopword\n",
        "    # 'stopwords.words('english')' provides a list of common English stop words\n",
        "    stemmed_content = [\n",
        "        port_stem.stem(word) for word in stemmed_content\n",
        "        if word not in stopwords.words('english')\n",
        "    ]\n",
        "\n",
        "    # Join the processed words back into a single string\n",
        "    stemmed_content = ' '.join(stemmed_content)\n",
        "\n",
        "    # Return the final processed and stemmed text\n",
        "    return stemmed_content"
      ]
    },
    {
      "cell_type": "code",
      "execution_count": 18,
      "metadata": {
        "colab": {
          "base_uri": "https://localhost:8080/"
        },
        "id": "kqhVSDkNfvD-",
        "outputId": "55cbb91e-c7df-46c0-ebcd-546950beed86"
      },
      "outputs": [
        {
          "output_type": "stream",
          "name": "stdout",
          "text": [
            "0       Darrell Lucus House Dem Aide: We Didn’t Even S...\n",
            "1       Daniel J. Flynn FLYNN: Hillary Clinton, Big Wo...\n",
            "2       Consortiumnews.com Why the Truth Might Get You...\n",
            "3       Jessica Purkiss 15 Civilians Killed In Single ...\n",
            "4       Howard Portnoy Iranian woman jailed for fictio...\n",
            "                              ...                        \n",
            "1040    Nicholas Confessore and Rachel Shorey Outside ...\n",
            "1041    Joel B. Pollak Fake News: New York Times Targe...\n",
            "1042    Michael Wilson, Samantha Schmidt and Sarah Mas...\n",
            "1043    Jerome Hudson Resistance: Schwarzenegger Calls...\n",
            "1044    Christine Hauser Virginia Officials Request U....\n",
            "Name: content, Length: 1045, dtype: object\n"
          ]
        }
      ],
      "source": [
        "print(news_data['content'])"
      ]
    },
    {
      "cell_type": "code",
      "execution_count": 19,
      "metadata": {
        "id": "OjJ957smYuyd"
      },
      "outputs": [],
      "source": [
        "# Apply the `stemming` function to each row in the 'content' column\n",
        "# This cleans, lowers, removes stopwords, and stems the text in the column\n",
        "news_data['content'] = news_data['content'].apply(stemming)\n"
      ]
    },
    {
      "cell_type": "markdown",
      "metadata": {
        "id": "K-1xkxmsfeEA"
      },
      "source": [
        "# **OR**"
      ]
    },
    {
      "cell_type": "code",
      "execution_count": 20,
      "metadata": {
        "id": "8ak9xltsfWEl"
      },
      "outputs": [],
      "source": [
        "# Splitting features (X) and target (y)\n",
        "X = news_data['content'].values\n",
        "y = news_data['label'].values"
      ]
    },
    {
      "cell_type": "code",
      "execution_count": 21,
      "metadata": {
        "colab": {
          "base_uri": "https://localhost:8080/"
        },
        "id": "SJ0AnRgPf-s-",
        "outputId": "cc3623a2-b818-43e5-d402-197ebc9cb33d"
      },
      "outputs": [
        {
          "output_type": "stream",
          "name": "stdout",
          "text": [
            "['darrel lucu hous dem aid even see comey letter jason chaffetz tweet'\n",
            " 'daniel j flynn flynn hillari clinton big woman campu breitbart'\n",
            " 'consortiumnew com truth might get fire' ...\n",
            " 'michael wilson samantha schmidt sarah maslin nir blast new yorker examin psycholog shrapnel new york time'\n",
            " 'jerom hudson resist schwarzenegg call grassroot revolut u exit pari agreement'\n",
            " 'christin hauser virginia offici request u inquiri inmat death jail new york time']\n"
          ]
        }
      ],
      "source": [
        "print(X)"
      ]
    },
    {
      "cell_type": "code",
      "execution_count": 22,
      "metadata": {
        "colab": {
          "base_uri": "https://localhost:8080/"
        },
        "id": "WTZv8fbzgHWr",
        "outputId": "4c1dccbe-a4a3-46d7-bf21-150076ce8939"
      },
      "outputs": [
        {
          "output_type": "stream",
          "name": "stdout",
          "text": [
            "[1 0 1 ... 0 0 0]\n"
          ]
        }
      ],
      "source": [
        "print(y)"
      ]
    },
    {
      "cell_type": "code",
      "execution_count": 23,
      "metadata": {
        "colab": {
          "base_uri": "https://localhost:8080/"
        },
        "id": "r5y62zvigK_T",
        "outputId": "4f129e70-baf2-4c17-ebb6-c4dd13bb908c"
      },
      "outputs": [
        {
          "output_type": "execute_result",
          "data": {
            "text/plain": [
              "(1045,)"
            ]
          },
          "metadata": {},
          "execution_count": 23
        }
      ],
      "source": [
        "y.shape"
      ]
    },
    {
      "cell_type": "code",
      "execution_count": 24,
      "metadata": {
        "id": "P6EbpilThU0B"
      },
      "outputs": [],
      "source": [
        "# -- Converting the textual data to numerical data\n",
        "# The TfidfVectorizer converts raw text into a numerical representation based on\n",
        "# Term Frequency-Inverse Document Frequency (TF-IDF) values.\n",
        "vectorizer = TfidfVectorizer()\n",
        "\n",
        "# -- Fit the vectorizer to the raw text data\n",
        "# The fit method learns the vocabulary and calculates document frequencies of terms\n",
        "# from the input text data 'X'. Here, 'X' must contain raw text data.\n",
        "vectorizer.fit(X)\n",
        "\n",
        "# -- Transform the raw text data into numerical format\n",
        "# After fitting the vectorizer, the transform method converts the text into\n",
        "# a sparse matrix where each row corresponds to a document, and each column\n",
        "# corresponds to a term's TF-IDF value in that document.\n",
        "X = vectorizer.transform(X)"
      ]
    },
    {
      "cell_type": "code",
      "execution_count": 25,
      "metadata": {
        "colab": {
          "base_uri": "https://localhost:8080/"
        },
        "id": "ndxikpgrke-n",
        "outputId": "03ff7245-e4ec-4e15-b0d5-06afec865206"
      },
      "outputs": [
        {
          "output_type": "stream",
          "name": "stdout",
          "text": [
            "  (0, 74)\t0.2831062902722445\n",
            "  (0, 570)\t0.3421500381169244\n",
            "  (0, 696)\t0.2577029424093616\n",
            "  (0, 870)\t0.32304013448391095\n",
            "  (0, 917)\t0.2831062902722445\n",
            "  (0, 1176)\t0.261803860086362\n",
            "  (0, 1644)\t0.2360448062218859\n",
            "  (0, 1800)\t0.2662959071574504\n",
            "  (0, 1996)\t0.29896450319472506\n",
            "  (0, 2066)\t0.32304013448391095\n",
            "  (0, 3086)\t0.2712616348136228\n",
            "  (0, 3628)\t0.29896450319472506\n",
            "  (1, 348)\t0.3122283352625716\n",
            "  (1, 438)\t0.16778653572542396\n",
            "  (1, 506)\t0.3938225060269664\n",
            "  (1, 659)\t0.21920283267331853\n",
            "  (1, 864)\t0.2882595041930885\n",
            "  (1, 1314)\t0.6684485413436133\n",
            "  (1, 1607)\t0.20931213404905816\n",
            "  (1, 3852)\t0.3122283352625716\n",
            "  (2, 692)\t0.3333924581672224\n",
            "  (2, 741)\t0.4544515529762128\n",
            "  (2, 1285)\t0.3728788804443066\n",
            "  (2, 1415)\t0.35431279418623046\n",
            "  (2, 2215)\t0.47436153135177395\n",
            "  :\t:\n",
            "  (1042, 3833)\t0.2868348550949847\n",
            "  (1042, 3894)\t0.0899999289345843\n",
            "  (1042, 3895)\t0.3038029833686173\n",
            "  (1043, 69)\t0.3489504417235231\n",
            "  (1043, 499)\t0.2520989493160544\n",
            "  (1043, 1196)\t0.3489504417235231\n",
            "  (1043, 1477)\t0.3294607191715847\n",
            "  (1043, 1652)\t0.28873316977813024\n",
            "  (1043, 1810)\t0.28873316977813024\n",
            "  (1043, 2527)\t0.3294607191715847\n",
            "  (1043, 2895)\t0.31563254095567733\n",
            "  (1043, 2915)\t0.2961428184037389\n",
            "  (1043, 3059)\t0.3489504417235231\n",
            "  (1044, 623)\t0.3267918988554181\n",
            "  (1044, 890)\t0.28168974239637967\n",
            "  (1044, 1559)\t0.3267918988554181\n",
            "  (1044, 1727)\t0.37399711154623866\n",
            "  (1044, 1730)\t0.30945761515948533\n",
            "  (1044, 1794)\t0.3267918988554181\n",
            "  (1044, 2364)\t0.10762554604863962\n",
            "  (1044, 2434)\t0.2965104678986949\n",
            "  (1044, 2888)\t0.37399711154623866\n",
            "  (1044, 3536)\t0.11063913745795531\n",
            "  (1044, 3741)\t0.31739910728043774\n",
            "  (1044, 3894)\t0.11079454549022809\n"
          ]
        }
      ],
      "source": [
        "print(X)"
      ]
    },
    {
      "cell_type": "markdown",
      "metadata": {
        "id": "JotyCEjikuJj"
      },
      "source": [
        "# **Splitting the Dataset into Training and Test Sets**"
      ]
    },
    {
      "cell_type": "code",
      "execution_count": 47,
      "metadata": {
        "id": "SbPnMNQhkvLE"
      },
      "outputs": [],
      "source": [
        "# Splitting the dataset into Training set and Test Set\n",
        "X_train, X_test, y_train, y_test = train_test_split(X, y, test_size=0.2, stratify=y, random_state=1)\n"
      ]
    },
    {
      "cell_type": "code",
      "execution_count": 48,
      "metadata": {
        "id": "EUr0ikpbk86Z",
        "colab": {
          "base_uri": "https://localhost:8080/"
        },
        "outputId": "c7f066ff-0cb3-4285-d182-624f19b3f897"
      },
      "outputs": [
        {
          "output_type": "stream",
          "name": "stdout",
          "text": [
            "(1045, 3913) (836, 3913) (209, 3913)\n"
          ]
        }
      ],
      "source": [
        "# checking the number of Test and Train dataset\n",
        "print(X.shape, X_train.shape, X_test.shape)\n"
      ]
    },
    {
      "cell_type": "markdown",
      "metadata": {
        "id": "kv8r3KtWYJ13"
      },
      "source": [
        "# **Model Training --> Logistic Regression**"
      ]
    },
    {
      "cell_type": "code",
      "execution_count": 49,
      "metadata": {
        "id": "h8GI7qJAW3Iu"
      },
      "outputs": [],
      "source": [
        "# Initializing the Logistic Regression model\n",
        "model = LogisticRegression()"
      ]
    },
    {
      "cell_type": "code",
      "execution_count": 50,
      "metadata": {
        "id": "dgo7A3ivZExY",
        "colab": {
          "base_uri": "https://localhost:8080/",
          "height": 80
        },
        "outputId": "df1f062e-ec48-4764-aa49-f7f13186d7df"
      },
      "outputs": [
        {
          "output_type": "execute_result",
          "data": {
            "text/plain": [
              "LogisticRegression()"
            ],
            "text/html": [
              "<style>#sk-container-id-2 {\n",
              "  /* Definition of color scheme common for light and dark mode */\n",
              "  --sklearn-color-text: #000;\n",
              "  --sklearn-color-text-muted: #666;\n",
              "  --sklearn-color-line: gray;\n",
              "  /* Definition of color scheme for unfitted estimators */\n",
              "  --sklearn-color-unfitted-level-0: #fff5e6;\n",
              "  --sklearn-color-unfitted-level-1: #f6e4d2;\n",
              "  --sklearn-color-unfitted-level-2: #ffe0b3;\n",
              "  --sklearn-color-unfitted-level-3: chocolate;\n",
              "  /* Definition of color scheme for fitted estimators */\n",
              "  --sklearn-color-fitted-level-0: #f0f8ff;\n",
              "  --sklearn-color-fitted-level-1: #d4ebff;\n",
              "  --sklearn-color-fitted-level-2: #b3dbfd;\n",
              "  --sklearn-color-fitted-level-3: cornflowerblue;\n",
              "\n",
              "  /* Specific color for light theme */\n",
              "  --sklearn-color-text-on-default-background: var(--sg-text-color, var(--theme-code-foreground, var(--jp-content-font-color1, black)));\n",
              "  --sklearn-color-background: var(--sg-background-color, var(--theme-background, var(--jp-layout-color0, white)));\n",
              "  --sklearn-color-border-box: var(--sg-text-color, var(--theme-code-foreground, var(--jp-content-font-color1, black)));\n",
              "  --sklearn-color-icon: #696969;\n",
              "\n",
              "  @media (prefers-color-scheme: dark) {\n",
              "    /* Redefinition of color scheme for dark theme */\n",
              "    --sklearn-color-text-on-default-background: var(--sg-text-color, var(--theme-code-foreground, var(--jp-content-font-color1, white)));\n",
              "    --sklearn-color-background: var(--sg-background-color, var(--theme-background, var(--jp-layout-color0, #111)));\n",
              "    --sklearn-color-border-box: var(--sg-text-color, var(--theme-code-foreground, var(--jp-content-font-color1, white)));\n",
              "    --sklearn-color-icon: #878787;\n",
              "  }\n",
              "}\n",
              "\n",
              "#sk-container-id-2 {\n",
              "  color: var(--sklearn-color-text);\n",
              "}\n",
              "\n",
              "#sk-container-id-2 pre {\n",
              "  padding: 0;\n",
              "}\n",
              "\n",
              "#sk-container-id-2 input.sk-hidden--visually {\n",
              "  border: 0;\n",
              "  clip: rect(1px 1px 1px 1px);\n",
              "  clip: rect(1px, 1px, 1px, 1px);\n",
              "  height: 1px;\n",
              "  margin: -1px;\n",
              "  overflow: hidden;\n",
              "  padding: 0;\n",
              "  position: absolute;\n",
              "  width: 1px;\n",
              "}\n",
              "\n",
              "#sk-container-id-2 div.sk-dashed-wrapped {\n",
              "  border: 1px dashed var(--sklearn-color-line);\n",
              "  margin: 0 0.4em 0.5em 0.4em;\n",
              "  box-sizing: border-box;\n",
              "  padding-bottom: 0.4em;\n",
              "  background-color: var(--sklearn-color-background);\n",
              "}\n",
              "\n",
              "#sk-container-id-2 div.sk-container {\n",
              "  /* jupyter's `normalize.less` sets `[hidden] { display: none; }`\n",
              "     but bootstrap.min.css set `[hidden] { display: none !important; }`\n",
              "     so we also need the `!important` here to be able to override the\n",
              "     default hidden behavior on the sphinx rendered scikit-learn.org.\n",
              "     See: https://github.com/scikit-learn/scikit-learn/issues/21755 */\n",
              "  display: inline-block !important;\n",
              "  position: relative;\n",
              "}\n",
              "\n",
              "#sk-container-id-2 div.sk-text-repr-fallback {\n",
              "  display: none;\n",
              "}\n",
              "\n",
              "div.sk-parallel-item,\n",
              "div.sk-serial,\n",
              "div.sk-item {\n",
              "  /* draw centered vertical line to link estimators */\n",
              "  background-image: linear-gradient(var(--sklearn-color-text-on-default-background), var(--sklearn-color-text-on-default-background));\n",
              "  background-size: 2px 100%;\n",
              "  background-repeat: no-repeat;\n",
              "  background-position: center center;\n",
              "}\n",
              "\n",
              "/* Parallel-specific style estimator block */\n",
              "\n",
              "#sk-container-id-2 div.sk-parallel-item::after {\n",
              "  content: \"\";\n",
              "  width: 100%;\n",
              "  border-bottom: 2px solid var(--sklearn-color-text-on-default-background);\n",
              "  flex-grow: 1;\n",
              "}\n",
              "\n",
              "#sk-container-id-2 div.sk-parallel {\n",
              "  display: flex;\n",
              "  align-items: stretch;\n",
              "  justify-content: center;\n",
              "  background-color: var(--sklearn-color-background);\n",
              "  position: relative;\n",
              "}\n",
              "\n",
              "#sk-container-id-2 div.sk-parallel-item {\n",
              "  display: flex;\n",
              "  flex-direction: column;\n",
              "}\n",
              "\n",
              "#sk-container-id-2 div.sk-parallel-item:first-child::after {\n",
              "  align-self: flex-end;\n",
              "  width: 50%;\n",
              "}\n",
              "\n",
              "#sk-container-id-2 div.sk-parallel-item:last-child::after {\n",
              "  align-self: flex-start;\n",
              "  width: 50%;\n",
              "}\n",
              "\n",
              "#sk-container-id-2 div.sk-parallel-item:only-child::after {\n",
              "  width: 0;\n",
              "}\n",
              "\n",
              "/* Serial-specific style estimator block */\n",
              "\n",
              "#sk-container-id-2 div.sk-serial {\n",
              "  display: flex;\n",
              "  flex-direction: column;\n",
              "  align-items: center;\n",
              "  background-color: var(--sklearn-color-background);\n",
              "  padding-right: 1em;\n",
              "  padding-left: 1em;\n",
              "}\n",
              "\n",
              "\n",
              "/* Toggleable style: style used for estimator/Pipeline/ColumnTransformer box that is\n",
              "clickable and can be expanded/collapsed.\n",
              "- Pipeline and ColumnTransformer use this feature and define the default style\n",
              "- Estimators will overwrite some part of the style using the `sk-estimator` class\n",
              "*/\n",
              "\n",
              "/* Pipeline and ColumnTransformer style (default) */\n",
              "\n",
              "#sk-container-id-2 div.sk-toggleable {\n",
              "  /* Default theme specific background. It is overwritten whether we have a\n",
              "  specific estimator or a Pipeline/ColumnTransformer */\n",
              "  background-color: var(--sklearn-color-background);\n",
              "}\n",
              "\n",
              "/* Toggleable label */\n",
              "#sk-container-id-2 label.sk-toggleable__label {\n",
              "  cursor: pointer;\n",
              "  display: flex;\n",
              "  width: 100%;\n",
              "  margin-bottom: 0;\n",
              "  padding: 0.5em;\n",
              "  box-sizing: border-box;\n",
              "  text-align: center;\n",
              "  align-items: start;\n",
              "  justify-content: space-between;\n",
              "  gap: 0.5em;\n",
              "}\n",
              "\n",
              "#sk-container-id-2 label.sk-toggleable__label .caption {\n",
              "  font-size: 0.6rem;\n",
              "  font-weight: lighter;\n",
              "  color: var(--sklearn-color-text-muted);\n",
              "}\n",
              "\n",
              "#sk-container-id-2 label.sk-toggleable__label-arrow:before {\n",
              "  /* Arrow on the left of the label */\n",
              "  content: \"▸\";\n",
              "  float: left;\n",
              "  margin-right: 0.25em;\n",
              "  color: var(--sklearn-color-icon);\n",
              "}\n",
              "\n",
              "#sk-container-id-2 label.sk-toggleable__label-arrow:hover:before {\n",
              "  color: var(--sklearn-color-text);\n",
              "}\n",
              "\n",
              "/* Toggleable content - dropdown */\n",
              "\n",
              "#sk-container-id-2 div.sk-toggleable__content {\n",
              "  max-height: 0;\n",
              "  max-width: 0;\n",
              "  overflow: hidden;\n",
              "  text-align: left;\n",
              "  /* unfitted */\n",
              "  background-color: var(--sklearn-color-unfitted-level-0);\n",
              "}\n",
              "\n",
              "#sk-container-id-2 div.sk-toggleable__content.fitted {\n",
              "  /* fitted */\n",
              "  background-color: var(--sklearn-color-fitted-level-0);\n",
              "}\n",
              "\n",
              "#sk-container-id-2 div.sk-toggleable__content pre {\n",
              "  margin: 0.2em;\n",
              "  border-radius: 0.25em;\n",
              "  color: var(--sklearn-color-text);\n",
              "  /* unfitted */\n",
              "  background-color: var(--sklearn-color-unfitted-level-0);\n",
              "}\n",
              "\n",
              "#sk-container-id-2 div.sk-toggleable__content.fitted pre {\n",
              "  /* unfitted */\n",
              "  background-color: var(--sklearn-color-fitted-level-0);\n",
              "}\n",
              "\n",
              "#sk-container-id-2 input.sk-toggleable__control:checked~div.sk-toggleable__content {\n",
              "  /* Expand drop-down */\n",
              "  max-height: 200px;\n",
              "  max-width: 100%;\n",
              "  overflow: auto;\n",
              "}\n",
              "\n",
              "#sk-container-id-2 input.sk-toggleable__control:checked~label.sk-toggleable__label-arrow:before {\n",
              "  content: \"▾\";\n",
              "}\n",
              "\n",
              "/* Pipeline/ColumnTransformer-specific style */\n",
              "\n",
              "#sk-container-id-2 div.sk-label input.sk-toggleable__control:checked~label.sk-toggleable__label {\n",
              "  color: var(--sklearn-color-text);\n",
              "  background-color: var(--sklearn-color-unfitted-level-2);\n",
              "}\n",
              "\n",
              "#sk-container-id-2 div.sk-label.fitted input.sk-toggleable__control:checked~label.sk-toggleable__label {\n",
              "  background-color: var(--sklearn-color-fitted-level-2);\n",
              "}\n",
              "\n",
              "/* Estimator-specific style */\n",
              "\n",
              "/* Colorize estimator box */\n",
              "#sk-container-id-2 div.sk-estimator input.sk-toggleable__control:checked~label.sk-toggleable__label {\n",
              "  /* unfitted */\n",
              "  background-color: var(--sklearn-color-unfitted-level-2);\n",
              "}\n",
              "\n",
              "#sk-container-id-2 div.sk-estimator.fitted input.sk-toggleable__control:checked~label.sk-toggleable__label {\n",
              "  /* fitted */\n",
              "  background-color: var(--sklearn-color-fitted-level-2);\n",
              "}\n",
              "\n",
              "#sk-container-id-2 div.sk-label label.sk-toggleable__label,\n",
              "#sk-container-id-2 div.sk-label label {\n",
              "  /* The background is the default theme color */\n",
              "  color: var(--sklearn-color-text-on-default-background);\n",
              "}\n",
              "\n",
              "/* On hover, darken the color of the background */\n",
              "#sk-container-id-2 div.sk-label:hover label.sk-toggleable__label {\n",
              "  color: var(--sklearn-color-text);\n",
              "  background-color: var(--sklearn-color-unfitted-level-2);\n",
              "}\n",
              "\n",
              "/* Label box, darken color on hover, fitted */\n",
              "#sk-container-id-2 div.sk-label.fitted:hover label.sk-toggleable__label.fitted {\n",
              "  color: var(--sklearn-color-text);\n",
              "  background-color: var(--sklearn-color-fitted-level-2);\n",
              "}\n",
              "\n",
              "/* Estimator label */\n",
              "\n",
              "#sk-container-id-2 div.sk-label label {\n",
              "  font-family: monospace;\n",
              "  font-weight: bold;\n",
              "  display: inline-block;\n",
              "  line-height: 1.2em;\n",
              "}\n",
              "\n",
              "#sk-container-id-2 div.sk-label-container {\n",
              "  text-align: center;\n",
              "}\n",
              "\n",
              "/* Estimator-specific */\n",
              "#sk-container-id-2 div.sk-estimator {\n",
              "  font-family: monospace;\n",
              "  border: 1px dotted var(--sklearn-color-border-box);\n",
              "  border-radius: 0.25em;\n",
              "  box-sizing: border-box;\n",
              "  margin-bottom: 0.5em;\n",
              "  /* unfitted */\n",
              "  background-color: var(--sklearn-color-unfitted-level-0);\n",
              "}\n",
              "\n",
              "#sk-container-id-2 div.sk-estimator.fitted {\n",
              "  /* fitted */\n",
              "  background-color: var(--sklearn-color-fitted-level-0);\n",
              "}\n",
              "\n",
              "/* on hover */\n",
              "#sk-container-id-2 div.sk-estimator:hover {\n",
              "  /* unfitted */\n",
              "  background-color: var(--sklearn-color-unfitted-level-2);\n",
              "}\n",
              "\n",
              "#sk-container-id-2 div.sk-estimator.fitted:hover {\n",
              "  /* fitted */\n",
              "  background-color: var(--sklearn-color-fitted-level-2);\n",
              "}\n",
              "\n",
              "/* Specification for estimator info (e.g. \"i\" and \"?\") */\n",
              "\n",
              "/* Common style for \"i\" and \"?\" */\n",
              "\n",
              ".sk-estimator-doc-link,\n",
              "a:link.sk-estimator-doc-link,\n",
              "a:visited.sk-estimator-doc-link {\n",
              "  float: right;\n",
              "  font-size: smaller;\n",
              "  line-height: 1em;\n",
              "  font-family: monospace;\n",
              "  background-color: var(--sklearn-color-background);\n",
              "  border-radius: 1em;\n",
              "  height: 1em;\n",
              "  width: 1em;\n",
              "  text-decoration: none !important;\n",
              "  margin-left: 0.5em;\n",
              "  text-align: center;\n",
              "  /* unfitted */\n",
              "  border: var(--sklearn-color-unfitted-level-1) 1pt solid;\n",
              "  color: var(--sklearn-color-unfitted-level-1);\n",
              "}\n",
              "\n",
              ".sk-estimator-doc-link.fitted,\n",
              "a:link.sk-estimator-doc-link.fitted,\n",
              "a:visited.sk-estimator-doc-link.fitted {\n",
              "  /* fitted */\n",
              "  border: var(--sklearn-color-fitted-level-1) 1pt solid;\n",
              "  color: var(--sklearn-color-fitted-level-1);\n",
              "}\n",
              "\n",
              "/* On hover */\n",
              "div.sk-estimator:hover .sk-estimator-doc-link:hover,\n",
              ".sk-estimator-doc-link:hover,\n",
              "div.sk-label-container:hover .sk-estimator-doc-link:hover,\n",
              ".sk-estimator-doc-link:hover {\n",
              "  /* unfitted */\n",
              "  background-color: var(--sklearn-color-unfitted-level-3);\n",
              "  color: var(--sklearn-color-background);\n",
              "  text-decoration: none;\n",
              "}\n",
              "\n",
              "div.sk-estimator.fitted:hover .sk-estimator-doc-link.fitted:hover,\n",
              ".sk-estimator-doc-link.fitted:hover,\n",
              "div.sk-label-container:hover .sk-estimator-doc-link.fitted:hover,\n",
              ".sk-estimator-doc-link.fitted:hover {\n",
              "  /* fitted */\n",
              "  background-color: var(--sklearn-color-fitted-level-3);\n",
              "  color: var(--sklearn-color-background);\n",
              "  text-decoration: none;\n",
              "}\n",
              "\n",
              "/* Span, style for the box shown on hovering the info icon */\n",
              ".sk-estimator-doc-link span {\n",
              "  display: none;\n",
              "  z-index: 9999;\n",
              "  position: relative;\n",
              "  font-weight: normal;\n",
              "  right: .2ex;\n",
              "  padding: .5ex;\n",
              "  margin: .5ex;\n",
              "  width: min-content;\n",
              "  min-width: 20ex;\n",
              "  max-width: 50ex;\n",
              "  color: var(--sklearn-color-text);\n",
              "  box-shadow: 2pt 2pt 4pt #999;\n",
              "  /* unfitted */\n",
              "  background: var(--sklearn-color-unfitted-level-0);\n",
              "  border: .5pt solid var(--sklearn-color-unfitted-level-3);\n",
              "}\n",
              "\n",
              ".sk-estimator-doc-link.fitted span {\n",
              "  /* fitted */\n",
              "  background: var(--sklearn-color-fitted-level-0);\n",
              "  border: var(--sklearn-color-fitted-level-3);\n",
              "}\n",
              "\n",
              ".sk-estimator-doc-link:hover span {\n",
              "  display: block;\n",
              "}\n",
              "\n",
              "/* \"?\"-specific style due to the `<a>` HTML tag */\n",
              "\n",
              "#sk-container-id-2 a.estimator_doc_link {\n",
              "  float: right;\n",
              "  font-size: 1rem;\n",
              "  line-height: 1em;\n",
              "  font-family: monospace;\n",
              "  background-color: var(--sklearn-color-background);\n",
              "  border-radius: 1rem;\n",
              "  height: 1rem;\n",
              "  width: 1rem;\n",
              "  text-decoration: none;\n",
              "  /* unfitted */\n",
              "  color: var(--sklearn-color-unfitted-level-1);\n",
              "  border: var(--sklearn-color-unfitted-level-1) 1pt solid;\n",
              "}\n",
              "\n",
              "#sk-container-id-2 a.estimator_doc_link.fitted {\n",
              "  /* fitted */\n",
              "  border: var(--sklearn-color-fitted-level-1) 1pt solid;\n",
              "  color: var(--sklearn-color-fitted-level-1);\n",
              "}\n",
              "\n",
              "/* On hover */\n",
              "#sk-container-id-2 a.estimator_doc_link:hover {\n",
              "  /* unfitted */\n",
              "  background-color: var(--sklearn-color-unfitted-level-3);\n",
              "  color: var(--sklearn-color-background);\n",
              "  text-decoration: none;\n",
              "}\n",
              "\n",
              "#sk-container-id-2 a.estimator_doc_link.fitted:hover {\n",
              "  /* fitted */\n",
              "  background-color: var(--sklearn-color-fitted-level-3);\n",
              "}\n",
              "</style><div id=\"sk-container-id-2\" class=\"sk-top-container\"><div class=\"sk-text-repr-fallback\"><pre>LogisticRegression()</pre><b>In a Jupyter environment, please rerun this cell to show the HTML representation or trust the notebook. <br />On GitHub, the HTML representation is unable to render, please try loading this page with nbviewer.org.</b></div><div class=\"sk-container\" hidden><div class=\"sk-item\"><div class=\"sk-estimator fitted sk-toggleable\"><input class=\"sk-toggleable__control sk-hidden--visually\" id=\"sk-estimator-id-2\" type=\"checkbox\" checked><label for=\"sk-estimator-id-2\" class=\"sk-toggleable__label fitted sk-toggleable__label-arrow\"><div><div>LogisticRegression</div></div><div><a class=\"sk-estimator-doc-link fitted\" rel=\"noreferrer\" target=\"_blank\" href=\"https://scikit-learn.org/1.6/modules/generated/sklearn.linear_model.LogisticRegression.html\">?<span>Documentation for LogisticRegression</span></a><span class=\"sk-estimator-doc-link fitted\">i<span>Fitted</span></span></div></label><div class=\"sk-toggleable__content fitted\"><pre>LogisticRegression()</pre></div> </div></div></div></div>"
            ]
          },
          "metadata": {},
          "execution_count": 50
        }
      ],
      "source": [
        "# Training the Logistic Regression model with train data\n",
        "model.fit(X_train, y_train)"
      ]
    },
    {
      "cell_type": "markdown",
      "metadata": {
        "id": "FInTbsaCZbOF"
      },
      "source": [
        "# **Model Evaluation**"
      ]
    },
    {
      "cell_type": "code",
      "execution_count": 51,
      "metadata": {
        "id": "ZjsDvG32ZKFq",
        "colab": {
          "base_uri": "https://localhost:8080/"
        },
        "outputId": "65ff3540-42ac-42b4-87c9-7a35b3206406"
      },
      "outputs": [
        {
          "output_type": "stream",
          "name": "stdout",
          "text": [
            "Accuracy on training data :  0.9784688995215312\n"
          ]
        }
      ],
      "source": [
        "# Calculate accuracy on the training data\n",
        "X_train_pred = model.predict(X_train)\n",
        "train_data_accuracy = accuracy_score(X_train_pred, y_train)\n",
        "print('Accuracy on training data : ', train_data_accuracy)\n"
      ]
    },
    {
      "cell_type": "code",
      "execution_count": 52,
      "metadata": {
        "id": "vY3YMzEAZ1O4",
        "colab": {
          "base_uri": "https://localhost:8080/"
        },
        "outputId": "6d2cee75-d023-44f0-ffed-be960c82bbe6"
      },
      "outputs": [
        {
          "output_type": "stream",
          "name": "stdout",
          "text": [
            "\n",
            "Confusion Matrix:\n",
            "[[399  18]\n",
            " [  0 419]]\n"
          ]
        }
      ],
      "source": [
        "# Generate and display the confusion matrix on the training data\n",
        "# The confusion matrix shows the counts of True Positives, True Negatives, False Positives, and False Negatives\n",
        "conf_matrix = confusion_matrix(y_train, X_train_pred)\n",
        "print(\"\\nConfusion Matrix:\")\n",
        "print(conf_matrix)"
      ]
    },
    {
      "cell_type": "code",
      "execution_count": 53,
      "metadata": {
        "id": "xKo9gQIyarkr",
        "colab": {
          "base_uri": "https://localhost:8080/"
        },
        "outputId": "c00df6f0-ca77-47bf-f31c-a6843347d3f5"
      },
      "outputs": [
        {
          "output_type": "stream",
          "name": "stdout",
          "text": [
            "\n",
            "Classification Report:\n",
            "                precision    recall  f1-score   support\n",
            "\n",
            "  Reliable (0)       1.00      0.96      0.98       417\n",
            "Unreliable (1)       0.96      1.00      0.98       419\n",
            "\n",
            "      accuracy                           0.98       836\n",
            "     macro avg       0.98      0.98      0.98       836\n",
            "  weighted avg       0.98      0.98      0.98       836\n",
            "\n"
          ]
        }
      ],
      "source": [
        "# Step 4: Generate and display the classification report\n",
        "# The classification report includes precision, recall, F1-score, and support for each class\n",
        "class_report = classification_report(y_train, X_train_pred, target_names=[\"Reliable (0)\", \"Unreliable (1)\"])\n",
        "print(\"\\nClassification Report:\")\n",
        "print(class_report)"
      ]
    },
    {
      "cell_type": "code",
      "execution_count": 54,
      "metadata": {
        "id": "B5Ko0kjmZr2a",
        "colab": {
          "base_uri": "https://localhost:8080/"
        },
        "outputId": "3ac5bafb-3ec1-4d7a-ffec-7128497995eb"
      },
      "outputs": [
        {
          "output_type": "stream",
          "name": "stdout",
          "text": [
            "Accuracy on test data :  0.9425837320574163\n"
          ]
        }
      ],
      "source": [
        "# accuracy on the test data\n",
        "X_test_pred = model.predict(X_test)\n",
        "test_data_accuracy = accuracy_score(X_test_pred, y_test)\n",
        "print('Accuracy on test data : ', test_data_accuracy)"
      ]
    },
    {
      "cell_type": "code",
      "execution_count": 55,
      "metadata": {
        "id": "GHxNZKjrZwQm",
        "colab": {
          "base_uri": "https://localhost:8080/"
        },
        "outputId": "62addada-bad5-4765-bc75-43cdcdedd514"
      },
      "outputs": [
        {
          "output_type": "stream",
          "name": "stdout",
          "text": [
            "\n",
            "Confusion Matrix:\n",
            "[[ 93  11]\n",
            " [  1 104]]\n"
          ]
        }
      ],
      "source": [
        "# Generate and display the confusion matrix on the test data\n",
        "# The confusion matrix shows the counts of True Positives, True Negatives, False Positives, and False Negatives\n",
        "conf_matrix = confusion_matrix(y_test, X_test_pred)\n",
        "print(\"\\nConfusion Matrix:\")\n",
        "print(conf_matrix)"
      ]
    },
    {
      "cell_type": "code",
      "execution_count": 56,
      "metadata": {
        "id": "0WCtIxb9bAcT",
        "colab": {
          "base_uri": "https://localhost:8080/"
        },
        "outputId": "68e0a7e7-103d-4b8a-a528-ce1ec715de9b"
      },
      "outputs": [
        {
          "output_type": "stream",
          "name": "stdout",
          "text": [
            "\n",
            "Classification Report:\n",
            "                precision    recall  f1-score   support\n",
            "\n",
            "  Reliable (0)       0.99      0.89      0.94       104\n",
            "Unreliable (1)       0.90      0.99      0.95       105\n",
            "\n",
            "      accuracy                           0.94       209\n",
            "     macro avg       0.95      0.94      0.94       209\n",
            "  weighted avg       0.95      0.94      0.94       209\n",
            "\n"
          ]
        }
      ],
      "source": [
        "# Step 4: Generate and display the classification report\n",
        "# The classification report includes precision, recall, F1-score, and support for each class\n",
        "class_report = classification_report(y_test, X_test_pred, target_names=[\"Reliable (0)\", \"Unreliable (1)\"])\n",
        "print(\"\\nClassification Report:\")\n",
        "print(class_report)"
      ]
    },
    {
      "cell_type": "markdown",
      "metadata": {
        "id": "mA4C8G2Ubprq"
      },
      "source": [
        "# **Making a Predictive System**"
      ]
    },
    {
      "cell_type": "code",
      "execution_count": 57,
      "metadata": {
        "id": "k5rJQVYGbrkK"
      },
      "outputs": [],
      "source": [
        "# Define the predictive system function\n",
        "def predict_news_reliability(input_text, model, vectorizer):\n",
        "    \"\"\"\n",
        "    Predict whether a given news article is reliable or unreliable.\n",
        "\n",
        "    Parameters:\n",
        "        input_text (str): The text of the news article to predict.\n",
        "        model: The trained machine learning model.\n",
        "        vectorizer: The fitted TfidfVectorizer instance.\n",
        "\n",
        "    Returns:\n",
        "        str: \"Reliable\" or \"Unreliable\" based on the model's prediction.\n",
        "    \"\"\"\n",
        "    # Preprocess the input text\n",
        "    preprocessed_text = stemming(input_text)  # Apply the same stemming function used in training\n",
        "\n",
        "    # Convert text to numerical data using the vectorizer\n",
        "    vectorized_input = vectorizer.transform([preprocessed_text])  # Convert to numerical format\n",
        "\n",
        "    # Make a prediction using the trained model\n",
        "    prediction = model.predict(vectorized_input)\n",
        "\n",
        "    #  Map the prediction to the corresponding label\n",
        "    if prediction[0] == 0:\n",
        "        return \"The news is Real\"\n",
        "    else:\n",
        "        return \"The news is Fake\"\n"
      ]
    },
    {
      "cell_type": "code",
      "execution_count": 58,
      "metadata": {
        "id": "d3Z35koedOTW",
        "colab": {
          "base_uri": "https://localhost:8080/"
        },
        "outputId": "25e176c6-549b-4d82-824f-6516c9e7aae6"
      },
      "outputs": [
        {
          "output_type": "stream",
          "name": "stdout",
          "text": [
            "The news article is predicted to be: The news is Fake\n"
          ]
        }
      ],
      "source": [
        "# Assuming `model` is the trained classifier and `vectorizer` is the fitted TfidfVectorizer\n",
        "input_text = \"Breaking news: The economy is seeing unprecedented growth due to new policies.\"\n",
        "prediction_result = predict_news_reliability(input_text, model, vectorizer)\n",
        "\n",
        "print(f\"The news article is predicted to be: {prediction_result}\")\n"
      ]
    },
    {
      "cell_type": "markdown",
      "metadata": {
        "id": "yL6x-1r6dj3L"
      },
      "source": [
        "# **OR**"
      ]
    },
    {
      "cell_type": "code",
      "execution_count": 61,
      "metadata": {
        "id": "66geCM6AdjgQ",
        "colab": {
          "base_uri": "https://localhost:8080/"
        },
        "outputId": "0b1d29e1-833b-4ae2-c885-9fa0aa80a0d8"
      },
      "outputs": [
        {
          "output_type": "stream",
          "name": "stdout",
          "text": [
            "[1]\n",
            "The news is Fake\n"
          ]
        }
      ],
      "source": [
        "X_new = X_test[1]\n",
        "\n",
        "prediction = model.predict(X_new)\n",
        "print(prediction)\n",
        "\n",
        "if (prediction[0]==0):\n",
        "  print('The news is Real')\n",
        "else:\n",
        "  print('The news is Fake')"
      ]
    },
    {
      "cell_type": "code",
      "source": [
        "print(y_test[1])"
      ],
      "metadata": {
        "colab": {
          "base_uri": "https://localhost:8080/"
        },
        "id": "uMDQCe55bAD5",
        "outputId": "15886663-2717-4e4c-985e-257acc917fd2"
      },
      "execution_count": 66,
      "outputs": [
        {
          "output_type": "stream",
          "name": "stdout",
          "text": [
            "1\n"
          ]
        }
      ]
    },
    {
      "cell_type": "code",
      "execution_count": 64,
      "metadata": {
        "id": "nGkNX5Efdw1-",
        "colab": {
          "base_uri": "https://localhost:8080/"
        },
        "outputId": "eaba69bf-79ee-4c35-adc8-00b2df4309fc"
      },
      "outputs": [
        {
          "output_type": "stream",
          "name": "stdout",
          "text": [
            "[0]\n",
            "The news is Real\n"
          ]
        }
      ],
      "source": [
        "X_new = X_test[2]\n",
        "\n",
        "prediction = model.predict(X_new)\n",
        "print(prediction)\n",
        "\n",
        "if (prediction[0]==0):\n",
        "  print('The news is Real')\n",
        "else:\n",
        "  print('The news is Fake')"
      ]
    },
    {
      "cell_type": "code",
      "execution_count": 65,
      "metadata": {
        "id": "HTlTMNAXfGHa",
        "colab": {
          "base_uri": "https://localhost:8080/"
        },
        "outputId": "746ed817-40a6-47ea-f338-2aaf7807819e"
      },
      "outputs": [
        {
          "output_type": "stream",
          "name": "stdout",
          "text": [
            "0\n"
          ]
        }
      ],
      "source": [
        "print(y_test[2])"
      ]
    },
    {
      "cell_type": "code",
      "execution_count": 41,
      "metadata": {
        "id": "chQH4OeKpdgg",
        "colab": {
          "base_uri": "https://localhost:8080/"
        },
        "outputId": "1a21b6a1-379e-4019-b5c4-ccb38d161f07"
      },
      "outputs": [
        {
          "output_type": "stream",
          "name": "stdout",
          "text": [
            "[1]\n",
            "The news is Fake\n"
          ]
        }
      ],
      "source": [
        "X_new = X_test[3]\n",
        "\n",
        "prediction = model.predict(X_new)\n",
        "print(prediction)\n",
        "\n",
        "if (prediction[0]==0):\n",
        "  print('The news is Real')\n",
        "else:\n",
        "  print('The news is Fake')"
      ]
    },
    {
      "cell_type": "code",
      "execution_count": 42,
      "metadata": {
        "id": "vaPuU_eGpnpQ",
        "colab": {
          "base_uri": "https://localhost:8080/"
        },
        "outputId": "a7577498-3588-47f5-85da-b5a65ea90a0d"
      },
      "outputs": [
        {
          "output_type": "stream",
          "name": "stdout",
          "text": [
            "1\n"
          ]
        }
      ],
      "source": [
        "print(y_test[3])"
      ]
    },
    {
      "cell_type": "code",
      "execution_count": 44,
      "metadata": {
        "id": "_wKP9P7JG7vW",
        "colab": {
          "base_uri": "https://localhost:8080/",
          "height": 653
        },
        "outputId": "d041e007-4b86-44e0-aa0f-7585a2363d0f"
      },
      "outputs": [
        {
          "output_type": "stream",
          "name": "stdout",
          "text": [
            "Running Gradio in a Colab notebook requires sharing enabled. Automatically setting `share=True` (you can turn this off by setting `share=False` in `launch()` explicitly).\n",
            "\n",
            "Colab notebook detected. To show errors in colab notebook, set debug=True in launch()\n",
            "* Running on public URL: https://cbc8d66cc55d4f8fe9.gradio.live\n",
            "\n",
            "This share link expires in 72 hours. For free permanent hosting and GPU upgrades, run `gradio deploy` from the terminal in the working directory to deploy to Hugging Face Spaces (https://huggingface.co/spaces)\n"
          ]
        },
        {
          "output_type": "display_data",
          "data": {
            "text/plain": [
              "<IPython.core.display.HTML object>"
            ],
            "text/html": [
              "<div><iframe src=\"https://cbc8d66cc55d4f8fe9.gradio.live\" width=\"100%\" height=\"500\" allow=\"autoplay; camera; microphone; clipboard-read; clipboard-write;\" frameborder=\"0\" allowfullscreen></iframe></div>"
            ]
          },
          "metadata": {}
        },
        {
          "output_type": "execute_result",
          "data": {
            "text/plain": []
          },
          "metadata": {},
          "execution_count": 44
        }
      ],
      "source": [
        "# Define the predictive system function\n",
        "def predict_news_reliability(input_text):\n",
        "    \"\"\"\n",
        "    Predict whether a given news article is reliable or unreliable.\n",
        "\n",
        "    Parameters:\n",
        "        input_text (str): The text of the news article to predict.\n",
        "\n",
        "    Returns:\n",
        "        str: \"The news is Real\" or \"The news is Fake\" based on the model's prediction.\n",
        "    \"\"\"\n",
        "    try:\n",
        "        # Preprocess the input text\n",
        "        preprocessed_text = stemming(input_text)  # Apply stemming function\n",
        "\n",
        "        # Convert text to numerical data using the vectorizer\n",
        "        vectorized_input = vectorizer.transform([preprocessed_text])  # Convert to numerical format\n",
        "\n",
        "        # Make a prediction using the trained model\n",
        "        prediction = model.predict(vectorized_input)\n",
        "\n",
        "        # Map the prediction to the corresponding label\n",
        "        if prediction[0] == 0:\n",
        "            return \"The news is Real\"\n",
        "        else:\n",
        "            return \"The news is Fake\"\n",
        "    except Exception as e:\n",
        "        return f\"Error: {str(e)}\"\n",
        "\n",
        "# Define the Gradio interface\n",
        "interface = gr.Interface(\n",
        "    fn=predict_news_reliability,\n",
        "    inputs=\"text\",\n",
        "    outputs=\"text\",\n",
        "    title=\"News Reliability Predictive System\",\n",
        "    description=(\n",
        "        \"This system predicts whether a news article is Real or Fake. \"\n",
        "        \"Please enter the text of the article to get the prediction.\"\n",
        "    ),\n",
        "    examples=[\n",
        "        [\"Breaking news! Scientists discover water on Mars.\"],\n",
        "        [\"Click here to win a free iPhone! This is not a scam.\"],\n",
        "    ],\n",
        ")\n",
        "\n",
        "# Launch the Gradio interface\n",
        "interface.launch()"
      ]
    }
  ],
  "metadata": {
    "accelerator": "GPU",
    "colab": {
      "gpuType": "T4",
      "provenance": []
    },
    "kernelspec": {
      "display_name": "Python 3",
      "name": "python3"
    },
    "language_info": {
      "name": "python"
    }
  },
  "nbformat": 4,
  "nbformat_minor": 0
}