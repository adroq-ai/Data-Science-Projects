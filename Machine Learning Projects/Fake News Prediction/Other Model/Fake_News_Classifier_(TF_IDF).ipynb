{
  "cells": [
    {
      "cell_type": "markdown",
      "id": "fe6e94b9-38ac-49ea-a4f1-203de4e9046f",
      "metadata": {
        "id": "fe6e94b9-38ac-49ea-a4f1-203de4e9046f"
      },
      "source": [
        "# **Fake News Classifier**\n",
        "\n",
        "Dataset: https://www.kaggle.com/c/fake-news/data#"
      ]
    },
    {
      "cell_type": "code",
      "source": [
        "!pip install --upgrade scikit-learn\n"
      ],
      "metadata": {
        "colab": {
          "base_uri": "https://localhost:8080/"
        },
        "id": "O_WQ8j1Ue9uW",
        "outputId": "fa932984-18b7-41a2-d365-47dbb88569ab"
      },
      "id": "O_WQ8j1Ue9uW",
      "execution_count": 1,
      "outputs": [
        {
          "output_type": "stream",
          "name": "stdout",
          "text": [
            "Requirement already satisfied: scikit-learn in /usr/local/lib/python3.11/dist-packages (1.6.1)\n",
            "Requirement already satisfied: numpy>=1.19.5 in /usr/local/lib/python3.11/dist-packages (from scikit-learn) (2.0.2)\n",
            "Requirement already satisfied: scipy>=1.6.0 in /usr/local/lib/python3.11/dist-packages (from scikit-learn) (1.15.3)\n",
            "Requirement already satisfied: joblib>=1.2.0 in /usr/local/lib/python3.11/dist-packages (from scikit-learn) (1.5.0)\n",
            "Requirement already satisfied: threadpoolctl>=3.1.0 in /usr/local/lib/python3.11/dist-packages (from scikit-learn) (3.6.0)\n"
          ]
        }
      ]
    },
    {
      "cell_type": "code",
      "execution_count": 2,
      "id": "9d2963a1-3279-46af-928a-96a7a5448ea6",
      "metadata": {
        "id": "9d2963a1-3279-46af-928a-96a7a5448ea6"
      },
      "outputs": [],
      "source": [
        "import pandas as pd"
      ]
    },
    {
      "cell_type": "code",
      "execution_count": 3,
      "id": "6488f563-6461-4b55-a045-f664e7171d8f",
      "metadata": {
        "colab": {
          "base_uri": "https://localhost:8080/",
          "height": 206
        },
        "id": "6488f563-6461-4b55-a045-f664e7171d8f",
        "outputId": "d98f57cf-48db-4ec7-c1ef-418123a87bf8"
      },
      "outputs": [
        {
          "output_type": "execute_result",
          "data": {
            "text/plain": [
              "  id                                              title              author  \\\n",
              "0  0  House Dem Aide: We Didn’t Even See Comey’s Let...       Darrell Lucus   \n",
              "1  1  FLYNN: Hillary Clinton, Big Woman on Campus - ...     Daniel J. Flynn   \n",
              "2  2                  Why the Truth Might Get You Fired  Consortiumnews.com   \n",
              "3  3  15 Civilians Killed In Single US Airstrike Hav...     Jessica Purkiss   \n",
              "4  4  Iranian woman jailed for fictional unpublished...      Howard Portnoy   \n",
              "\n",
              "                                                text label  \n",
              "0  House Dem Aide: We Didn’t Even See Comey’s Let...     1  \n",
              "1  Ever get the feeling your life circles the rou...     0  \n",
              "2  Why the Truth Might Get You Fired October 29, ...     1  \n",
              "3  Videos 15 Civilians Killed In Single US Airstr...     1  \n",
              "4  Print \\nAn Iranian woman has been sentenced to...     1  "
            ],
            "text/html": [
              "\n",
              "  <div id=\"df-0a7eddc0-3206-4ca8-b325-e0b69b31d1ae\" class=\"colab-df-container\">\n",
              "    <div>\n",
              "<style scoped>\n",
              "    .dataframe tbody tr th:only-of-type {\n",
              "        vertical-align: middle;\n",
              "    }\n",
              "\n",
              "    .dataframe tbody tr th {\n",
              "        vertical-align: top;\n",
              "    }\n",
              "\n",
              "    .dataframe thead th {\n",
              "        text-align: right;\n",
              "    }\n",
              "</style>\n",
              "<table border=\"1\" class=\"dataframe\">\n",
              "  <thead>\n",
              "    <tr style=\"text-align: right;\">\n",
              "      <th></th>\n",
              "      <th>id</th>\n",
              "      <th>title</th>\n",
              "      <th>author</th>\n",
              "      <th>text</th>\n",
              "      <th>label</th>\n",
              "    </tr>\n",
              "  </thead>\n",
              "  <tbody>\n",
              "    <tr>\n",
              "      <th>0</th>\n",
              "      <td>0</td>\n",
              "      <td>House Dem Aide: We Didn’t Even See Comey’s Let...</td>\n",
              "      <td>Darrell Lucus</td>\n",
              "      <td>House Dem Aide: We Didn’t Even See Comey’s Let...</td>\n",
              "      <td>1</td>\n",
              "    </tr>\n",
              "    <tr>\n",
              "      <th>1</th>\n",
              "      <td>1</td>\n",
              "      <td>FLYNN: Hillary Clinton, Big Woman on Campus - ...</td>\n",
              "      <td>Daniel J. Flynn</td>\n",
              "      <td>Ever get the feeling your life circles the rou...</td>\n",
              "      <td>0</td>\n",
              "    </tr>\n",
              "    <tr>\n",
              "      <th>2</th>\n",
              "      <td>2</td>\n",
              "      <td>Why the Truth Might Get You Fired</td>\n",
              "      <td>Consortiumnews.com</td>\n",
              "      <td>Why the Truth Might Get You Fired October 29, ...</td>\n",
              "      <td>1</td>\n",
              "    </tr>\n",
              "    <tr>\n",
              "      <th>3</th>\n",
              "      <td>3</td>\n",
              "      <td>15 Civilians Killed In Single US Airstrike Hav...</td>\n",
              "      <td>Jessica Purkiss</td>\n",
              "      <td>Videos 15 Civilians Killed In Single US Airstr...</td>\n",
              "      <td>1</td>\n",
              "    </tr>\n",
              "    <tr>\n",
              "      <th>4</th>\n",
              "      <td>4</td>\n",
              "      <td>Iranian woman jailed for fictional unpublished...</td>\n",
              "      <td>Howard Portnoy</td>\n",
              "      <td>Print \\nAn Iranian woman has been sentenced to...</td>\n",
              "      <td>1</td>\n",
              "    </tr>\n",
              "  </tbody>\n",
              "</table>\n",
              "</div>\n",
              "    <div class=\"colab-df-buttons\">\n",
              "\n",
              "  <div class=\"colab-df-container\">\n",
              "    <button class=\"colab-df-convert\" onclick=\"convertToInteractive('df-0a7eddc0-3206-4ca8-b325-e0b69b31d1ae')\"\n",
              "            title=\"Convert this dataframe to an interactive table.\"\n",
              "            style=\"display:none;\">\n",
              "\n",
              "  <svg xmlns=\"http://www.w3.org/2000/svg\" height=\"24px\" viewBox=\"0 -960 960 960\">\n",
              "    <path d=\"M120-120v-720h720v720H120Zm60-500h600v-160H180v160Zm220 220h160v-160H400v160Zm0 220h160v-160H400v160ZM180-400h160v-160H180v160Zm440 0h160v-160H620v160ZM180-180h160v-160H180v160Zm440 0h160v-160H620v160Z\"/>\n",
              "  </svg>\n",
              "    </button>\n",
              "\n",
              "  <style>\n",
              "    .colab-df-container {\n",
              "      display:flex;\n",
              "      gap: 12px;\n",
              "    }\n",
              "\n",
              "    .colab-df-convert {\n",
              "      background-color: #E8F0FE;\n",
              "      border: none;\n",
              "      border-radius: 50%;\n",
              "      cursor: pointer;\n",
              "      display: none;\n",
              "      fill: #1967D2;\n",
              "      height: 32px;\n",
              "      padding: 0 0 0 0;\n",
              "      width: 32px;\n",
              "    }\n",
              "\n",
              "    .colab-df-convert:hover {\n",
              "      background-color: #E2EBFA;\n",
              "      box-shadow: 0px 1px 2px rgba(60, 64, 67, 0.3), 0px 1px 3px 1px rgba(60, 64, 67, 0.15);\n",
              "      fill: #174EA6;\n",
              "    }\n",
              "\n",
              "    .colab-df-buttons div {\n",
              "      margin-bottom: 4px;\n",
              "    }\n",
              "\n",
              "    [theme=dark] .colab-df-convert {\n",
              "      background-color: #3B4455;\n",
              "      fill: #D2E3FC;\n",
              "    }\n",
              "\n",
              "    [theme=dark] .colab-df-convert:hover {\n",
              "      background-color: #434B5C;\n",
              "      box-shadow: 0px 1px 3px 1px rgba(0, 0, 0, 0.15);\n",
              "      filter: drop-shadow(0px 1px 2px rgba(0, 0, 0, 0.3));\n",
              "      fill: #FFFFFF;\n",
              "    }\n",
              "  </style>\n",
              "\n",
              "    <script>\n",
              "      const buttonEl =\n",
              "        document.querySelector('#df-0a7eddc0-3206-4ca8-b325-e0b69b31d1ae button.colab-df-convert');\n",
              "      buttonEl.style.display =\n",
              "        google.colab.kernel.accessAllowed ? 'block' : 'none';\n",
              "\n",
              "      async function convertToInteractive(key) {\n",
              "        const element = document.querySelector('#df-0a7eddc0-3206-4ca8-b325-e0b69b31d1ae');\n",
              "        const dataTable =\n",
              "          await google.colab.kernel.invokeFunction('convertToInteractive',\n",
              "                                                    [key], {});\n",
              "        if (!dataTable) return;\n",
              "\n",
              "        const docLinkHtml = 'Like what you see? Visit the ' +\n",
              "          '<a target=\"_blank\" href=https://colab.research.google.com/notebooks/data_table.ipynb>data table notebook</a>'\n",
              "          + ' to learn more about interactive tables.';\n",
              "        element.innerHTML = '';\n",
              "        dataTable['output_type'] = 'display_data';\n",
              "        await google.colab.output.renderOutput(dataTable, element);\n",
              "        const docLink = document.createElement('div');\n",
              "        docLink.innerHTML = docLinkHtml;\n",
              "        element.appendChild(docLink);\n",
              "      }\n",
              "    </script>\n",
              "  </div>\n",
              "\n",
              "\n",
              "    <div id=\"df-77d67eeb-e06d-4e20-ae56-9f1a460aabd3\">\n",
              "      <button class=\"colab-df-quickchart\" onclick=\"quickchart('df-77d67eeb-e06d-4e20-ae56-9f1a460aabd3')\"\n",
              "                title=\"Suggest charts\"\n",
              "                style=\"display:none;\">\n",
              "\n",
              "<svg xmlns=\"http://www.w3.org/2000/svg\" height=\"24px\"viewBox=\"0 0 24 24\"\n",
              "     width=\"24px\">\n",
              "    <g>\n",
              "        <path d=\"M19 3H5c-1.1 0-2 .9-2 2v14c0 1.1.9 2 2 2h14c1.1 0 2-.9 2-2V5c0-1.1-.9-2-2-2zM9 17H7v-7h2v7zm4 0h-2V7h2v10zm4 0h-2v-4h2v4z\"/>\n",
              "    </g>\n",
              "</svg>\n",
              "      </button>\n",
              "\n",
              "<style>\n",
              "  .colab-df-quickchart {\n",
              "      --bg-color: #E8F0FE;\n",
              "      --fill-color: #1967D2;\n",
              "      --hover-bg-color: #E2EBFA;\n",
              "      --hover-fill-color: #174EA6;\n",
              "      --disabled-fill-color: #AAA;\n",
              "      --disabled-bg-color: #DDD;\n",
              "  }\n",
              "\n",
              "  [theme=dark] .colab-df-quickchart {\n",
              "      --bg-color: #3B4455;\n",
              "      --fill-color: #D2E3FC;\n",
              "      --hover-bg-color: #434B5C;\n",
              "      --hover-fill-color: #FFFFFF;\n",
              "      --disabled-bg-color: #3B4455;\n",
              "      --disabled-fill-color: #666;\n",
              "  }\n",
              "\n",
              "  .colab-df-quickchart {\n",
              "    background-color: var(--bg-color);\n",
              "    border: none;\n",
              "    border-radius: 50%;\n",
              "    cursor: pointer;\n",
              "    display: none;\n",
              "    fill: var(--fill-color);\n",
              "    height: 32px;\n",
              "    padding: 0;\n",
              "    width: 32px;\n",
              "  }\n",
              "\n",
              "  .colab-df-quickchart:hover {\n",
              "    background-color: var(--hover-bg-color);\n",
              "    box-shadow: 0 1px 2px rgba(60, 64, 67, 0.3), 0 1px 3px 1px rgba(60, 64, 67, 0.15);\n",
              "    fill: var(--button-hover-fill-color);\n",
              "  }\n",
              "\n",
              "  .colab-df-quickchart-complete:disabled,\n",
              "  .colab-df-quickchart-complete:disabled:hover {\n",
              "    background-color: var(--disabled-bg-color);\n",
              "    fill: var(--disabled-fill-color);\n",
              "    box-shadow: none;\n",
              "  }\n",
              "\n",
              "  .colab-df-spinner {\n",
              "    border: 2px solid var(--fill-color);\n",
              "    border-color: transparent;\n",
              "    border-bottom-color: var(--fill-color);\n",
              "    animation:\n",
              "      spin 1s steps(1) infinite;\n",
              "  }\n",
              "\n",
              "  @keyframes spin {\n",
              "    0% {\n",
              "      border-color: transparent;\n",
              "      border-bottom-color: var(--fill-color);\n",
              "      border-left-color: var(--fill-color);\n",
              "    }\n",
              "    20% {\n",
              "      border-color: transparent;\n",
              "      border-left-color: var(--fill-color);\n",
              "      border-top-color: var(--fill-color);\n",
              "    }\n",
              "    30% {\n",
              "      border-color: transparent;\n",
              "      border-left-color: var(--fill-color);\n",
              "      border-top-color: var(--fill-color);\n",
              "      border-right-color: var(--fill-color);\n",
              "    }\n",
              "    40% {\n",
              "      border-color: transparent;\n",
              "      border-right-color: var(--fill-color);\n",
              "      border-top-color: var(--fill-color);\n",
              "    }\n",
              "    60% {\n",
              "      border-color: transparent;\n",
              "      border-right-color: var(--fill-color);\n",
              "    }\n",
              "    80% {\n",
              "      border-color: transparent;\n",
              "      border-right-color: var(--fill-color);\n",
              "      border-bottom-color: var(--fill-color);\n",
              "    }\n",
              "    90% {\n",
              "      border-color: transparent;\n",
              "      border-bottom-color: var(--fill-color);\n",
              "    }\n",
              "  }\n",
              "</style>\n",
              "\n",
              "      <script>\n",
              "        async function quickchart(key) {\n",
              "          const quickchartButtonEl =\n",
              "            document.querySelector('#' + key + ' button');\n",
              "          quickchartButtonEl.disabled = true;  // To prevent multiple clicks.\n",
              "          quickchartButtonEl.classList.add('colab-df-spinner');\n",
              "          try {\n",
              "            const charts = await google.colab.kernel.invokeFunction(\n",
              "                'suggestCharts', [key], {});\n",
              "          } catch (error) {\n",
              "            console.error('Error during call to suggestCharts:', error);\n",
              "          }\n",
              "          quickchartButtonEl.classList.remove('colab-df-spinner');\n",
              "          quickchartButtonEl.classList.add('colab-df-quickchart-complete');\n",
              "        }\n",
              "        (() => {\n",
              "          let quickchartButtonEl =\n",
              "            document.querySelector('#df-77d67eeb-e06d-4e20-ae56-9f1a460aabd3 button');\n",
              "          quickchartButtonEl.style.display =\n",
              "            google.colab.kernel.accessAllowed ? 'block' : 'none';\n",
              "        })();\n",
              "      </script>\n",
              "    </div>\n",
              "\n",
              "    </div>\n",
              "  </div>\n"
            ],
            "application/vnd.google.colaboratory.intrinsic+json": {
              "type": "dataframe",
              "variable_name": "news",
              "summary": "{\n  \"name\": \"news\",\n  \"rows\": 20822,\n  \"fields\": [\n    {\n      \"column\": \"id\",\n      \"properties\": {\n        \"dtype\": \"string\",\n        \"num_unique_values\": 20822,\n        \"samples\": [\n          \"2501\",\n          \"15557\",\n          \"15541\"\n        ],\n        \"semantic_type\": \"\",\n        \"description\": \"\"\n      }\n    },\n    {\n      \"column\": \"title\",\n      \"properties\": {\n        \"dtype\": \"string\",\n        \"num_unique_values\": 19817,\n        \"samples\": [\n          \"Donald Trump Embraces Wider Use of Stop-and-Frisk by Police - The New York Times\",\n          \"ICE Arrests 160 in Sweeping California Enforcement, Possibly More Across 6 States - Breitbart\",\n          \"Patients Most Dangerous In Winter When They\\u2019re Dying Off, Warn HSE\"\n        ],\n        \"semantic_type\": \"\",\n        \"description\": \"\"\n      }\n    },\n    {\n      \"column\": \"author\",\n      \"properties\": {\n        \"dtype\": \"category\",\n        \"num_unique_values\": 4205,\n        \"samples\": [\n          \"stevor\",\n          \"Seth Kugel\",\n          \"Sylvie Bigar\"\n        ],\n        \"semantic_type\": \"\",\n        \"description\": \"\"\n      }\n    },\n    {\n      \"column\": \"text\",\n      \"properties\": {\n        \"dtype\": \"string\",\n        \"num_unique_values\": 20388,\n        \"samples\": [\n          \"The great debate over what \\u201cnationalism\\u201d means will surely be filled by the closing passage of President Donald Trump\\u2019s inaugural speech:[A new national pride will stir ourselves, lift our sights and heal our divisions. It\\u2019s time to remember that old wisdom our soldiers will never forget, that whether we are black or brown or white, we all bleed the same red blood of patriots. We all enjoy the same glorious freedoms and we all salute the same great American flag. And whether a child is born in the urban sprawl of Detroit or the windswept plains of Nebraska, they look up at the same night sky, they fill their heart with the same dreams and they are infused with the breath of life by the same almighty creator. So to all Americans in every city near and far, small and large, from mountain to mountain, from ocean to ocean, hear these words: You will never be ignored again. Your voice, your hopes and your dreams will define our American destiny. And your courage and goodness and love will forever guide us along the way. Together we will make America strong again, we will make America wealthy again, we will make America proud again, we will make America safe again. And, yes, together we will make America great again. Trump\\u2019s inaugural address, reportedly written by chief strategist Stephen K. Bannon and senior advisor Stephen Miller, was criticized as aggressive, but it was largely an effort to explain what he meant by \\u201cMake America Great Again,\\u201d which is (thankfully!) a very aggressive idea. For an example of a passive campaign theme, try \\u201cHope and Change. \\u201d There is nothing more passive than lying around and hoping some Santa Claus politician comes along with a bag of other people\\u2019s money to fix your life.  Trump was also criticized for delivering an inaugural address that sounded too much like his campaign speeches. This was necessary, because the mainstream media didn\\u2019t relay enough of what he said on the stump. They were too busy freaking out over whatever \\u201coutrageous\\u201d thing he said at any given rally.  It was appropriate for Trump to succinctly explain his platform to the widest audience he\\u2019ll ever have, both within and beyond America\\u2019s borders, with no media filter. Until now, most of the media commentary on \\u201cMake America Great Again\\u201d consisted of whining about how unfair it was to the inexplicably   Barack Obama, mixed with the occasional lefty primal scream about how America was never great to begin with. Perhaps most importantly, Trump used his inaugural to beat down the asinine smear of \\u201cwhite nationalism. \\u201d His talk of national pride has been corrupted to mean unthinking national chauvinism by the Left. \\u201cAmerica first\\u201d is twisted to mean \\u201cscrew everybody but America\\u201d (or, in the hands of the more mendacious critics, \\u201cscrew the Jews. \\u201d) Then it gets twisted even further by welding the unspoken word \\u201cwhite\\u201d onto \\u201cnationalism,\\u201d transforming it into a racist call to arms. The number of actual white nationalists who talk about white nationalism is vastly smaller than the number of liberals who insist that\\u2019s what they hear when Trump talks about \\u201cAmerican pride. \\u201d Maybe it\\u2019s time for liberals to check in with their therapists and have a long talk about why they hear so many racist dog whistles. In his inaugural, Trump could not have been more clear about the inclusiveness of his vision for American pride. \\u201cWhether we are black or brown or white, we all bleed the same red blood of patriots\\u201d is about as clear as it gets.  Of course, the usual   media swamis will declare they\\u2019ve looked inside Trump\\u2019s mind, and he didn\\u2019t really mean that. He just threw those words in because Kellyanne told him he needed a little racism insurance. But everything about that speech, and everything Trump has said about resurgent American pride, and everything said by the people who want to reclaim nationalism from chauvinism, is inclusive. The point is to insist on both national priorities and national responsibilities, for everyone from   citizens at the immigration office to President Trump and his Cabinet.  The woman from Mexico who took her oath of citizenship yesterday is 100% American. The man from Mexico who slipped across the border in a coyote truck yesterday is not. President Trump has a long list of sacred duties to the woman, but not to the man. This is not a complicated idea, or a racist one, or really even a nationalist one. It\\u2019s Civics 101. It\\u2019s also the idea global socialism must strangle, in order to survive. Liberals who rail against \\u201cnationalism\\u201d are primarily interested in creating a world of zero accountability for their maximum leaders. With borders erased, the Ruling Class can hack the electorate to suit its political needs, and their business partners can slash the cost of labor. \\u201cInternationalist\\u201d leaders are accountable to no nation\\u2019s citizens. Trump\\u2019s inaugural address included a bold statement of the opposite principle. America\\u2019s president has neither control, nor responsibility, over the economies of other nations. He is responsible to Americans, from Nebraska to Detroit, as Trump put it. He set a very high bar for himself to clear by pointedly mentioning Detroit.  He also made a promise that no group will be preyed upon for the advantages of another. To be the president of all Americans means he is the sugar daddy of none. No more will the power of government be used to penalize groups the Left hates, and beat them into line with new social orthodoxies. No more will Washington dream up economic plans that benefit some, or even most, while designating certain \\u201cforgotten people\\u201d as lifetime losers who need to shut up and accept their fate.  Trump referred to \\u201cwealth\\u201d several times in his speech. \\u201cWealth\\u201d means more than just money. Wealth benefits all, no matter how loudly socialists may screech about too much of it accruing to the One Percent. Some people got very rich by designing, building, and selling the device you\\u2019re staring at right now. You are wealthier than your grandparents, because you have it. As for a proud America\\u2019s proper relationship with other nations, Trump said: We will seek friendship and goodwill with the nations of the world, but we do so with the understanding that it is the right of all nations to put their own interests first. We do not seek to impose our way of life on anyone, but rather to let it shine as an example. We will shine for everyone to follow. That\\u2019s not chauvinism, or imperialism. That\\u2019s the understanding America was founded upon. When Thomas Jefferson took his turn at the presidential bat, he called for \\u201cpeace, commerce, and honest friendship with all nations, entangling alliances with none. \\u201d No one interpreted that to mean \\u201cto Hell with the rest of the world. \\u201d Also, not to put too fine a point on it, but just about every other nation on Earth understands the concept of putting its own interests first, and believes it has a moral obligation to do so. The leaders of some other nations are very good at murmuring sweet globalist nothings into the ears of   elites, but what they actually do is ruthlessly pursue their own national interests. The charade is made much easier for them by the universal understanding that America is supposed to be the one country that never gets to look out for itself, that has no moral right to protect its own interests. Those are all much easier promises to make than keep, to be sure, but Trump did make them. It is wise to be skeptical, and hold his feet to the very large fire he built with that inaugural address.\",\n          \"By Brig Asif H. Raja on November 1, 2016 \\nAsif Haroon Raja \\nThe ISI had developed its long arm capability during the tenures of Gen Akhtar Abdur Rehman, Lt Gen Hamid Gul (VT editor) and Lt Gen Javed Nasir as DG ISI. It was owing to this capability of hitting the chosen target outside the frontiers of Pakistan that the ISI earned the reputation of a dreaded outfit and the best in Asia. The long arm began to shrivel when Benazir Bhutto was PM from 1988 to 1990 and Gen Waheed Kakar was COAS and Lt Gen Javed Ashraf Qazi had replaced Gen Javed Nasir. This change in posture was a result of pressure of the US and the West, pressing Pakistan to refrain from meddling in Indian Occupied Kashmir (IOK) and in India, or else it will be declared a terrorist state. Pressure was mounted at the behest of India which had become strategic partner of USA and Israel in 1991/1992 and darling of the West. \\nAfter the occupation of Afghanistan by 1, 50,000 Soviet forces in December 1979, Pakistan under Gen Ziaul Haq had decided to provide refuge to about 5 million Afghan refugees and to support the Afghan Mujahideen in their resistance. The US came forward with a package of $ 3.5 billion in June 1981 after making a measured assessment that Pakistan had the will and capability to fight the proxy war. The offer was accepted only when it was conveyed that the ISI will coordinate and conduct the entire war without the aid of CIA and that the US and others would restrict their support to provision of funds and weapons/equipment only. As a Frontline State, Pakistan suffered a great deal throughout the Afghan war at the hands of KGB-KHAD-RAW-AlZulfiqar nexus and Afghan armed forces, but achieved the miracle by defeating and pushing out Soviet forces in February 1989. After achieving its objective without employing a single soldier, the US abandoned Pakistan as well as the Mujahideen who had sacrificed 1.5 million people and had helped the US in becoming a sole super power. \\nOnce Pakistan fell from the grace of USA and it was put under sanctions on account of its covert nuclear program suspected to be geared towards making an Islamic bomb, it came under the shadow of black star. Pakistan\\u2019s nuclear program became an eyesore for India, Israel and USA. It faced the whole brunt of fallout effects of ten-year Afghan war that had been fully supported by the US led free world. USSR that had shrunk to Russian Federation was highly bitter, while India was perpetually hostile. Iran was not so friendly owing to its reservations over the developments in Afghanistan. Explosive situation in Afghanistan due to civil war and power tussle among the seven Mujahideen groups impacted the security of Pakistan. \\nStart of armed insurgency in IOK in late 1989 and India pumping in over 700,000 troops into the Valley had its effects on Pakistan\\u2019s security dynamics. In 1990/91, both sides had come close to war. Internally, the society had become militarized due to the Afghan war and sectarianism fomented by Iran and Saudi Arabia had created serious law and order situation in Punjab. PPP and PML-N acrimoniously tussled with each other for power because of which no govt could complete its mandatory 5 years tenure. \\nFragmentation of USSR and demise of communism on account of its military defeat in Afghanistan and increase of influence of Pakistan and India decreasing its influence in Afghanistan had vexed India. It feared that Pakistan may exploit the situation in IOK and liberate it with the help of over 60 Jihadi groups and take its revenge of the humiliation it had suffered in East Pakistan in 1971. It dreaded that Pakistan may replicate its model of supporting the Mukti Bahini. Sensing the gravity of the situation, India started propagating that Pakistan is behind the insurgency in IOK and that the ISI is funding, training and launching terrorists from Azad Jammu & Kashmir (AJK). It urged the UN and world powers to rein in Pakistan and restrain ISI from conducting cross LoC terrorism. \\nThe US, both Republicans and Democrats, had been constantly wooing India to join its camp since early 1950s, but India preferred the Soviet camp, although it professed to be non-aligned. It was elated when India feeling orphaned after the collapse of USSR fell like a ripe apple into the waiting arms of USA and both became bedfellows in 1991. Once its newfound love sought help from her paramour, the latter stood behind her and sternly cautioned Pakistan to lay its hands off IOK. Change in circumstances compelled Pakistan to restrict its support to the Kashmiris in distress to moral, political and diplomatic levels only. The Kashmir oriented Jihadi groups based in AJK and in Southern Punjab however continued to extend support to the Kashmiris seeking right of self-determination as provided for in the UN resolutions. Indian security forces equipped with draconian laws and license to kill without any fear of accountability or censure by the UN and world powers carried out inhuman torture, employed massive force, and used rape as a weapon to break the will of the freedom fighters. The UN and international community turned a deaf ear to the cries of Kashmiris. \\nDespite the fact that IOK had become the most militarized region of the world (one soldier for 17 civilians), and Kashmiris had suffered over 100,000 fatalities, 10,000 rapes, detention of thousands in secret dens and destruction of their property, the freedom fighters kept the torch of liberty aglow. The heroics of Kashmiris against heavy odds had a telling effect on the morale of Indian Army and paramilitary forces in IOK. Soldiers suffered from demoralization and homesickness; cases of suicides, desertions, killing of seniors and comrades by soldiers, and indiscipline jumped up at an alarming rate. Officers and men dreaded posting to Kashmir, while rate of compassionate cases wanting posting out from Kashmir shot up. A stage came when recruitment in Army dropped to rock bottom levels. The then Indian Army chief had to appear on the TV and run an ad campaign to appeal to the youth to join the Army on better pay scale and perks. Kashmir had become a perforated wound for India and economic cost was becoming unbearable. It was becoming difficult for India to hide its massive human rights violations and barbarities of Indian security forces. \\nHere I may add that the Indian Army had suffered humiliation at Dras-Kargil in 1999 at the hands of handful of Mujahideen and irregulars of Northern Light Infantry. It was eventually bailed out by the US led G-8 by exerting immense pressure on Pakistan to immediately vacate the captured territories. The Indian armed forces went through another embarrassment in 2002 when it had to sheepishly withdraw from its western border after a ten-month standoff during which it had constantly huffed and puffed but couldn\\u2019t pick up courage to cross the border. Aggressive response of Pak armed forces had taken the steam out of their chauvinism. \\nUnfortunately, all that was gained on the Kashmir front and on the military front was wasted away after Gen Musharraf wilted under the US pressure in 2003 and decided to take steps to please USA and India. Reining in Kashmir focused Jihadi groups, allowing India to fence the LoC and signing peace treaty with India in January 2004 changed the perspective. It helped Indian military to suppress Kashmir freedom movement. Earlier on, Musharraf had submitted to all the 7 demands of Washington in September 2001. Free hand given to CIA and FBI had enabled the two to establish their network in FATA and gain control over airports and seaport in Pakistan. Intelligence acquisition in FATA was taken over by CIA and ISI pushed on the back seat. \\nIndo-Pak peace treaty in 2004 enabled RAW to ignite FATA, Khyber Pakhtunkhwa (KP), Baluchistan and Karachi. While RAW assisted by CIA, NDS, MI-6 and Mossad made full use of its long arm to bleed Pakistan with the help of proxies, Pak security forces and ISI remained handicapped. The so-called friends pushed Pakistan to fight terrorism but secretly backed the terrorists. The US kept twisting the arm of Pakistan that if ISI meddled into India or Afghanistan it will be declared a rogue outfit. Perforce, the ISI undertook protective measures only, but its defensive actions were more often breached because the so-called allies stabbed Pakistan in the back. As a consequence, RAW and its strategic partners carried out one-sided covert war while the ISI at best tried to ward off the attacks. In spite of defensive policy of the govt and ISI, and Pakistan suffering much more human casualties than any other country in the war on terror, ISI was blamed to be in collusion with Al-Qaeda, Taliban, Haqqani Network, Jaish-e-Muhammad (JeM) and Lashkar-e-Taiba (LeT). These were termed as strategic assets of military establishment to overcome conventional inferiority against arch enemy India. The lost intelligence space In FATA/KP was gradually recovered when Lt Gen Shuja Pasha took over as DG ISI and Gen Ashfaq Kayani as COAS in 2008. \\nAll the terror attacks that took place in India between 2001 and 2008 were pinned on JeM and LeT and their connection was made with ISI. Since Pakistan made no effort to disprove Indian contention even after it was revealed by Indian investigative agencies and Home Ministry officials that Hindu terror groups and Indian military intelligence officers were involved in the attacks, it became easier for India to further strengthen its narrative of portraying Pakistan as a terror abetting state and a nursery of terrorism. India\\u2019s narrative was boosted up by its strategic allies. The US dubbed Pakistan as the most dangerous county in the world. Pakistan\\u2019s overall defensive policy and apologetic stance emboldened its detractors to keep whipping and bleeding it without fear of tit for tat response from ISI. \\nOther than the salvos fired by the Indo-Afghan-US-Israel nexus on Pak Army and ISI, Pakistan political leadership of major political parties also view the two premier institutions with distrust. Both PPP and PML-N in line with their 2006 Charter of Democracy made efforts to enfeeble ISI and keep Army under their thumb. First attempt was made by Benazir Bhutto when she replaced Lt Gen Hamid Gul with retired Lt Gen Kallue in 1989 and next tasked Air Marshal Zulfiqar to cut ISI to size under the garb of reforms. PM Yusaf Raza Gilani tried to civilianize ISI in August 2008 by placing it under Ministry of Interior. Kerry Lugar Bill in 2009 and Memo scandal in 2011 were other attempts to curtail military\\u2019s power. Nawaz Sharif has a history of locking horns with every Army chief and has still not got out of the hangover of Gen Musharraf. Although he didn\\u2019t clash with Gen Raheel but at times civil-military relations became tense. \\nIt has now been conclusively established that RAW and NDS in unison and backed by other agencies are deeply involved in proxy war in Pakistan since 2003 and have inflicted tens of thousands of cuts on the body of Pakistan and its people. Series of conspiracies have been hatched and launched to destabilize and fragment Pakistan. RAW-NDS nexus backed by CIA is continuing to use Afghanistan as a launching pad for terror attacks in Pakistan. In order to scuttle CPEC, focus of attacks is on Baluchistan and KP. India is keeping the LoC on fire. So far it has violated 2003 ceasefire agreement 178 times and killed 19 civilians and injured 80. \\nThe anti-Pakistan foreign agencies are making full use of TTP, Jamaat Ahrar, Lashkar Jhangvi, BLA, BRA, BLF and MQM as proxies. London is a safe haven for MQM leadership and Baloch rebel leaders, while Afghanistan has provided sanctuaries to TTP runaway leaders in Kunar, Nuristan and Nangarhar. Besides these strategic assets, the detractors are also making use of NGOs, human rights activists and segment of media to make Pakistan a compliant state of India. Since HN, JeM, and LeT are not playing the game of foreign agencies, they are dubbed as terrorist groups and strategic assets of Pak Army/ISI. They want Pakistan to take strict action against them or else face isolation and sanctions. \\nIt was in the backdrop of this concern of US and India that the Dawn News published a story on October 6. The planted story was allegedly furnished by someone from within the PM House where a national security conference presided by the PM and attended by Foreign Secretary, Punjab Chief Minister, COAS, DG ISI and National Security Adviser was held. The invented story written by Cyril Almeida gave an impression of serious rift between civil and military leadership and that while the govt wanted to proceed against the defunct militant groups, the ISI didn\\u2019t. Probable motive of concocted story was to demean the Army/ISI and to reinforce Indo-US stance that Pak Army and ISI were in league with terror groups. The types of Hussain Haqqani, Ayesha Sadiqa, Farzana Bari and several other liberal journalists assembled in London two days ago to play up this story. MQM (Altaf) hosted them. To ascertain the truth, a high powered committee comprising members from three intelligence agencies will carry out inquest. \\nHaving collected tons of evidence, yet Pakistan takes the barbs and whips without a whimper and doesn\\u2019t pick up courage to strike back. The long arm of ISI remains sheathed for reasons best known to the policy makers. It implies our leaders have decided to give a free hand to our enemies to continue bleeding Pakistan without any fear of retaliation or even protest. Going by the well-established concept that \\u2018offence is the best defence\\u2019, until and unless the ISI pay back the RAW and NDS in the same coin, one sided bleeding of Pakistanis will continue. Long arm must be unsheathed. \\nThe writer is retired Brig, war veteran, defence analyst, columnist, author of 5 books, Vice Chairman Thinkers Forum Pakistan, DG Measac Research Centre, and Member Executive Council PESS. Related Posts:\",\n          \"Matt Bissonnette, a former member of Navy SEAL Team 6 who wrote an account of the raid that killed Osama bin Laden, agreed on Friday to forfeit $6. 8 million in book royalties and speaking fees and apologized for failing to clear his disclosures with the Pentagon, according to federal court documents. Mr. Bissonnette also recently forfeited $180, 000 in fees for consulting work that he did for military contractors while he was still on the SEAL team, his lawyer, Robert D. Luskin, said in an interview. If approved by a federal judge in Alexandria, Va. the royalty settlement would bring an end to more than two years of civil and criminal investigations into Mr. Bissonnette, who won several awards for valor in Iraq and Afghanistan before writing \\u201cNo Easy Day,\\u201d his   book on the Bin Laden raid, under the pen name Mark Owen. The firsthand account of the daring raid was one of several   books and movies involving former Navy SEALS that has led to criticism within a community once known for discretion that Mr. Bissonnette and the others were cashing in on their exploits. The Justice Department conducted criminal investigations into whether Mr. Bissonnette had disclosed classified information in his book or speeches and whether he had violated    laws in consulting for companies that had contracts with SEAL Team 6. In the end, the department did not bring any criminal charges, settling instead for the cash forfeitures. Mr. Bissonnette said in a statement Friday that he regretted his failure to submit \\u201cNo Easy Day\\u201d for vetting before it was published in 2012 so Pentagon officials could ensure that it did not include classified information. Mr. Bissonnette acknowledged that he was required under his security clearances to let the Pentagon review the book, and he blamed another lawyer for advising him that he did not need to do so. \\u201cI acknowledge my mistake and have paid a stiff price, both personally and financially, for that error,\\u201d he said. \\u201cI accept responsibility for failing to submit the book for review and apologize sincerely for my oversight. \\u201d Documents filed in Federal District Court in Alexandria on Friday indicated that Mr. Bissonnette must transfer nearly $6. 8 million to the government as part of the settlement. The amount includes all of the $6. 7 million in royalties he has earned on \\u201cNo Easy Day,\\u201d as well as $100, 000 in fees for six speeches he gave in early 2013 before the government approved the slides he used in such presentations. Mr. Bissonnette wrote in \\u201cNo Easy Day\\u201d that he was one of the SEALs who shot Bin Laden, and he and Robert O\\u2019Neill, another former SEAL Team 6 member who claims his shots were the fatal ones, have competed on the lecture circuit. Military officials said that Mr. O\\u2019Neill is writing a book of his own and has asked the Pentagon to vet it. While Mr. Bissonnette\\u2019s fight with the Pentagon over his book has received public attention, some details of his consulting work while he was still a SEAL Team 6 member, as well as his fee forfeiture, have not been disclosed. Mr. Luskin said that Mr. Bissonnette and the federal authorities reached a \\u201cnonprosecution agreement\\u201d in May in which Mr. Bissonnette forfeited $180, 000 in fees for advising three equipment manufacturers who were doing business with SEAL Team 6 while he was on the team. Mr. Luskin said the fees dated back as far as 2006, when Mr. Bissonnette was the research and development representative for his squadron within Team 6. Other former SEAL members have said that his job was to figure out what types of equipment they needed. Mr. Luskin said that the $180, 000 came from   a helmet maker now owned by the Gentex Corporation in Carbondale, Pa. and two   manufacturers based in Virginia Beach  \\u2014   SS Precision and London Bridge Trading. No executives at the three companies were available for comment. Mr. Luskin said that Mr. Bissonnette and other SEAL members also received consulting fees from companies that designed tactical clothing and gear for other parts of the military or for sales to outdoor enthusiasts. Mr. Bissonnette has maintained that he cleared the consulting work in advance with a Navy lawyer, and Mr. Luskin said that helped persuade prosecutors that \\u201cthere was clearly on Matt\\u2019s part no intent to breach the    laws. \\u201d Navy officials say they have restricted such moonlighting since then. Mr. Luskin also noted that a number of   officials have assisted other authors writing about the Bin Laden raid as well as the creators of the movie \\u201cZero Dark Thirty. \\u201d But, he said, only Mr. Bissonnette has paid any penalties for the disclosures.\"\n        ],\n        \"semantic_type\": \"\",\n        \"description\": \"\"\n      }\n    },\n    {\n      \"column\": \"label\",\n      \"properties\": {\n        \"dtype\": \"category\",\n        \"num_unique_values\": 4,\n        \"samples\": [\n          \"0\",\n          \" \\u0447\\u0442\\u043e\\u0431\\u044b \\u044d\\u0442\\u043e \\u0431\\u044b\\u043b\\u0430 \\u0434\\u043e\\u0440\\u043e\\u0433\\u0430 \\u0441 \\u0434\\u0432\\u0443\\u0441\\u0442\\u043e\\u0440\\u043e\\u043d\\u043d\\u0438\\u043c \\u0434\\u0432\\u0438\\u0436\\u0435\\u043d\\u0438\\u0435\\u043c.\",\n          \"1\"\n        ],\n        \"semantic_type\": \"\",\n        \"description\": \"\"\n      }\n    }\n  ]\n}"
            }
          },
          "metadata": {},
          "execution_count": 3
        }
      ],
      "source": [
        "news = pd.read_csv(\"train.txt\", on_bad_lines='skip', engine='python')\n",
        "\n",
        "news.head()"
      ]
    },
    {
      "cell_type": "code",
      "execution_count": 4,
      "id": "d4074687-b188-466f-99a9-2d37b71a3a01",
      "metadata": {
        "colab": {
          "base_uri": "https://localhost:8080/",
          "height": 206
        },
        "id": "d4074687-b188-466f-99a9-2d37b71a3a01",
        "outputId": "ccaeda34-f807-423e-b003-bc21ad9be4f0"
      },
      "outputs": [
        {
          "output_type": "execute_result",
          "data": {
            "text/plain": [
              "  id                                              title              author  \\\n",
              "0  0  House Dem Aide: We Didn’t Even See Comey’s Let...       Darrell Lucus   \n",
              "1  1  FLYNN: Hillary Clinton, Big Woman on Campus - ...     Daniel J. Flynn   \n",
              "2  2                  Why the Truth Might Get You Fired  Consortiumnews.com   \n",
              "3  3  15 Civilians Killed In Single US Airstrike Hav...     Jessica Purkiss   \n",
              "4  4  Iranian woman jailed for fictional unpublished...      Howard Portnoy   \n",
              "\n",
              "                                                text  \n",
              "0  House Dem Aide: We Didn’t Even See Comey’s Let...  \n",
              "1  Ever get the feeling your life circles the rou...  \n",
              "2  Why the Truth Might Get You Fired October 29, ...  \n",
              "3  Videos 15 Civilians Killed In Single US Airstr...  \n",
              "4  Print \\nAn Iranian woman has been sentenced to...  "
            ],
            "text/html": [
              "\n",
              "  <div id=\"df-74f7771e-0379-4992-a59f-9c99633ce237\" class=\"colab-df-container\">\n",
              "    <div>\n",
              "<style scoped>\n",
              "    .dataframe tbody tr th:only-of-type {\n",
              "        vertical-align: middle;\n",
              "    }\n",
              "\n",
              "    .dataframe tbody tr th {\n",
              "        vertical-align: top;\n",
              "    }\n",
              "\n",
              "    .dataframe thead th {\n",
              "        text-align: right;\n",
              "    }\n",
              "</style>\n",
              "<table border=\"1\" class=\"dataframe\">\n",
              "  <thead>\n",
              "    <tr style=\"text-align: right;\">\n",
              "      <th></th>\n",
              "      <th>id</th>\n",
              "      <th>title</th>\n",
              "      <th>author</th>\n",
              "      <th>text</th>\n",
              "    </tr>\n",
              "  </thead>\n",
              "  <tbody>\n",
              "    <tr>\n",
              "      <th>0</th>\n",
              "      <td>0</td>\n",
              "      <td>House Dem Aide: We Didn’t Even See Comey’s Let...</td>\n",
              "      <td>Darrell Lucus</td>\n",
              "      <td>House Dem Aide: We Didn’t Even See Comey’s Let...</td>\n",
              "    </tr>\n",
              "    <tr>\n",
              "      <th>1</th>\n",
              "      <td>1</td>\n",
              "      <td>FLYNN: Hillary Clinton, Big Woman on Campus - ...</td>\n",
              "      <td>Daniel J. Flynn</td>\n",
              "      <td>Ever get the feeling your life circles the rou...</td>\n",
              "    </tr>\n",
              "    <tr>\n",
              "      <th>2</th>\n",
              "      <td>2</td>\n",
              "      <td>Why the Truth Might Get You Fired</td>\n",
              "      <td>Consortiumnews.com</td>\n",
              "      <td>Why the Truth Might Get You Fired October 29, ...</td>\n",
              "    </tr>\n",
              "    <tr>\n",
              "      <th>3</th>\n",
              "      <td>3</td>\n",
              "      <td>15 Civilians Killed In Single US Airstrike Hav...</td>\n",
              "      <td>Jessica Purkiss</td>\n",
              "      <td>Videos 15 Civilians Killed In Single US Airstr...</td>\n",
              "    </tr>\n",
              "    <tr>\n",
              "      <th>4</th>\n",
              "      <td>4</td>\n",
              "      <td>Iranian woman jailed for fictional unpublished...</td>\n",
              "      <td>Howard Portnoy</td>\n",
              "      <td>Print \\nAn Iranian woman has been sentenced to...</td>\n",
              "    </tr>\n",
              "  </tbody>\n",
              "</table>\n",
              "</div>\n",
              "    <div class=\"colab-df-buttons\">\n",
              "\n",
              "  <div class=\"colab-df-container\">\n",
              "    <button class=\"colab-df-convert\" onclick=\"convertToInteractive('df-74f7771e-0379-4992-a59f-9c99633ce237')\"\n",
              "            title=\"Convert this dataframe to an interactive table.\"\n",
              "            style=\"display:none;\">\n",
              "\n",
              "  <svg xmlns=\"http://www.w3.org/2000/svg\" height=\"24px\" viewBox=\"0 -960 960 960\">\n",
              "    <path d=\"M120-120v-720h720v720H120Zm60-500h600v-160H180v160Zm220 220h160v-160H400v160Zm0 220h160v-160H400v160ZM180-400h160v-160H180v160Zm440 0h160v-160H620v160ZM180-180h160v-160H180v160Zm440 0h160v-160H620v160Z\"/>\n",
              "  </svg>\n",
              "    </button>\n",
              "\n",
              "  <style>\n",
              "    .colab-df-container {\n",
              "      display:flex;\n",
              "      gap: 12px;\n",
              "    }\n",
              "\n",
              "    .colab-df-convert {\n",
              "      background-color: #E8F0FE;\n",
              "      border: none;\n",
              "      border-radius: 50%;\n",
              "      cursor: pointer;\n",
              "      display: none;\n",
              "      fill: #1967D2;\n",
              "      height: 32px;\n",
              "      padding: 0 0 0 0;\n",
              "      width: 32px;\n",
              "    }\n",
              "\n",
              "    .colab-df-convert:hover {\n",
              "      background-color: #E2EBFA;\n",
              "      box-shadow: 0px 1px 2px rgba(60, 64, 67, 0.3), 0px 1px 3px 1px rgba(60, 64, 67, 0.15);\n",
              "      fill: #174EA6;\n",
              "    }\n",
              "\n",
              "    .colab-df-buttons div {\n",
              "      margin-bottom: 4px;\n",
              "    }\n",
              "\n",
              "    [theme=dark] .colab-df-convert {\n",
              "      background-color: #3B4455;\n",
              "      fill: #D2E3FC;\n",
              "    }\n",
              "\n",
              "    [theme=dark] .colab-df-convert:hover {\n",
              "      background-color: #434B5C;\n",
              "      box-shadow: 0px 1px 3px 1px rgba(0, 0, 0, 0.15);\n",
              "      filter: drop-shadow(0px 1px 2px rgba(0, 0, 0, 0.3));\n",
              "      fill: #FFFFFF;\n",
              "    }\n",
              "  </style>\n",
              "\n",
              "    <script>\n",
              "      const buttonEl =\n",
              "        document.querySelector('#df-74f7771e-0379-4992-a59f-9c99633ce237 button.colab-df-convert');\n",
              "      buttonEl.style.display =\n",
              "        google.colab.kernel.accessAllowed ? 'block' : 'none';\n",
              "\n",
              "      async function convertToInteractive(key) {\n",
              "        const element = document.querySelector('#df-74f7771e-0379-4992-a59f-9c99633ce237');\n",
              "        const dataTable =\n",
              "          await google.colab.kernel.invokeFunction('convertToInteractive',\n",
              "                                                    [key], {});\n",
              "        if (!dataTable) return;\n",
              "\n",
              "        const docLinkHtml = 'Like what you see? Visit the ' +\n",
              "          '<a target=\"_blank\" href=https://colab.research.google.com/notebooks/data_table.ipynb>data table notebook</a>'\n",
              "          + ' to learn more about interactive tables.';\n",
              "        element.innerHTML = '';\n",
              "        dataTable['output_type'] = 'display_data';\n",
              "        await google.colab.output.renderOutput(dataTable, element);\n",
              "        const docLink = document.createElement('div');\n",
              "        docLink.innerHTML = docLinkHtml;\n",
              "        element.appendChild(docLink);\n",
              "      }\n",
              "    </script>\n",
              "  </div>\n",
              "\n",
              "\n",
              "    <div id=\"df-9a70aa69-f9a9-46d6-8424-5fe1ceb1569f\">\n",
              "      <button class=\"colab-df-quickchart\" onclick=\"quickchart('df-9a70aa69-f9a9-46d6-8424-5fe1ceb1569f')\"\n",
              "                title=\"Suggest charts\"\n",
              "                style=\"display:none;\">\n",
              "\n",
              "<svg xmlns=\"http://www.w3.org/2000/svg\" height=\"24px\"viewBox=\"0 0 24 24\"\n",
              "     width=\"24px\">\n",
              "    <g>\n",
              "        <path d=\"M19 3H5c-1.1 0-2 .9-2 2v14c0 1.1.9 2 2 2h14c1.1 0 2-.9 2-2V5c0-1.1-.9-2-2-2zM9 17H7v-7h2v7zm4 0h-2V7h2v10zm4 0h-2v-4h2v4z\"/>\n",
              "    </g>\n",
              "</svg>\n",
              "      </button>\n",
              "\n",
              "<style>\n",
              "  .colab-df-quickchart {\n",
              "      --bg-color: #E8F0FE;\n",
              "      --fill-color: #1967D2;\n",
              "      --hover-bg-color: #E2EBFA;\n",
              "      --hover-fill-color: #174EA6;\n",
              "      --disabled-fill-color: #AAA;\n",
              "      --disabled-bg-color: #DDD;\n",
              "  }\n",
              "\n",
              "  [theme=dark] .colab-df-quickchart {\n",
              "      --bg-color: #3B4455;\n",
              "      --fill-color: #D2E3FC;\n",
              "      --hover-bg-color: #434B5C;\n",
              "      --hover-fill-color: #FFFFFF;\n",
              "      --disabled-bg-color: #3B4455;\n",
              "      --disabled-fill-color: #666;\n",
              "  }\n",
              "\n",
              "  .colab-df-quickchart {\n",
              "    background-color: var(--bg-color);\n",
              "    border: none;\n",
              "    border-radius: 50%;\n",
              "    cursor: pointer;\n",
              "    display: none;\n",
              "    fill: var(--fill-color);\n",
              "    height: 32px;\n",
              "    padding: 0;\n",
              "    width: 32px;\n",
              "  }\n",
              "\n",
              "  .colab-df-quickchart:hover {\n",
              "    background-color: var(--hover-bg-color);\n",
              "    box-shadow: 0 1px 2px rgba(60, 64, 67, 0.3), 0 1px 3px 1px rgba(60, 64, 67, 0.15);\n",
              "    fill: var(--button-hover-fill-color);\n",
              "  }\n",
              "\n",
              "  .colab-df-quickchart-complete:disabled,\n",
              "  .colab-df-quickchart-complete:disabled:hover {\n",
              "    background-color: var(--disabled-bg-color);\n",
              "    fill: var(--disabled-fill-color);\n",
              "    box-shadow: none;\n",
              "  }\n",
              "\n",
              "  .colab-df-spinner {\n",
              "    border: 2px solid var(--fill-color);\n",
              "    border-color: transparent;\n",
              "    border-bottom-color: var(--fill-color);\n",
              "    animation:\n",
              "      spin 1s steps(1) infinite;\n",
              "  }\n",
              "\n",
              "  @keyframes spin {\n",
              "    0% {\n",
              "      border-color: transparent;\n",
              "      border-bottom-color: var(--fill-color);\n",
              "      border-left-color: var(--fill-color);\n",
              "    }\n",
              "    20% {\n",
              "      border-color: transparent;\n",
              "      border-left-color: var(--fill-color);\n",
              "      border-top-color: var(--fill-color);\n",
              "    }\n",
              "    30% {\n",
              "      border-color: transparent;\n",
              "      border-left-color: var(--fill-color);\n",
              "      border-top-color: var(--fill-color);\n",
              "      border-right-color: var(--fill-color);\n",
              "    }\n",
              "    40% {\n",
              "      border-color: transparent;\n",
              "      border-right-color: var(--fill-color);\n",
              "      border-top-color: var(--fill-color);\n",
              "    }\n",
              "    60% {\n",
              "      border-color: transparent;\n",
              "      border-right-color: var(--fill-color);\n",
              "    }\n",
              "    80% {\n",
              "      border-color: transparent;\n",
              "      border-right-color: var(--fill-color);\n",
              "      border-bottom-color: var(--fill-color);\n",
              "    }\n",
              "    90% {\n",
              "      border-color: transparent;\n",
              "      border-bottom-color: var(--fill-color);\n",
              "    }\n",
              "  }\n",
              "</style>\n",
              "\n",
              "      <script>\n",
              "        async function quickchart(key) {\n",
              "          const quickchartButtonEl =\n",
              "            document.querySelector('#' + key + ' button');\n",
              "          quickchartButtonEl.disabled = true;  // To prevent multiple clicks.\n",
              "          quickchartButtonEl.classList.add('colab-df-spinner');\n",
              "          try {\n",
              "            const charts = await google.colab.kernel.invokeFunction(\n",
              "                'suggestCharts', [key], {});\n",
              "          } catch (error) {\n",
              "            console.error('Error during call to suggestCharts:', error);\n",
              "          }\n",
              "          quickchartButtonEl.classList.remove('colab-df-spinner');\n",
              "          quickchartButtonEl.classList.add('colab-df-quickchart-complete');\n",
              "        }\n",
              "        (() => {\n",
              "          let quickchartButtonEl =\n",
              "            document.querySelector('#df-9a70aa69-f9a9-46d6-8424-5fe1ceb1569f button');\n",
              "          quickchartButtonEl.style.display =\n",
              "            google.colab.kernel.accessAllowed ? 'block' : 'none';\n",
              "        })();\n",
              "      </script>\n",
              "    </div>\n",
              "\n",
              "    </div>\n",
              "  </div>\n"
            ],
            "application/vnd.google.colaboratory.intrinsic+json": {
              "type": "dataframe",
              "variable_name": "X",
              "summary": "{\n  \"name\": \"X\",\n  \"rows\": 20822,\n  \"fields\": [\n    {\n      \"column\": \"id\",\n      \"properties\": {\n        \"dtype\": \"string\",\n        \"num_unique_values\": 20822,\n        \"samples\": [\n          \"2501\",\n          \"15557\",\n          \"15541\"\n        ],\n        \"semantic_type\": \"\",\n        \"description\": \"\"\n      }\n    },\n    {\n      \"column\": \"title\",\n      \"properties\": {\n        \"dtype\": \"string\",\n        \"num_unique_values\": 19817,\n        \"samples\": [\n          \"Donald Trump Embraces Wider Use of Stop-and-Frisk by Police - The New York Times\",\n          \"ICE Arrests 160 in Sweeping California Enforcement, Possibly More Across 6 States - Breitbart\",\n          \"Patients Most Dangerous In Winter When They\\u2019re Dying Off, Warn HSE\"\n        ],\n        \"semantic_type\": \"\",\n        \"description\": \"\"\n      }\n    },\n    {\n      \"column\": \"author\",\n      \"properties\": {\n        \"dtype\": \"category\",\n        \"num_unique_values\": 4205,\n        \"samples\": [\n          \"stevor\",\n          \"Seth Kugel\",\n          \"Sylvie Bigar\"\n        ],\n        \"semantic_type\": \"\",\n        \"description\": \"\"\n      }\n    },\n    {\n      \"column\": \"text\",\n      \"properties\": {\n        \"dtype\": \"string\",\n        \"num_unique_values\": 20388,\n        \"samples\": [\n          \"The great debate over what \\u201cnationalism\\u201d means will surely be filled by the closing passage of President Donald Trump\\u2019s inaugural speech:[A new national pride will stir ourselves, lift our sights and heal our divisions. It\\u2019s time to remember that old wisdom our soldiers will never forget, that whether we are black or brown or white, we all bleed the same red blood of patriots. We all enjoy the same glorious freedoms and we all salute the same great American flag. And whether a child is born in the urban sprawl of Detroit or the windswept plains of Nebraska, they look up at the same night sky, they fill their heart with the same dreams and they are infused with the breath of life by the same almighty creator. So to all Americans in every city near and far, small and large, from mountain to mountain, from ocean to ocean, hear these words: You will never be ignored again. Your voice, your hopes and your dreams will define our American destiny. And your courage and goodness and love will forever guide us along the way. Together we will make America strong again, we will make America wealthy again, we will make America proud again, we will make America safe again. And, yes, together we will make America great again. Trump\\u2019s inaugural address, reportedly written by chief strategist Stephen K. Bannon and senior advisor Stephen Miller, was criticized as aggressive, but it was largely an effort to explain what he meant by \\u201cMake America Great Again,\\u201d which is (thankfully!) a very aggressive idea. For an example of a passive campaign theme, try \\u201cHope and Change. \\u201d There is nothing more passive than lying around and hoping some Santa Claus politician comes along with a bag of other people\\u2019s money to fix your life.  Trump was also criticized for delivering an inaugural address that sounded too much like his campaign speeches. This was necessary, because the mainstream media didn\\u2019t relay enough of what he said on the stump. They were too busy freaking out over whatever \\u201coutrageous\\u201d thing he said at any given rally.  It was appropriate for Trump to succinctly explain his platform to the widest audience he\\u2019ll ever have, both within and beyond America\\u2019s borders, with no media filter. Until now, most of the media commentary on \\u201cMake America Great Again\\u201d consisted of whining about how unfair it was to the inexplicably   Barack Obama, mixed with the occasional lefty primal scream about how America was never great to begin with. Perhaps most importantly, Trump used his inaugural to beat down the asinine smear of \\u201cwhite nationalism. \\u201d His talk of national pride has been corrupted to mean unthinking national chauvinism by the Left. \\u201cAmerica first\\u201d is twisted to mean \\u201cscrew everybody but America\\u201d (or, in the hands of the more mendacious critics, \\u201cscrew the Jews. \\u201d) Then it gets twisted even further by welding the unspoken word \\u201cwhite\\u201d onto \\u201cnationalism,\\u201d transforming it into a racist call to arms. The number of actual white nationalists who talk about white nationalism is vastly smaller than the number of liberals who insist that\\u2019s what they hear when Trump talks about \\u201cAmerican pride. \\u201d Maybe it\\u2019s time for liberals to check in with their therapists and have a long talk about why they hear so many racist dog whistles. In his inaugural, Trump could not have been more clear about the inclusiveness of his vision for American pride. \\u201cWhether we are black or brown or white, we all bleed the same red blood of patriots\\u201d is about as clear as it gets.  Of course, the usual   media swamis will declare they\\u2019ve looked inside Trump\\u2019s mind, and he didn\\u2019t really mean that. He just threw those words in because Kellyanne told him he needed a little racism insurance. But everything about that speech, and everything Trump has said about resurgent American pride, and everything said by the people who want to reclaim nationalism from chauvinism, is inclusive. The point is to insist on both national priorities and national responsibilities, for everyone from   citizens at the immigration office to President Trump and his Cabinet.  The woman from Mexico who took her oath of citizenship yesterday is 100% American. The man from Mexico who slipped across the border in a coyote truck yesterday is not. President Trump has a long list of sacred duties to the woman, but not to the man. This is not a complicated idea, or a racist one, or really even a nationalist one. It\\u2019s Civics 101. It\\u2019s also the idea global socialism must strangle, in order to survive. Liberals who rail against \\u201cnationalism\\u201d are primarily interested in creating a world of zero accountability for their maximum leaders. With borders erased, the Ruling Class can hack the electorate to suit its political needs, and their business partners can slash the cost of labor. \\u201cInternationalist\\u201d leaders are accountable to no nation\\u2019s citizens. Trump\\u2019s inaugural address included a bold statement of the opposite principle. America\\u2019s president has neither control, nor responsibility, over the economies of other nations. He is responsible to Americans, from Nebraska to Detroit, as Trump put it. He set a very high bar for himself to clear by pointedly mentioning Detroit.  He also made a promise that no group will be preyed upon for the advantages of another. To be the president of all Americans means he is the sugar daddy of none. No more will the power of government be used to penalize groups the Left hates, and beat them into line with new social orthodoxies. No more will Washington dream up economic plans that benefit some, or even most, while designating certain \\u201cforgotten people\\u201d as lifetime losers who need to shut up and accept their fate.  Trump referred to \\u201cwealth\\u201d several times in his speech. \\u201cWealth\\u201d means more than just money. Wealth benefits all, no matter how loudly socialists may screech about too much of it accruing to the One Percent. Some people got very rich by designing, building, and selling the device you\\u2019re staring at right now. You are wealthier than your grandparents, because you have it. As for a proud America\\u2019s proper relationship with other nations, Trump said: We will seek friendship and goodwill with the nations of the world, but we do so with the understanding that it is the right of all nations to put their own interests first. We do not seek to impose our way of life on anyone, but rather to let it shine as an example. We will shine for everyone to follow. That\\u2019s not chauvinism, or imperialism. That\\u2019s the understanding America was founded upon. When Thomas Jefferson took his turn at the presidential bat, he called for \\u201cpeace, commerce, and honest friendship with all nations, entangling alliances with none. \\u201d No one interpreted that to mean \\u201cto Hell with the rest of the world. \\u201d Also, not to put too fine a point on it, but just about every other nation on Earth understands the concept of putting its own interests first, and believes it has a moral obligation to do so. The leaders of some other nations are very good at murmuring sweet globalist nothings into the ears of   elites, but what they actually do is ruthlessly pursue their own national interests. The charade is made much easier for them by the universal understanding that America is supposed to be the one country that never gets to look out for itself, that has no moral right to protect its own interests. Those are all much easier promises to make than keep, to be sure, but Trump did make them. It is wise to be skeptical, and hold his feet to the very large fire he built with that inaugural address.\",\n          \"By Brig Asif H. Raja on November 1, 2016 \\nAsif Haroon Raja \\nThe ISI had developed its long arm capability during the tenures of Gen Akhtar Abdur Rehman, Lt Gen Hamid Gul (VT editor) and Lt Gen Javed Nasir as DG ISI. It was owing to this capability of hitting the chosen target outside the frontiers of Pakistan that the ISI earned the reputation of a dreaded outfit and the best in Asia. The long arm began to shrivel when Benazir Bhutto was PM from 1988 to 1990 and Gen Waheed Kakar was COAS and Lt Gen Javed Ashraf Qazi had replaced Gen Javed Nasir. This change in posture was a result of pressure of the US and the West, pressing Pakistan to refrain from meddling in Indian Occupied Kashmir (IOK) and in India, or else it will be declared a terrorist state. Pressure was mounted at the behest of India which had become strategic partner of USA and Israel in 1991/1992 and darling of the West. \\nAfter the occupation of Afghanistan by 1, 50,000 Soviet forces in December 1979, Pakistan under Gen Ziaul Haq had decided to provide refuge to about 5 million Afghan refugees and to support the Afghan Mujahideen in their resistance. The US came forward with a package of $ 3.5 billion in June 1981 after making a measured assessment that Pakistan had the will and capability to fight the proxy war. The offer was accepted only when it was conveyed that the ISI will coordinate and conduct the entire war without the aid of CIA and that the US and others would restrict their support to provision of funds and weapons/equipment only. As a Frontline State, Pakistan suffered a great deal throughout the Afghan war at the hands of KGB-KHAD-RAW-AlZulfiqar nexus and Afghan armed forces, but achieved the miracle by defeating and pushing out Soviet forces in February 1989. After achieving its objective without employing a single soldier, the US abandoned Pakistan as well as the Mujahideen who had sacrificed 1.5 million people and had helped the US in becoming a sole super power. \\nOnce Pakistan fell from the grace of USA and it was put under sanctions on account of its covert nuclear program suspected to be geared towards making an Islamic bomb, it came under the shadow of black star. Pakistan\\u2019s nuclear program became an eyesore for India, Israel and USA. It faced the whole brunt of fallout effects of ten-year Afghan war that had been fully supported by the US led free world. USSR that had shrunk to Russian Federation was highly bitter, while India was perpetually hostile. Iran was not so friendly owing to its reservations over the developments in Afghanistan. Explosive situation in Afghanistan due to civil war and power tussle among the seven Mujahideen groups impacted the security of Pakistan. \\nStart of armed insurgency in IOK in late 1989 and India pumping in over 700,000 troops into the Valley had its effects on Pakistan\\u2019s security dynamics. In 1990/91, both sides had come close to war. Internally, the society had become militarized due to the Afghan war and sectarianism fomented by Iran and Saudi Arabia had created serious law and order situation in Punjab. PPP and PML-N acrimoniously tussled with each other for power because of which no govt could complete its mandatory 5 years tenure. \\nFragmentation of USSR and demise of communism on account of its military defeat in Afghanistan and increase of influence of Pakistan and India decreasing its influence in Afghanistan had vexed India. It feared that Pakistan may exploit the situation in IOK and liberate it with the help of over 60 Jihadi groups and take its revenge of the humiliation it had suffered in East Pakistan in 1971. It dreaded that Pakistan may replicate its model of supporting the Mukti Bahini. Sensing the gravity of the situation, India started propagating that Pakistan is behind the insurgency in IOK and that the ISI is funding, training and launching terrorists from Azad Jammu & Kashmir (AJK). It urged the UN and world powers to rein in Pakistan and restrain ISI from conducting cross LoC terrorism. \\nThe US, both Republicans and Democrats, had been constantly wooing India to join its camp since early 1950s, but India preferred the Soviet camp, although it professed to be non-aligned. It was elated when India feeling orphaned after the collapse of USSR fell like a ripe apple into the waiting arms of USA and both became bedfellows in 1991. Once its newfound love sought help from her paramour, the latter stood behind her and sternly cautioned Pakistan to lay its hands off IOK. Change in circumstances compelled Pakistan to restrict its support to the Kashmiris in distress to moral, political and diplomatic levels only. The Kashmir oriented Jihadi groups based in AJK and in Southern Punjab however continued to extend support to the Kashmiris seeking right of self-determination as provided for in the UN resolutions. Indian security forces equipped with draconian laws and license to kill without any fear of accountability or censure by the UN and world powers carried out inhuman torture, employed massive force, and used rape as a weapon to break the will of the freedom fighters. The UN and international community turned a deaf ear to the cries of Kashmiris. \\nDespite the fact that IOK had become the most militarized region of the world (one soldier for 17 civilians), and Kashmiris had suffered over 100,000 fatalities, 10,000 rapes, detention of thousands in secret dens and destruction of their property, the freedom fighters kept the torch of liberty aglow. The heroics of Kashmiris against heavy odds had a telling effect on the morale of Indian Army and paramilitary forces in IOK. Soldiers suffered from demoralization and homesickness; cases of suicides, desertions, killing of seniors and comrades by soldiers, and indiscipline jumped up at an alarming rate. Officers and men dreaded posting to Kashmir, while rate of compassionate cases wanting posting out from Kashmir shot up. A stage came when recruitment in Army dropped to rock bottom levels. The then Indian Army chief had to appear on the TV and run an ad campaign to appeal to the youth to join the Army on better pay scale and perks. Kashmir had become a perforated wound for India and economic cost was becoming unbearable. It was becoming difficult for India to hide its massive human rights violations and barbarities of Indian security forces. \\nHere I may add that the Indian Army had suffered humiliation at Dras-Kargil in 1999 at the hands of handful of Mujahideen and irregulars of Northern Light Infantry. It was eventually bailed out by the US led G-8 by exerting immense pressure on Pakistan to immediately vacate the captured territories. The Indian armed forces went through another embarrassment in 2002 when it had to sheepishly withdraw from its western border after a ten-month standoff during which it had constantly huffed and puffed but couldn\\u2019t pick up courage to cross the border. Aggressive response of Pak armed forces had taken the steam out of their chauvinism. \\nUnfortunately, all that was gained on the Kashmir front and on the military front was wasted away after Gen Musharraf wilted under the US pressure in 2003 and decided to take steps to please USA and India. Reining in Kashmir focused Jihadi groups, allowing India to fence the LoC and signing peace treaty with India in January 2004 changed the perspective. It helped Indian military to suppress Kashmir freedom movement. Earlier on, Musharraf had submitted to all the 7 demands of Washington in September 2001. Free hand given to CIA and FBI had enabled the two to establish their network in FATA and gain control over airports and seaport in Pakistan. Intelligence acquisition in FATA was taken over by CIA and ISI pushed on the back seat. \\nIndo-Pak peace treaty in 2004 enabled RAW to ignite FATA, Khyber Pakhtunkhwa (KP), Baluchistan and Karachi. While RAW assisted by CIA, NDS, MI-6 and Mossad made full use of its long arm to bleed Pakistan with the help of proxies, Pak security forces and ISI remained handicapped. The so-called friends pushed Pakistan to fight terrorism but secretly backed the terrorists. The US kept twisting the arm of Pakistan that if ISI meddled into India or Afghanistan it will be declared a rogue outfit. Perforce, the ISI undertook protective measures only, but its defensive actions were more often breached because the so-called allies stabbed Pakistan in the back. As a consequence, RAW and its strategic partners carried out one-sided covert war while the ISI at best tried to ward off the attacks. In spite of defensive policy of the govt and ISI, and Pakistan suffering much more human casualties than any other country in the war on terror, ISI was blamed to be in collusion with Al-Qaeda, Taliban, Haqqani Network, Jaish-e-Muhammad (JeM) and Lashkar-e-Taiba (LeT). These were termed as strategic assets of military establishment to overcome conventional inferiority against arch enemy India. The lost intelligence space In FATA/KP was gradually recovered when Lt Gen Shuja Pasha took over as DG ISI and Gen Ashfaq Kayani as COAS in 2008. \\nAll the terror attacks that took place in India between 2001 and 2008 were pinned on JeM and LeT and their connection was made with ISI. Since Pakistan made no effort to disprove Indian contention even after it was revealed by Indian investigative agencies and Home Ministry officials that Hindu terror groups and Indian military intelligence officers were involved in the attacks, it became easier for India to further strengthen its narrative of portraying Pakistan as a terror abetting state and a nursery of terrorism. India\\u2019s narrative was boosted up by its strategic allies. The US dubbed Pakistan as the most dangerous county in the world. Pakistan\\u2019s overall defensive policy and apologetic stance emboldened its detractors to keep whipping and bleeding it without fear of tit for tat response from ISI. \\nOther than the salvos fired by the Indo-Afghan-US-Israel nexus on Pak Army and ISI, Pakistan political leadership of major political parties also view the two premier institutions with distrust. Both PPP and PML-N in line with their 2006 Charter of Democracy made efforts to enfeeble ISI and keep Army under their thumb. First attempt was made by Benazir Bhutto when she replaced Lt Gen Hamid Gul with retired Lt Gen Kallue in 1989 and next tasked Air Marshal Zulfiqar to cut ISI to size under the garb of reforms. PM Yusaf Raza Gilani tried to civilianize ISI in August 2008 by placing it under Ministry of Interior. Kerry Lugar Bill in 2009 and Memo scandal in 2011 were other attempts to curtail military\\u2019s power. Nawaz Sharif has a history of locking horns with every Army chief and has still not got out of the hangover of Gen Musharraf. Although he didn\\u2019t clash with Gen Raheel but at times civil-military relations became tense. \\nIt has now been conclusively established that RAW and NDS in unison and backed by other agencies are deeply involved in proxy war in Pakistan since 2003 and have inflicted tens of thousands of cuts on the body of Pakistan and its people. Series of conspiracies have been hatched and launched to destabilize and fragment Pakistan. RAW-NDS nexus backed by CIA is continuing to use Afghanistan as a launching pad for terror attacks in Pakistan. In order to scuttle CPEC, focus of attacks is on Baluchistan and KP. India is keeping the LoC on fire. So far it has violated 2003 ceasefire agreement 178 times and killed 19 civilians and injured 80. \\nThe anti-Pakistan foreign agencies are making full use of TTP, Jamaat Ahrar, Lashkar Jhangvi, BLA, BRA, BLF and MQM as proxies. London is a safe haven for MQM leadership and Baloch rebel leaders, while Afghanistan has provided sanctuaries to TTP runaway leaders in Kunar, Nuristan and Nangarhar. Besides these strategic assets, the detractors are also making use of NGOs, human rights activists and segment of media to make Pakistan a compliant state of India. Since HN, JeM, and LeT are not playing the game of foreign agencies, they are dubbed as terrorist groups and strategic assets of Pak Army/ISI. They want Pakistan to take strict action against them or else face isolation and sanctions. \\nIt was in the backdrop of this concern of US and India that the Dawn News published a story on October 6. The planted story was allegedly furnished by someone from within the PM House where a national security conference presided by the PM and attended by Foreign Secretary, Punjab Chief Minister, COAS, DG ISI and National Security Adviser was held. The invented story written by Cyril Almeida gave an impression of serious rift between civil and military leadership and that while the govt wanted to proceed against the defunct militant groups, the ISI didn\\u2019t. Probable motive of concocted story was to demean the Army/ISI and to reinforce Indo-US stance that Pak Army and ISI were in league with terror groups. The types of Hussain Haqqani, Ayesha Sadiqa, Farzana Bari and several other liberal journalists assembled in London two days ago to play up this story. MQM (Altaf) hosted them. To ascertain the truth, a high powered committee comprising members from three intelligence agencies will carry out inquest. \\nHaving collected tons of evidence, yet Pakistan takes the barbs and whips without a whimper and doesn\\u2019t pick up courage to strike back. The long arm of ISI remains sheathed for reasons best known to the policy makers. It implies our leaders have decided to give a free hand to our enemies to continue bleeding Pakistan without any fear of retaliation or even protest. Going by the well-established concept that \\u2018offence is the best defence\\u2019, until and unless the ISI pay back the RAW and NDS in the same coin, one sided bleeding of Pakistanis will continue. Long arm must be unsheathed. \\nThe writer is retired Brig, war veteran, defence analyst, columnist, author of 5 books, Vice Chairman Thinkers Forum Pakistan, DG Measac Research Centre, and Member Executive Council PESS. Related Posts:\",\n          \"Matt Bissonnette, a former member of Navy SEAL Team 6 who wrote an account of the raid that killed Osama bin Laden, agreed on Friday to forfeit $6. 8 million in book royalties and speaking fees and apologized for failing to clear his disclosures with the Pentagon, according to federal court documents. Mr. Bissonnette also recently forfeited $180, 000 in fees for consulting work that he did for military contractors while he was still on the SEAL team, his lawyer, Robert D. Luskin, said in an interview. If approved by a federal judge in Alexandria, Va. the royalty settlement would bring an end to more than two years of civil and criminal investigations into Mr. Bissonnette, who won several awards for valor in Iraq and Afghanistan before writing \\u201cNo Easy Day,\\u201d his   book on the Bin Laden raid, under the pen name Mark Owen. The firsthand account of the daring raid was one of several   books and movies involving former Navy SEALS that has led to criticism within a community once known for discretion that Mr. Bissonnette and the others were cashing in on their exploits. The Justice Department conducted criminal investigations into whether Mr. Bissonnette had disclosed classified information in his book or speeches and whether he had violated    laws in consulting for companies that had contracts with SEAL Team 6. In the end, the department did not bring any criminal charges, settling instead for the cash forfeitures. Mr. Bissonnette said in a statement Friday that he regretted his failure to submit \\u201cNo Easy Day\\u201d for vetting before it was published in 2012 so Pentagon officials could ensure that it did not include classified information. Mr. Bissonnette acknowledged that he was required under his security clearances to let the Pentagon review the book, and he blamed another lawyer for advising him that he did not need to do so. \\u201cI acknowledge my mistake and have paid a stiff price, both personally and financially, for that error,\\u201d he said. \\u201cI accept responsibility for failing to submit the book for review and apologize sincerely for my oversight. \\u201d Documents filed in Federal District Court in Alexandria on Friday indicated that Mr. Bissonnette must transfer nearly $6. 8 million to the government as part of the settlement. The amount includes all of the $6. 7 million in royalties he has earned on \\u201cNo Easy Day,\\u201d as well as $100, 000 in fees for six speeches he gave in early 2013 before the government approved the slides he used in such presentations. Mr. Bissonnette wrote in \\u201cNo Easy Day\\u201d that he was one of the SEALs who shot Bin Laden, and he and Robert O\\u2019Neill, another former SEAL Team 6 member who claims his shots were the fatal ones, have competed on the lecture circuit. Military officials said that Mr. O\\u2019Neill is writing a book of his own and has asked the Pentagon to vet it. While Mr. Bissonnette\\u2019s fight with the Pentagon over his book has received public attention, some details of his consulting work while he was still a SEAL Team 6 member, as well as his fee forfeiture, have not been disclosed. Mr. Luskin said that Mr. Bissonnette and the federal authorities reached a \\u201cnonprosecution agreement\\u201d in May in which Mr. Bissonnette forfeited $180, 000 in fees for advising three equipment manufacturers who were doing business with SEAL Team 6 while he was on the team. Mr. Luskin said the fees dated back as far as 2006, when Mr. Bissonnette was the research and development representative for his squadron within Team 6. Other former SEAL members have said that his job was to figure out what types of equipment they needed. Mr. Luskin said that the $180, 000 came from   a helmet maker now owned by the Gentex Corporation in Carbondale, Pa. and two   manufacturers based in Virginia Beach  \\u2014   SS Precision and London Bridge Trading. No executives at the three companies were available for comment. Mr. Luskin said that Mr. Bissonnette and other SEAL members also received consulting fees from companies that designed tactical clothing and gear for other parts of the military or for sales to outdoor enthusiasts. Mr. Bissonnette has maintained that he cleared the consulting work in advance with a Navy lawyer, and Mr. Luskin said that helped persuade prosecutors that \\u201cthere was clearly on Matt\\u2019s part no intent to breach the    laws. \\u201d Navy officials say they have restricted such moonlighting since then. Mr. Luskin also noted that a number of   officials have assisted other authors writing about the Bin Laden raid as well as the creators of the movie \\u201cZero Dark Thirty. \\u201d But, he said, only Mr. Bissonnette has paid any penalties for the disclosures.\"\n        ],\n        \"semantic_type\": \"\",\n        \"description\": \"\"\n      }\n    }\n  ]\n}"
            }
          },
          "metadata": {},
          "execution_count": 4
        }
      ],
      "source": [
        "# Get the Independent Features\n",
        "X = news.drop(\"label\", axis=1)\n",
        "\n",
        "X.head()"
      ]
    },
    {
      "cell_type": "code",
      "execution_count": 5,
      "id": "5353efe2-99b2-47da-bafa-5ebffb74e461",
      "metadata": {
        "colab": {
          "base_uri": "https://localhost:8080/",
          "height": 241
        },
        "id": "5353efe2-99b2-47da-bafa-5ebffb74e461",
        "outputId": "ae8dc10f-8c74-414b-eff7-980f843fdd0d"
      },
      "outputs": [
        {
          "output_type": "execute_result",
          "data": {
            "text/plain": [
              "0    1\n",
              "1    0\n",
              "2    1\n",
              "3    1\n",
              "4    1\n",
              "Name: label, dtype: object"
            ],
            "text/html": [
              "<div>\n",
              "<style scoped>\n",
              "    .dataframe tbody tr th:only-of-type {\n",
              "        vertical-align: middle;\n",
              "    }\n",
              "\n",
              "    .dataframe tbody tr th {\n",
              "        vertical-align: top;\n",
              "    }\n",
              "\n",
              "    .dataframe thead th {\n",
              "        text-align: right;\n",
              "    }\n",
              "</style>\n",
              "<table border=\"1\" class=\"dataframe\">\n",
              "  <thead>\n",
              "    <tr style=\"text-align: right;\">\n",
              "      <th></th>\n",
              "      <th>label</th>\n",
              "    </tr>\n",
              "  </thead>\n",
              "  <tbody>\n",
              "    <tr>\n",
              "      <th>0</th>\n",
              "      <td>1</td>\n",
              "    </tr>\n",
              "    <tr>\n",
              "      <th>1</th>\n",
              "      <td>0</td>\n",
              "    </tr>\n",
              "    <tr>\n",
              "      <th>2</th>\n",
              "      <td>1</td>\n",
              "    </tr>\n",
              "    <tr>\n",
              "      <th>3</th>\n",
              "      <td>1</td>\n",
              "    </tr>\n",
              "    <tr>\n",
              "      <th>4</th>\n",
              "      <td>1</td>\n",
              "    </tr>\n",
              "  </tbody>\n",
              "</table>\n",
              "</div><br><label><b>dtype:</b> object</label>"
            ]
          },
          "metadata": {},
          "execution_count": 5
        }
      ],
      "source": [
        "#  Get the Dependent features\n",
        "y = news[\"label\"]\n",
        "\n",
        "y.head()"
      ]
    },
    {
      "cell_type": "code",
      "execution_count": 6,
      "id": "bf993b27-1ba6-491b-94ce-49bd5764e3d2",
      "metadata": {
        "colab": {
          "base_uri": "https://localhost:8080/"
        },
        "id": "bf993b27-1ba6-491b-94ce-49bd5764e3d2",
        "outputId": "3e32194b-fcb8-4573-9ca0-8b106d5c94e6"
      },
      "outputs": [
        {
          "output_type": "execute_result",
          "data": {
            "text/plain": [
              "(20822, 5)"
            ]
          },
          "metadata": {},
          "execution_count": 6
        }
      ],
      "source": [
        "news.shape"
      ]
    },
    {
      "cell_type": "code",
      "execution_count": 7,
      "id": "f6f74780-ea3f-4fb9-b47c-96d173a10faa",
      "metadata": {
        "id": "f6f74780-ea3f-4fb9-b47c-96d173a10faa"
      },
      "outputs": [],
      "source": [
        "from sklearn.feature_extraction.text import CountVectorizer, TfidfVectorizer, HashingVectorizer"
      ]
    },
    {
      "cell_type": "code",
      "execution_count": 8,
      "id": "c7426644-e812-4160-b424-63cdf98bb903",
      "metadata": {
        "id": "c7426644-e812-4160-b424-63cdf98bb903"
      },
      "outputs": [],
      "source": [
        "news = news.dropna()"
      ]
    },
    {
      "cell_type": "code",
      "execution_count": 9,
      "id": "4b8c20b6-5937-4701-a935-9f4dadf22bba",
      "metadata": {
        "colab": {
          "base_uri": "https://localhost:8080/"
        },
        "id": "4b8c20b6-5937-4701-a935-9f4dadf22bba",
        "outputId": "6238ac37-b9f4-4303-ef1c-f9fc188356a9"
      },
      "outputs": [
        {
          "output_type": "execute_result",
          "data": {
            "text/plain": [
              "(18285, 5)"
            ]
          },
          "metadata": {},
          "execution_count": 9
        }
      ],
      "source": [
        "news.shape"
      ]
    },
    {
      "cell_type": "code",
      "execution_count": 10,
      "id": "eb9dc888-8cd9-4b03-8988-a1b311feec3f",
      "metadata": {
        "colab": {
          "base_uri": "https://localhost:8080/",
          "height": 415
        },
        "id": "eb9dc888-8cd9-4b03-8988-a1b311feec3f",
        "outputId": "a7915bd3-480c-4174-831e-cdb91fa8668f"
      },
      "outputs": [
        {
          "output_type": "execute_result",
          "data": {
            "text/plain": [
              "    id                                              title  \\\n",
              "0    0  House Dem Aide: We Didn’t Even See Comey’s Let...   \n",
              "1    1  FLYNN: Hillary Clinton, Big Woman on Campus - ...   \n",
              "2    2                  Why the Truth Might Get You Fired   \n",
              "3    3  15 Civilians Killed In Single US Airstrike Hav...   \n",
              "4    4  Iranian woman jailed for fictional unpublished...   \n",
              "5    5  Jackie Mason: Hollywood Would Love Trump if He...   \n",
              "7    7  Benoît Hamon Wins French Socialist Party’s Pre...   \n",
              "9    9  A Back-Channel Plan for Ukraine and Russia, Co...   \n",
              "10  10  Obama’s Organizing for Action Partners with So...   \n",
              "11  11  BBC Comedy Sketch \"Real Housewives of ISIS\" Ca...   \n",
              "\n",
              "                          author  \\\n",
              "0                  Darrell Lucus   \n",
              "1                Daniel J. Flynn   \n",
              "2             Consortiumnews.com   \n",
              "3                Jessica Purkiss   \n",
              "4                 Howard Portnoy   \n",
              "5                Daniel Nussbaum   \n",
              "7                Alissa J. Rubin   \n",
              "9   Megan Twohey and Scott Shane   \n",
              "10                   Aaron Klein   \n",
              "11               Chris Tomlinson   \n",
              "\n",
              "                                                 text label  \n",
              "0   House Dem Aide: We Didn’t Even See Comey’s Let...     1  \n",
              "1   Ever get the feeling your life circles the rou...     0  \n",
              "2   Why the Truth Might Get You Fired October 29, ...     1  \n",
              "3   Videos 15 Civilians Killed In Single US Airstr...     1  \n",
              "4   Print \\nAn Iranian woman has been sentenced to...     1  \n",
              "5   In these trying times, Jackie Mason is the Voi...     0  \n",
              "7   PARIS  —   France chose an idealistic, traditi...     0  \n",
              "9   A week before Michael T. Flynn resigned as nat...     0  \n",
              "10  Organizing for Action, the activist group that...     0  \n",
              "11  The BBC produced spoof on the “Real Housewives...     0  "
            ],
            "text/html": [
              "\n",
              "  <div id=\"df-ad45ef8f-9203-45ea-831e-e7f79c0ab489\" class=\"colab-df-container\">\n",
              "    <div>\n",
              "<style scoped>\n",
              "    .dataframe tbody tr th:only-of-type {\n",
              "        vertical-align: middle;\n",
              "    }\n",
              "\n",
              "    .dataframe tbody tr th {\n",
              "        vertical-align: top;\n",
              "    }\n",
              "\n",
              "    .dataframe thead th {\n",
              "        text-align: right;\n",
              "    }\n",
              "</style>\n",
              "<table border=\"1\" class=\"dataframe\">\n",
              "  <thead>\n",
              "    <tr style=\"text-align: right;\">\n",
              "      <th></th>\n",
              "      <th>id</th>\n",
              "      <th>title</th>\n",
              "      <th>author</th>\n",
              "      <th>text</th>\n",
              "      <th>label</th>\n",
              "    </tr>\n",
              "  </thead>\n",
              "  <tbody>\n",
              "    <tr>\n",
              "      <th>0</th>\n",
              "      <td>0</td>\n",
              "      <td>House Dem Aide: We Didn’t Even See Comey’s Let...</td>\n",
              "      <td>Darrell Lucus</td>\n",
              "      <td>House Dem Aide: We Didn’t Even See Comey’s Let...</td>\n",
              "      <td>1</td>\n",
              "    </tr>\n",
              "    <tr>\n",
              "      <th>1</th>\n",
              "      <td>1</td>\n",
              "      <td>FLYNN: Hillary Clinton, Big Woman on Campus - ...</td>\n",
              "      <td>Daniel J. Flynn</td>\n",
              "      <td>Ever get the feeling your life circles the rou...</td>\n",
              "      <td>0</td>\n",
              "    </tr>\n",
              "    <tr>\n",
              "      <th>2</th>\n",
              "      <td>2</td>\n",
              "      <td>Why the Truth Might Get You Fired</td>\n",
              "      <td>Consortiumnews.com</td>\n",
              "      <td>Why the Truth Might Get You Fired October 29, ...</td>\n",
              "      <td>1</td>\n",
              "    </tr>\n",
              "    <tr>\n",
              "      <th>3</th>\n",
              "      <td>3</td>\n",
              "      <td>15 Civilians Killed In Single US Airstrike Hav...</td>\n",
              "      <td>Jessica Purkiss</td>\n",
              "      <td>Videos 15 Civilians Killed In Single US Airstr...</td>\n",
              "      <td>1</td>\n",
              "    </tr>\n",
              "    <tr>\n",
              "      <th>4</th>\n",
              "      <td>4</td>\n",
              "      <td>Iranian woman jailed for fictional unpublished...</td>\n",
              "      <td>Howard Portnoy</td>\n",
              "      <td>Print \\nAn Iranian woman has been sentenced to...</td>\n",
              "      <td>1</td>\n",
              "    </tr>\n",
              "    <tr>\n",
              "      <th>5</th>\n",
              "      <td>5</td>\n",
              "      <td>Jackie Mason: Hollywood Would Love Trump if He...</td>\n",
              "      <td>Daniel Nussbaum</td>\n",
              "      <td>In these trying times, Jackie Mason is the Voi...</td>\n",
              "      <td>0</td>\n",
              "    </tr>\n",
              "    <tr>\n",
              "      <th>7</th>\n",
              "      <td>7</td>\n",
              "      <td>Benoît Hamon Wins French Socialist Party’s Pre...</td>\n",
              "      <td>Alissa J. Rubin</td>\n",
              "      <td>PARIS  —   France chose an idealistic, traditi...</td>\n",
              "      <td>0</td>\n",
              "    </tr>\n",
              "    <tr>\n",
              "      <th>9</th>\n",
              "      <td>9</td>\n",
              "      <td>A Back-Channel Plan for Ukraine and Russia, Co...</td>\n",
              "      <td>Megan Twohey and Scott Shane</td>\n",
              "      <td>A week before Michael T. Flynn resigned as nat...</td>\n",
              "      <td>0</td>\n",
              "    </tr>\n",
              "    <tr>\n",
              "      <th>10</th>\n",
              "      <td>10</td>\n",
              "      <td>Obama’s Organizing for Action Partners with So...</td>\n",
              "      <td>Aaron Klein</td>\n",
              "      <td>Organizing for Action, the activist group that...</td>\n",
              "      <td>0</td>\n",
              "    </tr>\n",
              "    <tr>\n",
              "      <th>11</th>\n",
              "      <td>11</td>\n",
              "      <td>BBC Comedy Sketch \"Real Housewives of ISIS\" Ca...</td>\n",
              "      <td>Chris Tomlinson</td>\n",
              "      <td>The BBC produced spoof on the “Real Housewives...</td>\n",
              "      <td>0</td>\n",
              "    </tr>\n",
              "  </tbody>\n",
              "</table>\n",
              "</div>\n",
              "    <div class=\"colab-df-buttons\">\n",
              "\n",
              "  <div class=\"colab-df-container\">\n",
              "    <button class=\"colab-df-convert\" onclick=\"convertToInteractive('df-ad45ef8f-9203-45ea-831e-e7f79c0ab489')\"\n",
              "            title=\"Convert this dataframe to an interactive table.\"\n",
              "            style=\"display:none;\">\n",
              "\n",
              "  <svg xmlns=\"http://www.w3.org/2000/svg\" height=\"24px\" viewBox=\"0 -960 960 960\">\n",
              "    <path d=\"M120-120v-720h720v720H120Zm60-500h600v-160H180v160Zm220 220h160v-160H400v160Zm0 220h160v-160H400v160ZM180-400h160v-160H180v160Zm440 0h160v-160H620v160ZM180-180h160v-160H180v160Zm440 0h160v-160H620v160Z\"/>\n",
              "  </svg>\n",
              "    </button>\n",
              "\n",
              "  <style>\n",
              "    .colab-df-container {\n",
              "      display:flex;\n",
              "      gap: 12px;\n",
              "    }\n",
              "\n",
              "    .colab-df-convert {\n",
              "      background-color: #E8F0FE;\n",
              "      border: none;\n",
              "      border-radius: 50%;\n",
              "      cursor: pointer;\n",
              "      display: none;\n",
              "      fill: #1967D2;\n",
              "      height: 32px;\n",
              "      padding: 0 0 0 0;\n",
              "      width: 32px;\n",
              "    }\n",
              "\n",
              "    .colab-df-convert:hover {\n",
              "      background-color: #E2EBFA;\n",
              "      box-shadow: 0px 1px 2px rgba(60, 64, 67, 0.3), 0px 1px 3px 1px rgba(60, 64, 67, 0.15);\n",
              "      fill: #174EA6;\n",
              "    }\n",
              "\n",
              "    .colab-df-buttons div {\n",
              "      margin-bottom: 4px;\n",
              "    }\n",
              "\n",
              "    [theme=dark] .colab-df-convert {\n",
              "      background-color: #3B4455;\n",
              "      fill: #D2E3FC;\n",
              "    }\n",
              "\n",
              "    [theme=dark] .colab-df-convert:hover {\n",
              "      background-color: #434B5C;\n",
              "      box-shadow: 0px 1px 3px 1px rgba(0, 0, 0, 0.15);\n",
              "      filter: drop-shadow(0px 1px 2px rgba(0, 0, 0, 0.3));\n",
              "      fill: #FFFFFF;\n",
              "    }\n",
              "  </style>\n",
              "\n",
              "    <script>\n",
              "      const buttonEl =\n",
              "        document.querySelector('#df-ad45ef8f-9203-45ea-831e-e7f79c0ab489 button.colab-df-convert');\n",
              "      buttonEl.style.display =\n",
              "        google.colab.kernel.accessAllowed ? 'block' : 'none';\n",
              "\n",
              "      async function convertToInteractive(key) {\n",
              "        const element = document.querySelector('#df-ad45ef8f-9203-45ea-831e-e7f79c0ab489');\n",
              "        const dataTable =\n",
              "          await google.colab.kernel.invokeFunction('convertToInteractive',\n",
              "                                                    [key], {});\n",
              "        if (!dataTable) return;\n",
              "\n",
              "        const docLinkHtml = 'Like what you see? Visit the ' +\n",
              "          '<a target=\"_blank\" href=https://colab.research.google.com/notebooks/data_table.ipynb>data table notebook</a>'\n",
              "          + ' to learn more about interactive tables.';\n",
              "        element.innerHTML = '';\n",
              "        dataTable['output_type'] = 'display_data';\n",
              "        await google.colab.output.renderOutput(dataTable, element);\n",
              "        const docLink = document.createElement('div');\n",
              "        docLink.innerHTML = docLinkHtml;\n",
              "        element.appendChild(docLink);\n",
              "      }\n",
              "    </script>\n",
              "  </div>\n",
              "\n",
              "\n",
              "    <div id=\"df-cf0ee5f9-1b4b-4377-b6bb-25df9c7fdac6\">\n",
              "      <button class=\"colab-df-quickchart\" onclick=\"quickchart('df-cf0ee5f9-1b4b-4377-b6bb-25df9c7fdac6')\"\n",
              "                title=\"Suggest charts\"\n",
              "                style=\"display:none;\">\n",
              "\n",
              "<svg xmlns=\"http://www.w3.org/2000/svg\" height=\"24px\"viewBox=\"0 0 24 24\"\n",
              "     width=\"24px\">\n",
              "    <g>\n",
              "        <path d=\"M19 3H5c-1.1 0-2 .9-2 2v14c0 1.1.9 2 2 2h14c1.1 0 2-.9 2-2V5c0-1.1-.9-2-2-2zM9 17H7v-7h2v7zm4 0h-2V7h2v10zm4 0h-2v-4h2v4z\"/>\n",
              "    </g>\n",
              "</svg>\n",
              "      </button>\n",
              "\n",
              "<style>\n",
              "  .colab-df-quickchart {\n",
              "      --bg-color: #E8F0FE;\n",
              "      --fill-color: #1967D2;\n",
              "      --hover-bg-color: #E2EBFA;\n",
              "      --hover-fill-color: #174EA6;\n",
              "      --disabled-fill-color: #AAA;\n",
              "      --disabled-bg-color: #DDD;\n",
              "  }\n",
              "\n",
              "  [theme=dark] .colab-df-quickchart {\n",
              "      --bg-color: #3B4455;\n",
              "      --fill-color: #D2E3FC;\n",
              "      --hover-bg-color: #434B5C;\n",
              "      --hover-fill-color: #FFFFFF;\n",
              "      --disabled-bg-color: #3B4455;\n",
              "      --disabled-fill-color: #666;\n",
              "  }\n",
              "\n",
              "  .colab-df-quickchart {\n",
              "    background-color: var(--bg-color);\n",
              "    border: none;\n",
              "    border-radius: 50%;\n",
              "    cursor: pointer;\n",
              "    display: none;\n",
              "    fill: var(--fill-color);\n",
              "    height: 32px;\n",
              "    padding: 0;\n",
              "    width: 32px;\n",
              "  }\n",
              "\n",
              "  .colab-df-quickchart:hover {\n",
              "    background-color: var(--hover-bg-color);\n",
              "    box-shadow: 0 1px 2px rgba(60, 64, 67, 0.3), 0 1px 3px 1px rgba(60, 64, 67, 0.15);\n",
              "    fill: var(--button-hover-fill-color);\n",
              "  }\n",
              "\n",
              "  .colab-df-quickchart-complete:disabled,\n",
              "  .colab-df-quickchart-complete:disabled:hover {\n",
              "    background-color: var(--disabled-bg-color);\n",
              "    fill: var(--disabled-fill-color);\n",
              "    box-shadow: none;\n",
              "  }\n",
              "\n",
              "  .colab-df-spinner {\n",
              "    border: 2px solid var(--fill-color);\n",
              "    border-color: transparent;\n",
              "    border-bottom-color: var(--fill-color);\n",
              "    animation:\n",
              "      spin 1s steps(1) infinite;\n",
              "  }\n",
              "\n",
              "  @keyframes spin {\n",
              "    0% {\n",
              "      border-color: transparent;\n",
              "      border-bottom-color: var(--fill-color);\n",
              "      border-left-color: var(--fill-color);\n",
              "    }\n",
              "    20% {\n",
              "      border-color: transparent;\n",
              "      border-left-color: var(--fill-color);\n",
              "      border-top-color: var(--fill-color);\n",
              "    }\n",
              "    30% {\n",
              "      border-color: transparent;\n",
              "      border-left-color: var(--fill-color);\n",
              "      border-top-color: var(--fill-color);\n",
              "      border-right-color: var(--fill-color);\n",
              "    }\n",
              "    40% {\n",
              "      border-color: transparent;\n",
              "      border-right-color: var(--fill-color);\n",
              "      border-top-color: var(--fill-color);\n",
              "    }\n",
              "    60% {\n",
              "      border-color: transparent;\n",
              "      border-right-color: var(--fill-color);\n",
              "    }\n",
              "    80% {\n",
              "      border-color: transparent;\n",
              "      border-right-color: var(--fill-color);\n",
              "      border-bottom-color: var(--fill-color);\n",
              "    }\n",
              "    90% {\n",
              "      border-color: transparent;\n",
              "      border-bottom-color: var(--fill-color);\n",
              "    }\n",
              "  }\n",
              "</style>\n",
              "\n",
              "      <script>\n",
              "        async function quickchart(key) {\n",
              "          const quickchartButtonEl =\n",
              "            document.querySelector('#' + key + ' button');\n",
              "          quickchartButtonEl.disabled = true;  // To prevent multiple clicks.\n",
              "          quickchartButtonEl.classList.add('colab-df-spinner');\n",
              "          try {\n",
              "            const charts = await google.colab.kernel.invokeFunction(\n",
              "                'suggestCharts', [key], {});\n",
              "          } catch (error) {\n",
              "            console.error('Error during call to suggestCharts:', error);\n",
              "          }\n",
              "          quickchartButtonEl.classList.remove('colab-df-spinner');\n",
              "          quickchartButtonEl.classList.add('colab-df-quickchart-complete');\n",
              "        }\n",
              "        (() => {\n",
              "          let quickchartButtonEl =\n",
              "            document.querySelector('#df-cf0ee5f9-1b4b-4377-b6bb-25df9c7fdac6 button');\n",
              "          quickchartButtonEl.style.display =\n",
              "            google.colab.kernel.accessAllowed ? 'block' : 'none';\n",
              "        })();\n",
              "      </script>\n",
              "    </div>\n",
              "\n",
              "    </div>\n",
              "  </div>\n"
            ],
            "application/vnd.google.colaboratory.intrinsic+json": {
              "type": "dataframe",
              "variable_name": "news",
              "summary": "{\n  \"name\": \"news\",\n  \"rows\": 18285,\n  \"fields\": [\n    {\n      \"column\": \"id\",\n      \"properties\": {\n        \"dtype\": \"string\",\n        \"num_unique_values\": 18285,\n        \"samples\": [\n          \"11784\",\n          \"6997\",\n          \"14904\"\n        ],\n        \"semantic_type\": \"\",\n        \"description\": \"\"\n      }\n    },\n    {\n      \"column\": \"title\",\n      \"properties\": {\n        \"dtype\": \"string\",\n        \"num_unique_values\": 17931,\n        \"samples\": [\n          \"Open Borders Lobby Blasts Sheriff\\u2019s Deportation Deal\",\n          \"Obama's Victory Lap?\",\n          \"Fighting in Aleppo Leaves 2 Million Without Water, U.N. Says - The New York Times\"\n        ],\n        \"semantic_type\": \"\",\n        \"description\": \"\"\n      }\n    },\n    {\n      \"column\": \"author\",\n      \"properties\": {\n        \"dtype\": \"category\",\n        \"num_unique_values\": 3838,\n        \"samples\": [\n          \"Ellen Brodsky\",\n          \"Helene Cooper and David E. Sanger\",\n          \"Richard Fausset, Alan Blinder and John Eligon\"\n        ],\n        \"semantic_type\": \"\",\n        \"description\": \"\"\n      }\n    },\n    {\n      \"column\": \"text\",\n      \"properties\": {\n        \"dtype\": \"string\",\n        \"num_unique_values\": 18017,\n        \"samples\": [\n          \"We Are Change \\nA plane carrying U.S. Vice Presidential candidate Mike Pence and his campaign crew has slid off the runway in New York\\u2019s LaGuardia Airport approximately 5 p.m. eastern today according to WPIX-TV .\\n\\nThere were 37 people on the plane, including Pence. No injuries have been declared or deaths at the time of this writing.\\nThe flight was initially delayted because of unknown problems at LaGuardia, giving Pence time to toss the football around while stranded on the tarmac in Iowa, and tweet this photo reported Fox6. \\n(THIS IS A BREAKING, DEVELOPING STORY AND UPDATES WILL BE ADDED AS MORE INFORMATION BECOMES AVAILABLE.)\\nThe post BREAKING: Plane Carrying U.S. VP Candidate MIKE PENCE Slides Off The Runway appeared first on We Are Change .\\n\",\n          \"The Drought That Was Prophesied To Hit The Southern United States Is Now Here   15th, 2016 \\nA record-setting drought has gripped the southern United States, but most people have no idea that this drought is the fulfillment of a prophecy that was given four years ago. Back in 2008, John Paul Jackson released a DVD entitled \\u201c The Perfect Storm \\u201d in which he detailed many of the prophetic events that God showed him would soon come to America. In 2012, he released a video update to \\u201cThe Perfect Storm\\u201d that you can view on YouTube right here . In that update, he shared a list of future headlines that God had revealed to him over the years. Some of these headlines have already happened since that time, and now we are watching another be fulfilled right in front of our eyes. \\nSpecifically, I am referring to this headline: \\u201cRecord High Temps Accompany Record Drought Swept South\\u201d . \\nIn an article entitled \\u201c July\\u2019s Extreme Heat Breaks Records Across South \\u201c, weather.com detailed many of the high temperature records that have been broken in the South in recent months, but in this article I am going to focus on the crippling drought that is plaguing the region. \\nIn addition to the headline above, John Paul Jackson was shown several other headlines regarding drought and famine coming to America\\u2026 \\n\\u201cDrought Continues to Cause Prayer to Rise\\u201d \\n\\u201cDemand for Classic Seeds Skyrockets\\u201d \\n\\u201cFood Prices Lead Nation\\u2019s Escalating Inflation Woes\\u201d \\n\\u201cSysco and Kraft Consider Guards on Delivery Trucks as Food Nears 40% of the Family Budget\\u201d \\nAnd of course John Paul Jackson is not the only one that has been shown that these things are coming to this nation. \\nThe following is a very small portion of what Terry Bennett was shown in April 2011 \\u2026 \\nI was also warned, by the appearing of the black horse and its rider, about famine. The angel said, \\u201cThere will be a famine of food in your nation!\\u201d Not only this, but also the prices of food, particularly grains, will dramatically rise. We will see not only shortages and high prices, but I was shown significant starvation occurring during this time. Death followed this black horse! \\nDr. Patricia Green correctly prophesied the election victories of Barack Obama and Donald Trump in advance, and she was also shown that famine is going to hit America \\u2026 \\n\\u201cI\\u2019m instructing my children to begin to fill up their storehouses before the famine strikes just as I instructed Joseph while he was in Egypt.\\u201d \\nWith those prophecies in mind, it is extremely alarming to see what is happening all across the southern portion of the United States right now. According to the U.S. Drought Monitor , most of the southern half of the country is experiencing some level of drought at this moment\\u2026 \\nThe drought in California has been raging for quite some time, but what has surprised the experts is how dry it has been in the Southeast lately. The following is from an EcoWatch article entitled \\u201c Record-Breaking Drought and Wildfires Plague Southeast \\u201c\\u2026 \\nThe atmospheric spigots have been turned off across most of the U.S. over the last several weeks. According to the weekly U.S. Drought Monitor report from Nov. 10, more than 27 percent of the contiguous U.S. has been enveloped by at least moderate drought (categories D1 through D4). This is the largest percentage value in more than a year, since late October 2015 . \\nThe upward trend of the last month is worrisome given the outlook for the coming winter: Drier-than-average conditions are projected by the National Oceanic and Atmospheric Administration across the southern half of the contiguous U.S., a frequent outcome during La Ni\\u00f1a winters. \\nTo say that the drought in the Southeast is severe would be a tremendous understatement. At this point, some cities in the Southeast haven\\u2019t seen any measurable rain in about 50 days \\u2026 \\nNo measurable rain (at least .01 inches) has been tallied at Birmingham\\u2019s Shuttlesworth International Airport since Sept. 18, approaching a two-month-long dry streak, topping their previous longest dry streak on record \\u2013 52 straight days \\u2013 from fall 1924. \\nNine minutes of sprinkles Nov. 4 and another bout of sprinkles on Oct. 16 has been the entirety of Birmingham\\u2019s rainfall so far this fall. \\nAnniston, Alabama, and Rome, Georgia, have dry streaks now approaching 50 days. \\nAnd unfortunately, it appears that there is not going to be any substantial rain for the region any time soon \\u2026 \\nThere are no signs of any significant rainfall through the end of the month across the Southeast, AccuWeather Senior Meteorologist Henry Margusity said. \\nThe region needs days and weeks of a steady, soaking rain to completely eliminate the drought. \\n\\u201cThings will only get worse before they get better,\\u201d Margusity explained. \\nWhenever conditions are this dry, it is inevitable that there will be wildfires. \\nRight now more than 100 major wildfires are raging across the Southeast, and some of the worst are in the mountains of North Carolina. \\nAs you read this article, more than 1,000 firefighters are battling dozens of large wildfires in the North Carolina mountains. Governor Pat McCrory is referring to these fires as \\u201c California wildfires in North Carolina \\u201c, and he is not exaggerating one bit. \\nIf what we are witnessing is truly the beginning of the fulfillment of what God showed John Paul Jackson, Terry Bennett and Patricia Green, then we should expect drought conditions to continue to intensify in the months ahead. \\nAnd as you can see above, they are saying that things will eventually get so bad that famine will strike America. \\nMost of us couldn\\u2019t imagine something like that ever happening in this nation. But these are men and women of God with very long track records. As I noted above, Dr. Patricia Green correctly prophesied the election victories by Barack Obama and Donald Trump in advance, and John Paul Jackson has a track record of correctly fulfilled prophecies that is exceedingly long. \\nAs I end this article, I also want to remind everyone of what God showed Heidi Baker regarding the future of America not too long ago \\u2026 \\nI saw bread lines, soup kitchens, and I saw people wearing beautiful clothing. Their clothing was not worn out. Now in my nation when people are hungry you can tell. I mean they are in shredded rags. They don\\u2019t have shoes or they have flip flops. Most of them [have] no shoes. They are hungry and they know they are hungry. They come for food, not because they are beggars, but because they are hungry. \\nThese days a lot of Americans have become complacent and are feeling pretty good about things. \\nBut the events that are warned about in this article are coming, and I would encourage everyone to get prepared while they still can.\",\n          \"Two migrants have been given sentences of three and     years for beating a young man almost to death before violently raping his female friend. The government will try to deport only one of them, temporarily. [The Freie Zeiten reports that three teenage girls and one male friend met for a party at an apartment in Kista, near Stockholm, citing Solna District Court documents.  One of the girls invited a    migrant from Liberia, Richelieu Jarara, with whom she was acquainted. This man brought another African migrant, a Kenyan named Fayed Mwangi, with him. Before long, the migrants began sexually harassing the girls. Matters quickly escalated from there, with the pair conferring briefly before spraying their friend in the face with pepper spray. The Freie Zeiten describes how they then beat and kicked the man with \\u201cbrutal force\\u201d  leaving him with \\u201cmultiple cerebral haemorrhages, severe swelling and bruises all over his body, as well as bone fractures and open wounds\\u201d. The three girls, as well as the attackers, thought the young man had been beaten to death, with Jarara actually uploading a video to Snapchat in which he made light of having \\u201ckilled a guy\\u201d. He was, in fact, still alive, but unconscious and permanently brain damaged. Jarara\\u2019s younger companion,    Mwangi, is said to have \\u201cstrangled\\u201d one of the girls when she tried to intervene, slamming her into a wall and \\u201churling\\u201d her to the floor. The Kenyan then grabbed another of the girls by the hair, dragged her into the bedroom and raped her. She was also strangled, with the Kenyan threatening to strike her if she screamed. The ordeal was finally brought to an end when a neighbour burst into the apartment, allowing the girls to flee. According to the Fria Tider, the court sentenced Mwangi to just     years for his crimes, despite his having raped another woman in May 2016. The government will attempt to deport him afterwards  \\u2014   although he will be allowed to return to the country after ten years, and judges have prevented other European countries, such as the United Kingdom, from following through on deporting criminal migrants after their sentences in the past. Jarara, who has a string of previous convictions for crimes including theft, serious bodily injury, and resisting arrest, was given a slightly longer sentence  \\u2014   three years  \\u2014   but he will not be deported.\"\n        ],\n        \"semantic_type\": \"\",\n        \"description\": \"\"\n      }\n    },\n    {\n      \"column\": \"label\",\n      \"properties\": {\n        \"dtype\": \"category\",\n        \"num_unique_values\": 4,\n        \"samples\": [\n          \"0\",\n          \" \\u0447\\u0442\\u043e\\u0431\\u044b \\u044d\\u0442\\u043e \\u0431\\u044b\\u043b\\u0430 \\u0434\\u043e\\u0440\\u043e\\u0433\\u0430 \\u0441 \\u0434\\u0432\\u0443\\u0441\\u0442\\u043e\\u0440\\u043e\\u043d\\u043d\\u0438\\u043c \\u0434\\u0432\\u0438\\u0436\\u0435\\u043d\\u0438\\u0435\\u043c.\",\n          \"1\"\n        ],\n        \"semantic_type\": \"\",\n        \"description\": \"\"\n      }\n    }\n  ]\n}"
            }
          },
          "metadata": {},
          "execution_count": 10
        }
      ],
      "source": [
        "news.head(10)"
      ]
    },
    {
      "cell_type": "code",
      "execution_count": 11,
      "id": "551c7e7c-85d2-4756-b6f9-826e62f3d873",
      "metadata": {
        "id": "551c7e7c-85d2-4756-b6f9-826e62f3d873"
      },
      "outputs": [],
      "source": [
        "mess = news.copy ()"
      ]
    },
    {
      "cell_type": "code",
      "execution_count": 12,
      "id": "7233a779-16f2-4561-ab75-a2c31051f0d1",
      "metadata": {
        "id": "7233a779-16f2-4561-ab75-a2c31051f0d1"
      },
      "outputs": [],
      "source": [
        "mess.reset_index(inplace=True)"
      ]
    },
    {
      "cell_type": "code",
      "execution_count": 13,
      "id": "a444ca46-5200-4fec-b33b-398ea41f963c",
      "metadata": {
        "colab": {
          "base_uri": "https://localhost:8080/",
          "height": 484
        },
        "id": "a444ca46-5200-4fec-b33b-398ea41f963c",
        "outputId": "c436b1a4-670c-4c34-f6a0-6f68d2ae6e0e"
      },
      "outputs": [
        {
          "output_type": "execute_result",
          "data": {
            "text/plain": [
              "   index  id                                              title  \\\n",
              "0      0   0  House Dem Aide: We Didn’t Even See Comey’s Let...   \n",
              "1      1   1  FLYNN: Hillary Clinton, Big Woman on Campus - ...   \n",
              "2      2   2                  Why the Truth Might Get You Fired   \n",
              "3      3   3  15 Civilians Killed In Single US Airstrike Hav...   \n",
              "4      4   4  Iranian woman jailed for fictional unpublished...   \n",
              "5      5   5  Jackie Mason: Hollywood Would Love Trump if He...   \n",
              "6      7   7  Benoît Hamon Wins French Socialist Party’s Pre...   \n",
              "7      9   9  A Back-Channel Plan for Ukraine and Russia, Co...   \n",
              "8     10  10  Obama’s Organizing for Action Partners with So...   \n",
              "9     11  11  BBC Comedy Sketch \"Real Housewives of ISIS\" Ca...   \n",
              "\n",
              "                         author  \\\n",
              "0                 Darrell Lucus   \n",
              "1               Daniel J. Flynn   \n",
              "2            Consortiumnews.com   \n",
              "3               Jessica Purkiss   \n",
              "4                Howard Portnoy   \n",
              "5               Daniel Nussbaum   \n",
              "6               Alissa J. Rubin   \n",
              "7  Megan Twohey and Scott Shane   \n",
              "8                   Aaron Klein   \n",
              "9               Chris Tomlinson   \n",
              "\n",
              "                                                text label  \n",
              "0  House Dem Aide: We Didn’t Even See Comey’s Let...     1  \n",
              "1  Ever get the feeling your life circles the rou...     0  \n",
              "2  Why the Truth Might Get You Fired October 29, ...     1  \n",
              "3  Videos 15 Civilians Killed In Single US Airstr...     1  \n",
              "4  Print \\nAn Iranian woman has been sentenced to...     1  \n",
              "5  In these trying times, Jackie Mason is the Voi...     0  \n",
              "6  PARIS  —   France chose an idealistic, traditi...     0  \n",
              "7  A week before Michael T. Flynn resigned as nat...     0  \n",
              "8  Organizing for Action, the activist group that...     0  \n",
              "9  The BBC produced spoof on the “Real Housewives...     0  "
            ],
            "text/html": [
              "\n",
              "  <div id=\"df-e9fcc18c-6dc3-4e81-b94e-dcea3440ee9d\" class=\"colab-df-container\">\n",
              "    <div>\n",
              "<style scoped>\n",
              "    .dataframe tbody tr th:only-of-type {\n",
              "        vertical-align: middle;\n",
              "    }\n",
              "\n",
              "    .dataframe tbody tr th {\n",
              "        vertical-align: top;\n",
              "    }\n",
              "\n",
              "    .dataframe thead th {\n",
              "        text-align: right;\n",
              "    }\n",
              "</style>\n",
              "<table border=\"1\" class=\"dataframe\">\n",
              "  <thead>\n",
              "    <tr style=\"text-align: right;\">\n",
              "      <th></th>\n",
              "      <th>index</th>\n",
              "      <th>id</th>\n",
              "      <th>title</th>\n",
              "      <th>author</th>\n",
              "      <th>text</th>\n",
              "      <th>label</th>\n",
              "    </tr>\n",
              "  </thead>\n",
              "  <tbody>\n",
              "    <tr>\n",
              "      <th>0</th>\n",
              "      <td>0</td>\n",
              "      <td>0</td>\n",
              "      <td>House Dem Aide: We Didn’t Even See Comey’s Let...</td>\n",
              "      <td>Darrell Lucus</td>\n",
              "      <td>House Dem Aide: We Didn’t Even See Comey’s Let...</td>\n",
              "      <td>1</td>\n",
              "    </tr>\n",
              "    <tr>\n",
              "      <th>1</th>\n",
              "      <td>1</td>\n",
              "      <td>1</td>\n",
              "      <td>FLYNN: Hillary Clinton, Big Woman on Campus - ...</td>\n",
              "      <td>Daniel J. Flynn</td>\n",
              "      <td>Ever get the feeling your life circles the rou...</td>\n",
              "      <td>0</td>\n",
              "    </tr>\n",
              "    <tr>\n",
              "      <th>2</th>\n",
              "      <td>2</td>\n",
              "      <td>2</td>\n",
              "      <td>Why the Truth Might Get You Fired</td>\n",
              "      <td>Consortiumnews.com</td>\n",
              "      <td>Why the Truth Might Get You Fired October 29, ...</td>\n",
              "      <td>1</td>\n",
              "    </tr>\n",
              "    <tr>\n",
              "      <th>3</th>\n",
              "      <td>3</td>\n",
              "      <td>3</td>\n",
              "      <td>15 Civilians Killed In Single US Airstrike Hav...</td>\n",
              "      <td>Jessica Purkiss</td>\n",
              "      <td>Videos 15 Civilians Killed In Single US Airstr...</td>\n",
              "      <td>1</td>\n",
              "    </tr>\n",
              "    <tr>\n",
              "      <th>4</th>\n",
              "      <td>4</td>\n",
              "      <td>4</td>\n",
              "      <td>Iranian woman jailed for fictional unpublished...</td>\n",
              "      <td>Howard Portnoy</td>\n",
              "      <td>Print \\nAn Iranian woman has been sentenced to...</td>\n",
              "      <td>1</td>\n",
              "    </tr>\n",
              "    <tr>\n",
              "      <th>5</th>\n",
              "      <td>5</td>\n",
              "      <td>5</td>\n",
              "      <td>Jackie Mason: Hollywood Would Love Trump if He...</td>\n",
              "      <td>Daniel Nussbaum</td>\n",
              "      <td>In these trying times, Jackie Mason is the Voi...</td>\n",
              "      <td>0</td>\n",
              "    </tr>\n",
              "    <tr>\n",
              "      <th>6</th>\n",
              "      <td>7</td>\n",
              "      <td>7</td>\n",
              "      <td>Benoît Hamon Wins French Socialist Party’s Pre...</td>\n",
              "      <td>Alissa J. Rubin</td>\n",
              "      <td>PARIS  —   France chose an idealistic, traditi...</td>\n",
              "      <td>0</td>\n",
              "    </tr>\n",
              "    <tr>\n",
              "      <th>7</th>\n",
              "      <td>9</td>\n",
              "      <td>9</td>\n",
              "      <td>A Back-Channel Plan for Ukraine and Russia, Co...</td>\n",
              "      <td>Megan Twohey and Scott Shane</td>\n",
              "      <td>A week before Michael T. Flynn resigned as nat...</td>\n",
              "      <td>0</td>\n",
              "    </tr>\n",
              "    <tr>\n",
              "      <th>8</th>\n",
              "      <td>10</td>\n",
              "      <td>10</td>\n",
              "      <td>Obama’s Organizing for Action Partners with So...</td>\n",
              "      <td>Aaron Klein</td>\n",
              "      <td>Organizing for Action, the activist group that...</td>\n",
              "      <td>0</td>\n",
              "    </tr>\n",
              "    <tr>\n",
              "      <th>9</th>\n",
              "      <td>11</td>\n",
              "      <td>11</td>\n",
              "      <td>BBC Comedy Sketch \"Real Housewives of ISIS\" Ca...</td>\n",
              "      <td>Chris Tomlinson</td>\n",
              "      <td>The BBC produced spoof on the “Real Housewives...</td>\n",
              "      <td>0</td>\n",
              "    </tr>\n",
              "  </tbody>\n",
              "</table>\n",
              "</div>\n",
              "    <div class=\"colab-df-buttons\">\n",
              "\n",
              "  <div class=\"colab-df-container\">\n",
              "    <button class=\"colab-df-convert\" onclick=\"convertToInteractive('df-e9fcc18c-6dc3-4e81-b94e-dcea3440ee9d')\"\n",
              "            title=\"Convert this dataframe to an interactive table.\"\n",
              "            style=\"display:none;\">\n",
              "\n",
              "  <svg xmlns=\"http://www.w3.org/2000/svg\" height=\"24px\" viewBox=\"0 -960 960 960\">\n",
              "    <path d=\"M120-120v-720h720v720H120Zm60-500h600v-160H180v160Zm220 220h160v-160H400v160Zm0 220h160v-160H400v160ZM180-400h160v-160H180v160Zm440 0h160v-160H620v160ZM180-180h160v-160H180v160Zm440 0h160v-160H620v160Z\"/>\n",
              "  </svg>\n",
              "    </button>\n",
              "\n",
              "  <style>\n",
              "    .colab-df-container {\n",
              "      display:flex;\n",
              "      gap: 12px;\n",
              "    }\n",
              "\n",
              "    .colab-df-convert {\n",
              "      background-color: #E8F0FE;\n",
              "      border: none;\n",
              "      border-radius: 50%;\n",
              "      cursor: pointer;\n",
              "      display: none;\n",
              "      fill: #1967D2;\n",
              "      height: 32px;\n",
              "      padding: 0 0 0 0;\n",
              "      width: 32px;\n",
              "    }\n",
              "\n",
              "    .colab-df-convert:hover {\n",
              "      background-color: #E2EBFA;\n",
              "      box-shadow: 0px 1px 2px rgba(60, 64, 67, 0.3), 0px 1px 3px 1px rgba(60, 64, 67, 0.15);\n",
              "      fill: #174EA6;\n",
              "    }\n",
              "\n",
              "    .colab-df-buttons div {\n",
              "      margin-bottom: 4px;\n",
              "    }\n",
              "\n",
              "    [theme=dark] .colab-df-convert {\n",
              "      background-color: #3B4455;\n",
              "      fill: #D2E3FC;\n",
              "    }\n",
              "\n",
              "    [theme=dark] .colab-df-convert:hover {\n",
              "      background-color: #434B5C;\n",
              "      box-shadow: 0px 1px 3px 1px rgba(0, 0, 0, 0.15);\n",
              "      filter: drop-shadow(0px 1px 2px rgba(0, 0, 0, 0.3));\n",
              "      fill: #FFFFFF;\n",
              "    }\n",
              "  </style>\n",
              "\n",
              "    <script>\n",
              "      const buttonEl =\n",
              "        document.querySelector('#df-e9fcc18c-6dc3-4e81-b94e-dcea3440ee9d button.colab-df-convert');\n",
              "      buttonEl.style.display =\n",
              "        google.colab.kernel.accessAllowed ? 'block' : 'none';\n",
              "\n",
              "      async function convertToInteractive(key) {\n",
              "        const element = document.querySelector('#df-e9fcc18c-6dc3-4e81-b94e-dcea3440ee9d');\n",
              "        const dataTable =\n",
              "          await google.colab.kernel.invokeFunction('convertToInteractive',\n",
              "                                                    [key], {});\n",
              "        if (!dataTable) return;\n",
              "\n",
              "        const docLinkHtml = 'Like what you see? Visit the ' +\n",
              "          '<a target=\"_blank\" href=https://colab.research.google.com/notebooks/data_table.ipynb>data table notebook</a>'\n",
              "          + ' to learn more about interactive tables.';\n",
              "        element.innerHTML = '';\n",
              "        dataTable['output_type'] = 'display_data';\n",
              "        await google.colab.output.renderOutput(dataTable, element);\n",
              "        const docLink = document.createElement('div');\n",
              "        docLink.innerHTML = docLinkHtml;\n",
              "        element.appendChild(docLink);\n",
              "      }\n",
              "    </script>\n",
              "  </div>\n",
              "\n",
              "\n",
              "    <div id=\"df-20efb43b-4b52-468f-9500-2a1d1604becf\">\n",
              "      <button class=\"colab-df-quickchart\" onclick=\"quickchart('df-20efb43b-4b52-468f-9500-2a1d1604becf')\"\n",
              "                title=\"Suggest charts\"\n",
              "                style=\"display:none;\">\n",
              "\n",
              "<svg xmlns=\"http://www.w3.org/2000/svg\" height=\"24px\"viewBox=\"0 0 24 24\"\n",
              "     width=\"24px\">\n",
              "    <g>\n",
              "        <path d=\"M19 3H5c-1.1 0-2 .9-2 2v14c0 1.1.9 2 2 2h14c1.1 0 2-.9 2-2V5c0-1.1-.9-2-2-2zM9 17H7v-7h2v7zm4 0h-2V7h2v10zm4 0h-2v-4h2v4z\"/>\n",
              "    </g>\n",
              "</svg>\n",
              "      </button>\n",
              "\n",
              "<style>\n",
              "  .colab-df-quickchart {\n",
              "      --bg-color: #E8F0FE;\n",
              "      --fill-color: #1967D2;\n",
              "      --hover-bg-color: #E2EBFA;\n",
              "      --hover-fill-color: #174EA6;\n",
              "      --disabled-fill-color: #AAA;\n",
              "      --disabled-bg-color: #DDD;\n",
              "  }\n",
              "\n",
              "  [theme=dark] .colab-df-quickchart {\n",
              "      --bg-color: #3B4455;\n",
              "      --fill-color: #D2E3FC;\n",
              "      --hover-bg-color: #434B5C;\n",
              "      --hover-fill-color: #FFFFFF;\n",
              "      --disabled-bg-color: #3B4455;\n",
              "      --disabled-fill-color: #666;\n",
              "  }\n",
              "\n",
              "  .colab-df-quickchart {\n",
              "    background-color: var(--bg-color);\n",
              "    border: none;\n",
              "    border-radius: 50%;\n",
              "    cursor: pointer;\n",
              "    display: none;\n",
              "    fill: var(--fill-color);\n",
              "    height: 32px;\n",
              "    padding: 0;\n",
              "    width: 32px;\n",
              "  }\n",
              "\n",
              "  .colab-df-quickchart:hover {\n",
              "    background-color: var(--hover-bg-color);\n",
              "    box-shadow: 0 1px 2px rgba(60, 64, 67, 0.3), 0 1px 3px 1px rgba(60, 64, 67, 0.15);\n",
              "    fill: var(--button-hover-fill-color);\n",
              "  }\n",
              "\n",
              "  .colab-df-quickchart-complete:disabled,\n",
              "  .colab-df-quickchart-complete:disabled:hover {\n",
              "    background-color: var(--disabled-bg-color);\n",
              "    fill: var(--disabled-fill-color);\n",
              "    box-shadow: none;\n",
              "  }\n",
              "\n",
              "  .colab-df-spinner {\n",
              "    border: 2px solid var(--fill-color);\n",
              "    border-color: transparent;\n",
              "    border-bottom-color: var(--fill-color);\n",
              "    animation:\n",
              "      spin 1s steps(1) infinite;\n",
              "  }\n",
              "\n",
              "  @keyframes spin {\n",
              "    0% {\n",
              "      border-color: transparent;\n",
              "      border-bottom-color: var(--fill-color);\n",
              "      border-left-color: var(--fill-color);\n",
              "    }\n",
              "    20% {\n",
              "      border-color: transparent;\n",
              "      border-left-color: var(--fill-color);\n",
              "      border-top-color: var(--fill-color);\n",
              "    }\n",
              "    30% {\n",
              "      border-color: transparent;\n",
              "      border-left-color: var(--fill-color);\n",
              "      border-top-color: var(--fill-color);\n",
              "      border-right-color: var(--fill-color);\n",
              "    }\n",
              "    40% {\n",
              "      border-color: transparent;\n",
              "      border-right-color: var(--fill-color);\n",
              "      border-top-color: var(--fill-color);\n",
              "    }\n",
              "    60% {\n",
              "      border-color: transparent;\n",
              "      border-right-color: var(--fill-color);\n",
              "    }\n",
              "    80% {\n",
              "      border-color: transparent;\n",
              "      border-right-color: var(--fill-color);\n",
              "      border-bottom-color: var(--fill-color);\n",
              "    }\n",
              "    90% {\n",
              "      border-color: transparent;\n",
              "      border-bottom-color: var(--fill-color);\n",
              "    }\n",
              "  }\n",
              "</style>\n",
              "\n",
              "      <script>\n",
              "        async function quickchart(key) {\n",
              "          const quickchartButtonEl =\n",
              "            document.querySelector('#' + key + ' button');\n",
              "          quickchartButtonEl.disabled = true;  // To prevent multiple clicks.\n",
              "          quickchartButtonEl.classList.add('colab-df-spinner');\n",
              "          try {\n",
              "            const charts = await google.colab.kernel.invokeFunction(\n",
              "                'suggestCharts', [key], {});\n",
              "          } catch (error) {\n",
              "            console.error('Error during call to suggestCharts:', error);\n",
              "          }\n",
              "          quickchartButtonEl.classList.remove('colab-df-spinner');\n",
              "          quickchartButtonEl.classList.add('colab-df-quickchart-complete');\n",
              "        }\n",
              "        (() => {\n",
              "          let quickchartButtonEl =\n",
              "            document.querySelector('#df-20efb43b-4b52-468f-9500-2a1d1604becf button');\n",
              "          quickchartButtonEl.style.display =\n",
              "            google.colab.kernel.accessAllowed ? 'block' : 'none';\n",
              "        })();\n",
              "      </script>\n",
              "    </div>\n",
              "\n",
              "    </div>\n",
              "  </div>\n"
            ],
            "application/vnd.google.colaboratory.intrinsic+json": {
              "type": "dataframe",
              "variable_name": "mess",
              "summary": "{\n  \"name\": \"mess\",\n  \"rows\": 18285,\n  \"fields\": [\n    {\n      \"column\": \"index\",\n      \"properties\": {\n        \"dtype\": \"number\",\n        \"std\": 6005,\n        \"min\": 0,\n        \"max\": 20821,\n        \"num_unique_values\": 18285,\n        \"samples\": [\n          11784,\n          6997,\n          14919\n        ],\n        \"semantic_type\": \"\",\n        \"description\": \"\"\n      }\n    },\n    {\n      \"column\": \"id\",\n      \"properties\": {\n        \"dtype\": \"string\",\n        \"num_unique_values\": 18285,\n        \"samples\": [\n          \"11784\",\n          \"6997\",\n          \"14904\"\n        ],\n        \"semantic_type\": \"\",\n        \"description\": \"\"\n      }\n    },\n    {\n      \"column\": \"title\",\n      \"properties\": {\n        \"dtype\": \"string\",\n        \"num_unique_values\": 17931,\n        \"samples\": [\n          \"Open Borders Lobby Blasts Sheriff\\u2019s Deportation Deal\",\n          \"Obama's Victory Lap?\",\n          \"Fighting in Aleppo Leaves 2 Million Without Water, U.N. Says - The New York Times\"\n        ],\n        \"semantic_type\": \"\",\n        \"description\": \"\"\n      }\n    },\n    {\n      \"column\": \"author\",\n      \"properties\": {\n        \"dtype\": \"category\",\n        \"num_unique_values\": 3838,\n        \"samples\": [\n          \"Ellen Brodsky\",\n          \"Helene Cooper and David E. Sanger\",\n          \"Richard Fausset, Alan Blinder and John Eligon\"\n        ],\n        \"semantic_type\": \"\",\n        \"description\": \"\"\n      }\n    },\n    {\n      \"column\": \"text\",\n      \"properties\": {\n        \"dtype\": \"string\",\n        \"num_unique_values\": 18017,\n        \"samples\": [\n          \"We Are Change \\nA plane carrying U.S. Vice Presidential candidate Mike Pence and his campaign crew has slid off the runway in New York\\u2019s LaGuardia Airport approximately 5 p.m. eastern today according to WPIX-TV .\\n\\nThere were 37 people on the plane, including Pence. No injuries have been declared or deaths at the time of this writing.\\nThe flight was initially delayted because of unknown problems at LaGuardia, giving Pence time to toss the football around while stranded on the tarmac in Iowa, and tweet this photo reported Fox6. \\n(THIS IS A BREAKING, DEVELOPING STORY AND UPDATES WILL BE ADDED AS MORE INFORMATION BECOMES AVAILABLE.)\\nThe post BREAKING: Plane Carrying U.S. VP Candidate MIKE PENCE Slides Off The Runway appeared first on We Are Change .\\n\",\n          \"The Drought That Was Prophesied To Hit The Southern United States Is Now Here   15th, 2016 \\nA record-setting drought has gripped the southern United States, but most people have no idea that this drought is the fulfillment of a prophecy that was given four years ago. Back in 2008, John Paul Jackson released a DVD entitled \\u201c The Perfect Storm \\u201d in which he detailed many of the prophetic events that God showed him would soon come to America. In 2012, he released a video update to \\u201cThe Perfect Storm\\u201d that you can view on YouTube right here . In that update, he shared a list of future headlines that God had revealed to him over the years. Some of these headlines have already happened since that time, and now we are watching another be fulfilled right in front of our eyes. \\nSpecifically, I am referring to this headline: \\u201cRecord High Temps Accompany Record Drought Swept South\\u201d . \\nIn an article entitled \\u201c July\\u2019s Extreme Heat Breaks Records Across South \\u201c, weather.com detailed many of the high temperature records that have been broken in the South in recent months, but in this article I am going to focus on the crippling drought that is plaguing the region. \\nIn addition to the headline above, John Paul Jackson was shown several other headlines regarding drought and famine coming to America\\u2026 \\n\\u201cDrought Continues to Cause Prayer to Rise\\u201d \\n\\u201cDemand for Classic Seeds Skyrockets\\u201d \\n\\u201cFood Prices Lead Nation\\u2019s Escalating Inflation Woes\\u201d \\n\\u201cSysco and Kraft Consider Guards on Delivery Trucks as Food Nears 40% of the Family Budget\\u201d \\nAnd of course John Paul Jackson is not the only one that has been shown that these things are coming to this nation. \\nThe following is a very small portion of what Terry Bennett was shown in April 2011 \\u2026 \\nI was also warned, by the appearing of the black horse and its rider, about famine. The angel said, \\u201cThere will be a famine of food in your nation!\\u201d Not only this, but also the prices of food, particularly grains, will dramatically rise. We will see not only shortages and high prices, but I was shown significant starvation occurring during this time. Death followed this black horse! \\nDr. Patricia Green correctly prophesied the election victories of Barack Obama and Donald Trump in advance, and she was also shown that famine is going to hit America \\u2026 \\n\\u201cI\\u2019m instructing my children to begin to fill up their storehouses before the famine strikes just as I instructed Joseph while he was in Egypt.\\u201d \\nWith those prophecies in mind, it is extremely alarming to see what is happening all across the southern portion of the United States right now. According to the U.S. Drought Monitor , most of the southern half of the country is experiencing some level of drought at this moment\\u2026 \\nThe drought in California has been raging for quite some time, but what has surprised the experts is how dry it has been in the Southeast lately. The following is from an EcoWatch article entitled \\u201c Record-Breaking Drought and Wildfires Plague Southeast \\u201c\\u2026 \\nThe atmospheric spigots have been turned off across most of the U.S. over the last several weeks. According to the weekly U.S. Drought Monitor report from Nov. 10, more than 27 percent of the contiguous U.S. has been enveloped by at least moderate drought (categories D1 through D4). This is the largest percentage value in more than a year, since late October 2015 . \\nThe upward trend of the last month is worrisome given the outlook for the coming winter: Drier-than-average conditions are projected by the National Oceanic and Atmospheric Administration across the southern half of the contiguous U.S., a frequent outcome during La Ni\\u00f1a winters. \\nTo say that the drought in the Southeast is severe would be a tremendous understatement. At this point, some cities in the Southeast haven\\u2019t seen any measurable rain in about 50 days \\u2026 \\nNo measurable rain (at least .01 inches) has been tallied at Birmingham\\u2019s Shuttlesworth International Airport since Sept. 18, approaching a two-month-long dry streak, topping their previous longest dry streak on record \\u2013 52 straight days \\u2013 from fall 1924. \\nNine minutes of sprinkles Nov. 4 and another bout of sprinkles on Oct. 16 has been the entirety of Birmingham\\u2019s rainfall so far this fall. \\nAnniston, Alabama, and Rome, Georgia, have dry streaks now approaching 50 days. \\nAnd unfortunately, it appears that there is not going to be any substantial rain for the region any time soon \\u2026 \\nThere are no signs of any significant rainfall through the end of the month across the Southeast, AccuWeather Senior Meteorologist Henry Margusity said. \\nThe region needs days and weeks of a steady, soaking rain to completely eliminate the drought. \\n\\u201cThings will only get worse before they get better,\\u201d Margusity explained. \\nWhenever conditions are this dry, it is inevitable that there will be wildfires. \\nRight now more than 100 major wildfires are raging across the Southeast, and some of the worst are in the mountains of North Carolina. \\nAs you read this article, more than 1,000 firefighters are battling dozens of large wildfires in the North Carolina mountains. Governor Pat McCrory is referring to these fires as \\u201c California wildfires in North Carolina \\u201c, and he is not exaggerating one bit. \\nIf what we are witnessing is truly the beginning of the fulfillment of what God showed John Paul Jackson, Terry Bennett and Patricia Green, then we should expect drought conditions to continue to intensify in the months ahead. \\nAnd as you can see above, they are saying that things will eventually get so bad that famine will strike America. \\nMost of us couldn\\u2019t imagine something like that ever happening in this nation. But these are men and women of God with very long track records. As I noted above, Dr. Patricia Green correctly prophesied the election victories by Barack Obama and Donald Trump in advance, and John Paul Jackson has a track record of correctly fulfilled prophecies that is exceedingly long. \\nAs I end this article, I also want to remind everyone of what God showed Heidi Baker regarding the future of America not too long ago \\u2026 \\nI saw bread lines, soup kitchens, and I saw people wearing beautiful clothing. Their clothing was not worn out. Now in my nation when people are hungry you can tell. I mean they are in shredded rags. They don\\u2019t have shoes or they have flip flops. Most of them [have] no shoes. They are hungry and they know they are hungry. They come for food, not because they are beggars, but because they are hungry. \\nThese days a lot of Americans have become complacent and are feeling pretty good about things. \\nBut the events that are warned about in this article are coming, and I would encourage everyone to get prepared while they still can.\",\n          \"Two migrants have been given sentences of three and     years for beating a young man almost to death before violently raping his female friend. The government will try to deport only one of them, temporarily. [The Freie Zeiten reports that three teenage girls and one male friend met for a party at an apartment in Kista, near Stockholm, citing Solna District Court documents.  One of the girls invited a    migrant from Liberia, Richelieu Jarara, with whom she was acquainted. This man brought another African migrant, a Kenyan named Fayed Mwangi, with him. Before long, the migrants began sexually harassing the girls. Matters quickly escalated from there, with the pair conferring briefly before spraying their friend in the face with pepper spray. The Freie Zeiten describes how they then beat and kicked the man with \\u201cbrutal force\\u201d  leaving him with \\u201cmultiple cerebral haemorrhages, severe swelling and bruises all over his body, as well as bone fractures and open wounds\\u201d. The three girls, as well as the attackers, thought the young man had been beaten to death, with Jarara actually uploading a video to Snapchat in which he made light of having \\u201ckilled a guy\\u201d. He was, in fact, still alive, but unconscious and permanently brain damaged. Jarara\\u2019s younger companion,    Mwangi, is said to have \\u201cstrangled\\u201d one of the girls when she tried to intervene, slamming her into a wall and \\u201churling\\u201d her to the floor. The Kenyan then grabbed another of the girls by the hair, dragged her into the bedroom and raped her. She was also strangled, with the Kenyan threatening to strike her if she screamed. The ordeal was finally brought to an end when a neighbour burst into the apartment, allowing the girls to flee. According to the Fria Tider, the court sentenced Mwangi to just     years for his crimes, despite his having raped another woman in May 2016. The government will attempt to deport him afterwards  \\u2014   although he will be allowed to return to the country after ten years, and judges have prevented other European countries, such as the United Kingdom, from following through on deporting criminal migrants after their sentences in the past. Jarara, who has a string of previous convictions for crimes including theft, serious bodily injury, and resisting arrest, was given a slightly longer sentence  \\u2014   three years  \\u2014   but he will not be deported.\"\n        ],\n        \"semantic_type\": \"\",\n        \"description\": \"\"\n      }\n    },\n    {\n      \"column\": \"label\",\n      \"properties\": {\n        \"dtype\": \"category\",\n        \"num_unique_values\": 4,\n        \"samples\": [\n          \"0\",\n          \" \\u0447\\u0442\\u043e\\u0431\\u044b \\u044d\\u0442\\u043e \\u0431\\u044b\\u043b\\u0430 \\u0434\\u043e\\u0440\\u043e\\u0433\\u0430 \\u0441 \\u0434\\u0432\\u0443\\u0441\\u0442\\u043e\\u0440\\u043e\\u043d\\u043d\\u0438\\u043c \\u0434\\u0432\\u0438\\u0436\\u0435\\u043d\\u0438\\u0435\\u043c.\",\n          \"1\"\n        ],\n        \"semantic_type\": \"\",\n        \"description\": \"\"\n      }\n    }\n  ]\n}"
            }
          },
          "metadata": {},
          "execution_count": 13
        }
      ],
      "source": [
        "mess.head(10)"
      ]
    },
    {
      "cell_type": "code",
      "execution_count": 14,
      "id": "ac64e33b-1a21-4fec-ba67-b1811e47e3d5",
      "metadata": {
        "colab": {
          "base_uri": "https://localhost:8080/",
          "height": 157
        },
        "id": "ac64e33b-1a21-4fec-ba67-b1811e47e3d5",
        "outputId": "3f9150e3-004c-495e-f007-6efc97e6fb64"
      },
      "outputs": [
        {
          "output_type": "execute_result",
          "data": {
            "text/plain": [
              "'The BBC produced spoof on the “Real Housewives” TV programmes, which has a comedic Islamic State twist, has been criticised by Leftists and Muslims who claim the sketch is offensive. [The BBC released the trailer earlier this week and were immediately slammed by those on the left and Muslims who thought that making fun of the brides of members of the terror group was out of the bounds of conventional humour. The sketch is part of a new programme called “Revolting” written by Jolyon Rubinstein and Heydon Prowse which, according to the BBC, is “satirising the state of the nation. ”  LOLOLOL pic. twitter.   —   Raheem Kassam (@RaheemKassam) January 4, 2017,  The BBC2 Facebook page was inundated with criticism. One user wrote, “I’m mortified that the BBC had produced such a programme. This is simply bad taste. The fact it is a comedy makes it even more worrying that humour should be associated with the actions of ISIS. Is this really what TV licenses are funding! ?” Others took a different point of view including a Muslim saying, “As a Muslim I find this HILARIOUS! Brilliant! The satire is on point highlighting the pathetic ideals of a pathetic group like ISIS. ” Not all Muslims agreed with the sentiment and users on Twitter expressed just as much outrage for the sketch. One man, a Bangladeshi, said “The BBC really made a satirical show called ‘The Real Housewives of ISIS’ while the real housewives of ISIS are being raped and abused daily. ”   The BBC really made a satirical show called ”The Real Housewives of ISIS” while the real housewives of ISIS are being raped and abused daily,  —   Meraj. (@UncleMeraj) January 4, 2017,  Another wrote, “‘Real Housewives of ISIS’ will make Hijabis feel more isolated n targeted by Islamophobes. Thanks @BBC for adding to the negative stereotype. ” ’Real Housewives of ISIS’ will make Hijabis feel more isolated n targeted by Islamophobes. Thanks @BBC for adding to the negative stereotype,  —   aѕн (@AshKaneSkittles) January 4, 2017,  Leftists also articulated how offended they were that the public broadcaster would dare create such a sketch mocking Islamic State. Some questioned whether the use of taxpayer money via the TV license fee should go toward the funding of the programme. As if people’s TV license in this country is going towards funding the production of a programme called ”the real housewives of ISIS”. Wow,  —   Cameron Edgar (@CammyyyEdgar) January 4, 2017,    The video itself has already been viewed millions of times on Facebook and other social media platforms.  The clip shows several women in hijabs talking to each other in a    house taking selfies and showing off their suicide belts to each other. One woman even mentions that she hadn’t come from Birmingham “to do this” as she scrubbed the floor of the home. Women joining Islamic State and travelling to Syria to become brides has become a real problem in European countries as the terror group promises young girls a more glamorous lifestyle. In 2014, eight schoolgirls from Bethnal Green travelled to Syria to become brides of Islamic State fighters, all of them under the age of 18.'"
            ],
            "application/vnd.google.colaboratory.intrinsic+json": {
              "type": "string"
            }
          },
          "metadata": {},
          "execution_count": 14
        }
      ],
      "source": [
        "mess[\"text\"][9]"
      ]
    },
    {
      "cell_type": "code",
      "execution_count": 15,
      "id": "f28e6e0a-eabc-4da7-a9fe-0d84f4675be0",
      "metadata": {
        "colab": {
          "base_uri": "https://localhost:8080/"
        },
        "id": "f28e6e0a-eabc-4da7-a9fe-0d84f4675be0",
        "outputId": "ffb00a06-5bca-49bb-d6bb-93c108af70c1"
      },
      "outputs": [
        {
          "output_type": "stream",
          "name": "stderr",
          "text": [
            "[nltk_data] Downloading package punkt to /root/nltk_data...\n",
            "[nltk_data]   Package punkt is already up-to-date!\n",
            "[nltk_data] Downloading package punkt_tab to /root/nltk_data...\n",
            "[nltk_data]   Package punkt_tab is already up-to-date!\n",
            "[nltk_data] Downloading package stopwords to /root/nltk_data...\n",
            "[nltk_data]   Package stopwords is already up-to-date!\n"
          ]
        },
        {
          "output_type": "execute_result",
          "data": {
            "text/plain": [
              "True"
            ]
          },
          "metadata": {},
          "execution_count": 15
        }
      ],
      "source": [
        "# import Libraries\n",
        "import nltk\n",
        "\n",
        "# Ensure the punkt resource is downloaded\n",
        "nltk.download('punkt') # Punkt resource is needed for sentence tokenization, punkt_tab is a specific internal representation\n",
        "nltk.download('punkt_tab') # Download the resource explicitly\n",
        "\n",
        "# Download the stopwords resource\n",
        "nltk.download('stopwords')"
      ]
    },
    {
      "cell_type": "code",
      "execution_count": 16,
      "id": "76450d2d-f866-4f7a-83a0-69865b696901",
      "metadata": {
        "id": "76450d2d-f866-4f7a-83a0-69865b696901"
      },
      "outputs": [],
      "source": [
        "import re\n",
        "from nltk.corpus import stopwords\n",
        "from nltk.stem.porter import PorterStemmer\n",
        "ps = PorterStemmer()\n",
        "corpus = []\n",
        "for i in range(0, len(mess)):\n",
        "    review = re.sub('[^a-zA-Z]', ' ', mess['text'][i])\n",
        "    review = review.lower()\n",
        "    review = review.split()\n",
        "\n",
        "    review = [ps.stem(word) for word in review if not word in stopwords.words('english')]\n",
        "    review = ' '.join(review)\n",
        "    corpus.append(review)"
      ]
    },
    {
      "cell_type": "code",
      "execution_count": 17,
      "id": "359381f8-cd3b-43e2-8dfe-d840045298a8",
      "metadata": {
        "id": "359381f8-cd3b-43e2-8dfe-d840045298a8",
        "colab": {
          "base_uri": "https://localhost:8080/",
          "height": 105
        },
        "outputId": "5b420230-2ee4-4c05-ee73-14a0b51e885e"
      },
      "outputs": [
        {
          "output_type": "execute_result",
          "data": {
            "text/plain": [
              "'tri time jacki mason voic reason week exclus clip breitbart news jacki discuss loom threat north korea explain presid donald trump could win support hollywood left u need strike first decid bomb whole countri behind everybodi realiz choic thing jacki say except hollywood left get nauseou trump could win left fall love minut bomb better reason jacki explain like transgend toilet jacki also say surpris hollywood celebr support trump strike syrian airfield month infuri say might save live mean anyth save environ climat chang happiest peopl world still jacki say got noth hollywood celeb got tough life countri watch jacki latest clip follow daniel nussbaum twitter dznussbaum'"
            ],
            "application/vnd.google.colaboratory.intrinsic+json": {
              "type": "string"
            }
          },
          "metadata": {},
          "execution_count": 17
        }
      ],
      "source": [
        "corpus[5]"
      ]
    },
    {
      "cell_type": "code",
      "execution_count": 18,
      "id": "132039ff-dd69-4f12-b153-f56b5a855a9b",
      "metadata": {
        "id": "132039ff-dd69-4f12-b153-f56b5a855a9b",
        "colab": {
          "base_uri": "https://localhost:8080/"
        },
        "outputId": "f48f88bd-56e4-4c16-c9a0-8000291174db"
      },
      "outputs": [
        {
          "output_type": "stream",
          "name": "stdout",
          "text": [
            "week michael flynn resign nation secur advis seal propos offic outlin way presid trump lift sanction russia mr flynn gone caught lie discuss sanction russian ambassador propos peac plan ukrain russia remain along push michael cohen presid person lawyer deliv document felix h sater busi associ help mr trump scout deal russia ukrainian lawmak tri rise polit opposit movement shape part mr trump former campaign manag paul manafort time mr trump tie russia peopl connect heighten scrutini investig american intellig agenc f b congress associ remain will eager wade effort behind scene mr trump confound democrat republican alik repeat prais russian presid vladimir v putin desir forg allianc noth illeg unoffici effort propos seem tip toward russian interest may set alarm amateur diplomat say goal simpli help settl gruel conflict cost live want help bring peac mr cohen ask propos contain peac plan andrii v artemenko ukrainian lawmak see leader futur ukrain claim evid name compani wire transfer show corrupt ukrainian presid petro poroshenko could help oust mr artemenko said receiv encourag plan top aid mr putin lot peopl call russian agent u agent c agent mr artemenko said find good solut countri talk mr cohen mr sater said spoken mr trump propos experi foreign polici mr cohen one sever trump associ scrutini f b counterintellig examin link russia accord law enforc offici deni illicit connect two other involv effort somewhat question past mr sater plead guilti role stock manipul scheme decad ago involv mafia mr artemenko spent two half year jail kiev earli embezzl charg later drop said polit motiv unclear white hous take propos serious diplomat freelanc infuri ukrainian offici ukrain ambassador unit state valeriy chali said mr artemenko entitl present altern peac plan behalf ukrain foreign govern includ u administr secur confer munich friday mr poroshenko warn west appeas russia american expert say offer russia altern intern agreement ukrain would mistak trump administr sent mix signal conflict ukrain given mr trump prais mr putin john herbst former american ambassador ukrain said fear new presid might eager mend relat russia ukrain expens potenti plan like mr artemenko late januari three men associ propos plan converg loew regenc luxuri hotel park avenu manhattan busi deal made lobbi furnish leather couch martini restaur bar privat confer room upper floor mr cohen live two block street trump park avenu lawyer join trump organ special counsel work mani deal includ tower republ georgia mix martial art ventur star russian fighter consid loyal lieuten mr trump trust fix difficult problem f b review unverifi dossier compil former british intellig agent fund mr trump polit oppon claim mr cohen met russian repres pragu presidenti campaign discuss russia hack democrat target russian offici name report told new york time never met mr cohen mr cohen insist never visit pragu dossier assert fabric mr manafort also investig f b connect russia ukrain mr cohen person connect ukrain marri ukrainian woman work rel establish ethanol busi mr artemenko tall burli arriv manhattan hotel visit washington wife said met first ladi melania trump year ago model career tri meet mr trump attend inaugur visit congress post facebook admir mr trump talk peac plan meet american lawmak enter parliament year former ukrainian presid viktor yanukovych fled moscow amid protest econom align russia corrupt mr manafort instrument get mr yanukovych elect help shape polit bloc sprang oppos new presid mr poroshenko wealthi businessman taken far tougher stanc toward russia accus mr putin want absorb ukrain new russian empir mr artemenko emerg opposit mr manafort nurtur two men never met mr artemenko said enter polit mr artemenko busi ventur middl east real estat deal miami area work agent repres top ukrainian athlet colleagu parliament describ corrupt untrustworthi simpli insignific appear amass consider wealth fashion imag mr trump present ukrain answer rise class nationalist leader west even travel cleveland last summer republican nation convent seiz chanc meet member mr trump campaign time new leader new approach govern countri new principl new negoti intern polit wrote facebook jan time come mr artemenko said saw mr trump opportun advoc plan peac ukrain help advanc polit career essenti plan would requir withdraw russian forc eastern ukrain ukrainian voter would decid referendum whether crimea ukrainian territori seiz russia would leas russia term year ukrainian ambassador mr chali reject leas kind gross violat constitut said written answer question time idea pitch push openli covertli repres russian interest reaction suggest mr artemenko project also includ dissemin kompromat compromis materi purportedli show mr poroshenko closest associ corrupt new govern presum one less hostil russia might take plan mr sater longtim busi associ mr trump connect russia will help mr artemenko propos reach white hous mr trump sought distanc mr sater recent year mr sater sit room right mr trump said deposit realli know look like mr sater work real estat develop deal trump organ least decad even role stock manipul scheme came light mr sater born soviet union grew new york serv execut firm call bayrock group two floor trump organ trump tower later senior advis mr trump said work plan trump tower moscow russian real estat develop recent fall one said come halt mr trump presidenti campaign mr cohen said trump organ receiv letter intent project moscow russian real estat develop time determin project feasibl mr artemenko said mutual friend put touch mr sater help advanc propos mr sater said made sens want stop war number one said number two absolut believ u russia need alli enemi could achiev one stroke would home run speak mr sater mr artemenko person mr cohen said would deliv plan white hous mr cohen said know russian govern offer encourag mr artemenko claim understood promis proof corrupt ukrainian presid fraud never good right mr cohen said said mr sater given written propos seal envelop mr cohen met mr trump oval offic earli februari said left propos mr flynn offic mr cohen said wait respons mr flynn forc post mr cohen mr sater mr artemenko hope new nation secur advis take caus friday presid wrote twitter four new candid job\n"
          ]
        }
      ],
      "source": [
        "print(corpus[7])"
      ]
    },
    {
      "cell_type": "code",
      "execution_count": 19,
      "id": "f3787e06-4bf3-4005-badc-53a0d8474523",
      "metadata": {
        "id": "f3787e06-4bf3-4005-badc-53a0d8474523"
      },
      "outputs": [],
      "source": [
        "# Tfidf Vectorizer\n",
        "from sklearn.feature_extraction.text import TfidfVectorizer\n",
        "tfidf_vect = TfidfVectorizer(max_features=5000,ngram_range=(1,3))\n",
        "X = tfidf_vect.fit_transform(corpus).toarray()"
      ]
    },
    {
      "cell_type": "markdown",
      "source": [
        "**max_features=5000:**\n",
        "\n",
        "- This limits the vocabulary to the top 5000 most frequent words/phrases across your corpus.\n",
        "\n",
        "- It helps reduce dimensionality and remove less informative words.\n",
        "\n",
        "**ngram_range=(1, 3):**\n",
        "\n",
        "- This tells the vectorizer to consider:\n",
        "\n",
        "    - Unigrams (single words),\n",
        "\n",
        "    - Bigrams (two-word phrases),\n",
        "\n",
        "    - Trigrams (three-word phrases).\n",
        "\n",
        "- Example: \"machine learning is fun\" will generate:\n",
        "\n",
        "    - Unigrams: [\"machine\", \"learning\", \"is\", \"fun\"]\n",
        "\n",
        "    - Bigrams: [\"machine learning\", \"learning is\", \"is fun\"]\n",
        "\n",
        "    - Trigrams: [\"machine learning is\", \"learning is fun\"]"
      ],
      "metadata": {
        "id": "pI7tXZg7Zweh"
      },
      "id": "pI7tXZg7Zweh"
    },
    {
      "cell_type": "code",
      "execution_count": 20,
      "id": "e5354803-0a90-4a38-be86-f9097facd832",
      "metadata": {
        "id": "e5354803-0a90-4a38-be86-f9097facd832",
        "colab": {
          "base_uri": "https://localhost:8080/"
        },
        "outputId": "1c0cc4c4-e3a6-47c5-c3a2-e0a9cac7a9fa"
      },
      "outputs": [
        {
          "output_type": "execute_result",
          "data": {
            "text/plain": [
              "(18285, 5000)"
            ]
          },
          "metadata": {},
          "execution_count": 20
        }
      ],
      "source": [
        "X.shape"
      ]
    },
    {
      "cell_type": "code",
      "execution_count": 21,
      "id": "bdc36e56-b482-4d27-b7b0-bb9042bb6c6d",
      "metadata": {
        "id": "bdc36e56-b482-4d27-b7b0-bb9042bb6c6d"
      },
      "outputs": [],
      "source": [
        "y = mess['label']"
      ]
    },
    {
      "cell_type": "code",
      "execution_count": 22,
      "id": "3ffeb23c-30d7-4739-993d-0e0d2279a99e",
      "metadata": {
        "id": "3ffeb23c-30d7-4739-993d-0e0d2279a99e"
      },
      "outputs": [],
      "source": [
        "# Split the dataset into Train and Testtfidf_v.get_feature_names()[:20]\n",
        "from sklearn.model_selection import train_test_split\n",
        "X_train, X_test, y_train, y_test = train_test_split(X, y, test_size=0.35, random_state=42)"
      ]
    },
    {
      "cell_type": "code",
      "execution_count": 23,
      "id": "da551a4e-3edd-4b07-a552-837543ae0abe",
      "metadata": {
        "id": "da551a4e-3edd-4b07-a552-837543ae0abe",
        "colab": {
          "base_uri": "https://localhost:8080/"
        },
        "outputId": "088df9fc-8b3f-4b9f-fae2-c22f5b85e1c0"
      },
      "outputs": [
        {
          "output_type": "execute_result",
          "data": {
            "text/plain": [
              "array(['aaron', 'abandon', 'abc', 'abe', 'abedin', 'abil', 'abl', 'abort',\n",
              "       'abroad', 'absenc', 'absolut', 'absorb', 'absurd', 'abu', 'abus',\n",
              "       'academ', 'academi', 'acceler', 'accept', 'access'], dtype=object)"
            ]
          },
          "metadata": {},
          "execution_count": 23
        }
      ],
      "source": [
        "tfidf_vect.get_feature_names_out()[:20]\n",
        "\n",
        "# cv.get_feature_names()[:20]  # See all features name by ngram_range=(1,3) (old code)\n",
        "tfidf_vect.get_feature_names_out()[:20]  # first 20 features (words or n-grams) selected by your CountVectorizer"
      ]
    },
    {
      "cell_type": "code",
      "execution_count": 24,
      "id": "02fc0b06-8d67-4e65-8f7a-e84a29c1c8af",
      "metadata": {
        "id": "02fc0b06-8d67-4e65-8f7a-e84a29c1c8af",
        "colab": {
          "base_uri": "https://localhost:8080/"
        },
        "outputId": "9a448986-0a33-4dea-d638-c47dd9c84494"
      },
      "outputs": [
        {
          "output_type": "execute_result",
          "data": {
            "text/plain": [
              "{'analyzer': 'word',\n",
              " 'binary': False,\n",
              " 'decode_error': 'strict',\n",
              " 'dtype': numpy.float64,\n",
              " 'encoding': 'utf-8',\n",
              " 'input': 'content',\n",
              " 'lowercase': True,\n",
              " 'max_df': 1.0,\n",
              " 'max_features': 5000,\n",
              " 'min_df': 1,\n",
              " 'ngram_range': (1, 3),\n",
              " 'norm': 'l2',\n",
              " 'preprocessor': None,\n",
              " 'smooth_idf': True,\n",
              " 'stop_words': None,\n",
              " 'strip_accents': None,\n",
              " 'sublinear_tf': False,\n",
              " 'token_pattern': '(?u)\\\\b\\\\w\\\\w+\\\\b',\n",
              " 'tokenizer': None,\n",
              " 'use_idf': True,\n",
              " 'vocabulary': None}"
            ]
          },
          "metadata": {},
          "execution_count": 24
        }
      ],
      "source": [
        "tfidf_vect.get_params()  # Referring to TF-IDF model\n",
        "\n",
        "tfidf_vect.get_params()"
      ]
    },
    {
      "cell_type": "code",
      "execution_count": 25,
      "id": "dbd1b758-9b13-42df-a0e6-209055c0d5a6",
      "metadata": {
        "id": "dbd1b758-9b13-42df-a0e6-209055c0d5a6",
        "colab": {
          "base_uri": "https://localhost:8080/",
          "height": 273
        },
        "outputId": "b1367e66-58c3-4ccf-c6ab-5abaa41473f0"
      },
      "outputs": [
        {
          "output_type": "execute_result",
          "data": {
            "text/plain": [
              "   aaron   abandon  abc  abe    abedin  abil       abl     abort  abroad  \\\n",
              "0    0.0  0.000000  0.0  0.0  0.352456   0.0  0.000000  0.000000     0.0   \n",
              "1    0.0  0.028579  0.0  0.0  0.000000   0.0  0.000000  0.000000     0.0   \n",
              "2    0.0  0.000000  0.0  0.0  0.000000   0.0  0.031809  0.131646     0.0   \n",
              "3    0.0  0.000000  0.0  0.0  0.000000   0.0  0.000000  0.000000     0.0   \n",
              "4    0.0  0.000000  0.0  0.0  0.000000   0.0  0.000000  0.000000     0.0   \n",
              "\n",
              "   absenc  ...     young  young peopl   younger     youth    youtub  zero  \\\n",
              "0     0.0  ...  0.000000          0.0  0.000000  0.000000  0.000000   0.0   \n",
              "1     0.0  ...  0.021028          0.0  0.000000  0.062242  0.000000   0.0   \n",
              "2     0.0  ...  0.000000          0.0  0.000000  0.000000  0.000000   0.0   \n",
              "3     0.0  ...  0.000000          0.0  0.051598  0.000000  0.051401   0.0   \n",
              "4     0.0  ...  0.000000          0.0  0.000000  0.000000  0.000000   0.0   \n",
              "\n",
              "   zika  zionist      zone   zu  \n",
              "0   0.0      0.0  0.000000  0.0  \n",
              "1   0.0      0.0  0.028616  0.0  \n",
              "2   0.0      0.0  0.000000  0.0  \n",
              "3   0.0      0.0  0.000000  0.0  \n",
              "4   0.0      0.0  0.000000  0.0  \n",
              "\n",
              "[5 rows x 5000 columns]"
            ],
            "text/html": [
              "\n",
              "  <div id=\"df-1a27e7c1-b628-4848-9b36-73d1d0ef623c\" class=\"colab-df-container\">\n",
              "    <div>\n",
              "<style scoped>\n",
              "    .dataframe tbody tr th:only-of-type {\n",
              "        vertical-align: middle;\n",
              "    }\n",
              "\n",
              "    .dataframe tbody tr th {\n",
              "        vertical-align: top;\n",
              "    }\n",
              "\n",
              "    .dataframe thead th {\n",
              "        text-align: right;\n",
              "    }\n",
              "</style>\n",
              "<table border=\"1\" class=\"dataframe\">\n",
              "  <thead>\n",
              "    <tr style=\"text-align: right;\">\n",
              "      <th></th>\n",
              "      <th>aaron</th>\n",
              "      <th>abandon</th>\n",
              "      <th>abc</th>\n",
              "      <th>abe</th>\n",
              "      <th>abedin</th>\n",
              "      <th>abil</th>\n",
              "      <th>abl</th>\n",
              "      <th>abort</th>\n",
              "      <th>abroad</th>\n",
              "      <th>absenc</th>\n",
              "      <th>...</th>\n",
              "      <th>young</th>\n",
              "      <th>young peopl</th>\n",
              "      <th>younger</th>\n",
              "      <th>youth</th>\n",
              "      <th>youtub</th>\n",
              "      <th>zero</th>\n",
              "      <th>zika</th>\n",
              "      <th>zionist</th>\n",
              "      <th>zone</th>\n",
              "      <th>zu</th>\n",
              "    </tr>\n",
              "  </thead>\n",
              "  <tbody>\n",
              "    <tr>\n",
              "      <th>0</th>\n",
              "      <td>0.0</td>\n",
              "      <td>0.000000</td>\n",
              "      <td>0.0</td>\n",
              "      <td>0.0</td>\n",
              "      <td>0.352456</td>\n",
              "      <td>0.0</td>\n",
              "      <td>0.000000</td>\n",
              "      <td>0.000000</td>\n",
              "      <td>0.0</td>\n",
              "      <td>0.0</td>\n",
              "      <td>...</td>\n",
              "      <td>0.000000</td>\n",
              "      <td>0.0</td>\n",
              "      <td>0.000000</td>\n",
              "      <td>0.000000</td>\n",
              "      <td>0.000000</td>\n",
              "      <td>0.0</td>\n",
              "      <td>0.0</td>\n",
              "      <td>0.0</td>\n",
              "      <td>0.000000</td>\n",
              "      <td>0.0</td>\n",
              "    </tr>\n",
              "    <tr>\n",
              "      <th>1</th>\n",
              "      <td>0.0</td>\n",
              "      <td>0.028579</td>\n",
              "      <td>0.0</td>\n",
              "      <td>0.0</td>\n",
              "      <td>0.000000</td>\n",
              "      <td>0.0</td>\n",
              "      <td>0.000000</td>\n",
              "      <td>0.000000</td>\n",
              "      <td>0.0</td>\n",
              "      <td>0.0</td>\n",
              "      <td>...</td>\n",
              "      <td>0.021028</td>\n",
              "      <td>0.0</td>\n",
              "      <td>0.000000</td>\n",
              "      <td>0.062242</td>\n",
              "      <td>0.000000</td>\n",
              "      <td>0.0</td>\n",
              "      <td>0.0</td>\n",
              "      <td>0.0</td>\n",
              "      <td>0.028616</td>\n",
              "      <td>0.0</td>\n",
              "    </tr>\n",
              "    <tr>\n",
              "      <th>2</th>\n",
              "      <td>0.0</td>\n",
              "      <td>0.000000</td>\n",
              "      <td>0.0</td>\n",
              "      <td>0.0</td>\n",
              "      <td>0.000000</td>\n",
              "      <td>0.0</td>\n",
              "      <td>0.031809</td>\n",
              "      <td>0.131646</td>\n",
              "      <td>0.0</td>\n",
              "      <td>0.0</td>\n",
              "      <td>...</td>\n",
              "      <td>0.000000</td>\n",
              "      <td>0.0</td>\n",
              "      <td>0.000000</td>\n",
              "      <td>0.000000</td>\n",
              "      <td>0.000000</td>\n",
              "      <td>0.0</td>\n",
              "      <td>0.0</td>\n",
              "      <td>0.0</td>\n",
              "      <td>0.000000</td>\n",
              "      <td>0.0</td>\n",
              "    </tr>\n",
              "    <tr>\n",
              "      <th>3</th>\n",
              "      <td>0.0</td>\n",
              "      <td>0.000000</td>\n",
              "      <td>0.0</td>\n",
              "      <td>0.0</td>\n",
              "      <td>0.000000</td>\n",
              "      <td>0.0</td>\n",
              "      <td>0.000000</td>\n",
              "      <td>0.000000</td>\n",
              "      <td>0.0</td>\n",
              "      <td>0.0</td>\n",
              "      <td>...</td>\n",
              "      <td>0.000000</td>\n",
              "      <td>0.0</td>\n",
              "      <td>0.051598</td>\n",
              "      <td>0.000000</td>\n",
              "      <td>0.051401</td>\n",
              "      <td>0.0</td>\n",
              "      <td>0.0</td>\n",
              "      <td>0.0</td>\n",
              "      <td>0.000000</td>\n",
              "      <td>0.0</td>\n",
              "    </tr>\n",
              "    <tr>\n",
              "      <th>4</th>\n",
              "      <td>0.0</td>\n",
              "      <td>0.000000</td>\n",
              "      <td>0.0</td>\n",
              "      <td>0.0</td>\n",
              "      <td>0.000000</td>\n",
              "      <td>0.0</td>\n",
              "      <td>0.000000</td>\n",
              "      <td>0.000000</td>\n",
              "      <td>0.0</td>\n",
              "      <td>0.0</td>\n",
              "      <td>...</td>\n",
              "      <td>0.000000</td>\n",
              "      <td>0.0</td>\n",
              "      <td>0.000000</td>\n",
              "      <td>0.000000</td>\n",
              "      <td>0.000000</td>\n",
              "      <td>0.0</td>\n",
              "      <td>0.0</td>\n",
              "      <td>0.0</td>\n",
              "      <td>0.000000</td>\n",
              "      <td>0.0</td>\n",
              "    </tr>\n",
              "  </tbody>\n",
              "</table>\n",
              "<p>5 rows × 5000 columns</p>\n",
              "</div>\n",
              "    <div class=\"colab-df-buttons\">\n",
              "\n",
              "  <div class=\"colab-df-container\">\n",
              "    <button class=\"colab-df-convert\" onclick=\"convertToInteractive('df-1a27e7c1-b628-4848-9b36-73d1d0ef623c')\"\n",
              "            title=\"Convert this dataframe to an interactive table.\"\n",
              "            style=\"display:none;\">\n",
              "\n",
              "  <svg xmlns=\"http://www.w3.org/2000/svg\" height=\"24px\" viewBox=\"0 -960 960 960\">\n",
              "    <path d=\"M120-120v-720h720v720H120Zm60-500h600v-160H180v160Zm220 220h160v-160H400v160Zm0 220h160v-160H400v160ZM180-400h160v-160H180v160Zm440 0h160v-160H620v160ZM180-180h160v-160H180v160Zm440 0h160v-160H620v160Z\"/>\n",
              "  </svg>\n",
              "    </button>\n",
              "\n",
              "  <style>\n",
              "    .colab-df-container {\n",
              "      display:flex;\n",
              "      gap: 12px;\n",
              "    }\n",
              "\n",
              "    .colab-df-convert {\n",
              "      background-color: #E8F0FE;\n",
              "      border: none;\n",
              "      border-radius: 50%;\n",
              "      cursor: pointer;\n",
              "      display: none;\n",
              "      fill: #1967D2;\n",
              "      height: 32px;\n",
              "      padding: 0 0 0 0;\n",
              "      width: 32px;\n",
              "    }\n",
              "\n",
              "    .colab-df-convert:hover {\n",
              "      background-color: #E2EBFA;\n",
              "      box-shadow: 0px 1px 2px rgba(60, 64, 67, 0.3), 0px 1px 3px 1px rgba(60, 64, 67, 0.15);\n",
              "      fill: #174EA6;\n",
              "    }\n",
              "\n",
              "    .colab-df-buttons div {\n",
              "      margin-bottom: 4px;\n",
              "    }\n",
              "\n",
              "    [theme=dark] .colab-df-convert {\n",
              "      background-color: #3B4455;\n",
              "      fill: #D2E3FC;\n",
              "    }\n",
              "\n",
              "    [theme=dark] .colab-df-convert:hover {\n",
              "      background-color: #434B5C;\n",
              "      box-shadow: 0px 1px 3px 1px rgba(0, 0, 0, 0.15);\n",
              "      filter: drop-shadow(0px 1px 2px rgba(0, 0, 0, 0.3));\n",
              "      fill: #FFFFFF;\n",
              "    }\n",
              "  </style>\n",
              "\n",
              "    <script>\n",
              "      const buttonEl =\n",
              "        document.querySelector('#df-1a27e7c1-b628-4848-9b36-73d1d0ef623c button.colab-df-convert');\n",
              "      buttonEl.style.display =\n",
              "        google.colab.kernel.accessAllowed ? 'block' : 'none';\n",
              "\n",
              "      async function convertToInteractive(key) {\n",
              "        const element = document.querySelector('#df-1a27e7c1-b628-4848-9b36-73d1d0ef623c');\n",
              "        const dataTable =\n",
              "          await google.colab.kernel.invokeFunction('convertToInteractive',\n",
              "                                                    [key], {});\n",
              "        if (!dataTable) return;\n",
              "\n",
              "        const docLinkHtml = 'Like what you see? Visit the ' +\n",
              "          '<a target=\"_blank\" href=https://colab.research.google.com/notebooks/data_table.ipynb>data table notebook</a>'\n",
              "          + ' to learn more about interactive tables.';\n",
              "        element.innerHTML = '';\n",
              "        dataTable['output_type'] = 'display_data';\n",
              "        await google.colab.output.renderOutput(dataTable, element);\n",
              "        const docLink = document.createElement('div');\n",
              "        docLink.innerHTML = docLinkHtml;\n",
              "        element.appendChild(docLink);\n",
              "      }\n",
              "    </script>\n",
              "  </div>\n",
              "\n",
              "\n",
              "    <div id=\"df-5e0a5558-022c-4726-a169-b0679bdaf22f\">\n",
              "      <button class=\"colab-df-quickchart\" onclick=\"quickchart('df-5e0a5558-022c-4726-a169-b0679bdaf22f')\"\n",
              "                title=\"Suggest charts\"\n",
              "                style=\"display:none;\">\n",
              "\n",
              "<svg xmlns=\"http://www.w3.org/2000/svg\" height=\"24px\"viewBox=\"0 0 24 24\"\n",
              "     width=\"24px\">\n",
              "    <g>\n",
              "        <path d=\"M19 3H5c-1.1 0-2 .9-2 2v14c0 1.1.9 2 2 2h14c1.1 0 2-.9 2-2V5c0-1.1-.9-2-2-2zM9 17H7v-7h2v7zm4 0h-2V7h2v10zm4 0h-2v-4h2v4z\"/>\n",
              "    </g>\n",
              "</svg>\n",
              "      </button>\n",
              "\n",
              "<style>\n",
              "  .colab-df-quickchart {\n",
              "      --bg-color: #E8F0FE;\n",
              "      --fill-color: #1967D2;\n",
              "      --hover-bg-color: #E2EBFA;\n",
              "      --hover-fill-color: #174EA6;\n",
              "      --disabled-fill-color: #AAA;\n",
              "      --disabled-bg-color: #DDD;\n",
              "  }\n",
              "\n",
              "  [theme=dark] .colab-df-quickchart {\n",
              "      --bg-color: #3B4455;\n",
              "      --fill-color: #D2E3FC;\n",
              "      --hover-bg-color: #434B5C;\n",
              "      --hover-fill-color: #FFFFFF;\n",
              "      --disabled-bg-color: #3B4455;\n",
              "      --disabled-fill-color: #666;\n",
              "  }\n",
              "\n",
              "  .colab-df-quickchart {\n",
              "    background-color: var(--bg-color);\n",
              "    border: none;\n",
              "    border-radius: 50%;\n",
              "    cursor: pointer;\n",
              "    display: none;\n",
              "    fill: var(--fill-color);\n",
              "    height: 32px;\n",
              "    padding: 0;\n",
              "    width: 32px;\n",
              "  }\n",
              "\n",
              "  .colab-df-quickchart:hover {\n",
              "    background-color: var(--hover-bg-color);\n",
              "    box-shadow: 0 1px 2px rgba(60, 64, 67, 0.3), 0 1px 3px 1px rgba(60, 64, 67, 0.15);\n",
              "    fill: var(--button-hover-fill-color);\n",
              "  }\n",
              "\n",
              "  .colab-df-quickchart-complete:disabled,\n",
              "  .colab-df-quickchart-complete:disabled:hover {\n",
              "    background-color: var(--disabled-bg-color);\n",
              "    fill: var(--disabled-fill-color);\n",
              "    box-shadow: none;\n",
              "  }\n",
              "\n",
              "  .colab-df-spinner {\n",
              "    border: 2px solid var(--fill-color);\n",
              "    border-color: transparent;\n",
              "    border-bottom-color: var(--fill-color);\n",
              "    animation:\n",
              "      spin 1s steps(1) infinite;\n",
              "  }\n",
              "\n",
              "  @keyframes spin {\n",
              "    0% {\n",
              "      border-color: transparent;\n",
              "      border-bottom-color: var(--fill-color);\n",
              "      border-left-color: var(--fill-color);\n",
              "    }\n",
              "    20% {\n",
              "      border-color: transparent;\n",
              "      border-left-color: var(--fill-color);\n",
              "      border-top-color: var(--fill-color);\n",
              "    }\n",
              "    30% {\n",
              "      border-color: transparent;\n",
              "      border-left-color: var(--fill-color);\n",
              "      border-top-color: var(--fill-color);\n",
              "      border-right-color: var(--fill-color);\n",
              "    }\n",
              "    40% {\n",
              "      border-color: transparent;\n",
              "      border-right-color: var(--fill-color);\n",
              "      border-top-color: var(--fill-color);\n",
              "    }\n",
              "    60% {\n",
              "      border-color: transparent;\n",
              "      border-right-color: var(--fill-color);\n",
              "    }\n",
              "    80% {\n",
              "      border-color: transparent;\n",
              "      border-right-color: var(--fill-color);\n",
              "      border-bottom-color: var(--fill-color);\n",
              "    }\n",
              "    90% {\n",
              "      border-color: transparent;\n",
              "      border-bottom-color: var(--fill-color);\n",
              "    }\n",
              "  }\n",
              "</style>\n",
              "\n",
              "      <script>\n",
              "        async function quickchart(key) {\n",
              "          const quickchartButtonEl =\n",
              "            document.querySelector('#' + key + ' button');\n",
              "          quickchartButtonEl.disabled = true;  // To prevent multiple clicks.\n",
              "          quickchartButtonEl.classList.add('colab-df-spinner');\n",
              "          try {\n",
              "            const charts = await google.colab.kernel.invokeFunction(\n",
              "                'suggestCharts', [key], {});\n",
              "          } catch (error) {\n",
              "            console.error('Error during call to suggestCharts:', error);\n",
              "          }\n",
              "          quickchartButtonEl.classList.remove('colab-df-spinner');\n",
              "          quickchartButtonEl.classList.add('colab-df-quickchart-complete');\n",
              "        }\n",
              "        (() => {\n",
              "          let quickchartButtonEl =\n",
              "            document.querySelector('#df-5e0a5558-022c-4726-a169-b0679bdaf22f button');\n",
              "          quickchartButtonEl.style.display =\n",
              "            google.colab.kernel.accessAllowed ? 'block' : 'none';\n",
              "        })();\n",
              "      </script>\n",
              "    </div>\n",
              "\n",
              "    </div>\n",
              "  </div>\n"
            ],
            "application/vnd.google.colaboratory.intrinsic+json": {
              "type": "dataframe",
              "variable_name": "count_df"
            }
          },
          "metadata": {},
          "execution_count": 25
        }
      ],
      "source": [
        "count_df = pd.DataFrame(X_train, columns=tfidf_vect.get_feature_names_out())\n",
        "\n",
        "count_df.head()"
      ]
    },
    {
      "cell_type": "code",
      "execution_count": 26,
      "id": "6a228732-c26d-4f06-8c2f-93257256e74a",
      "metadata": {
        "id": "6a228732-c26d-4f06-8c2f-93257256e74a"
      },
      "outputs": [],
      "source": [
        "import matplotlib.pyplot as plt\n",
        "\n",
        "def plot_confusion_matrix(cm, classes,\n",
        "                          normalize=False,\n",
        "                          title='Confusion matrix',\n",
        "                          cmap=plt.cm.Blues):\n",
        "    \"\"\"\n",
        "    See full source and example:\n",
        "    http://scikit-learn.org/stable/auto_examples/model_selection/plot_confusion_matrix.html\n",
        "\n",
        "    This function prints and plots the confusion matrix.\n",
        "    Normalization can be applied by setting `normalize=True`.\n",
        "    \"\"\"\n",
        "    plt.imshow(cm, interpolation='nearest', cmap=cmap)\n",
        "    plt.title(title)\n",
        "    plt.colorbar()\n",
        "    tick_marks = np.arange(len(classes))\n",
        "    plt.xticks(tick_marks, classes, rotation=45)\n",
        "    plt.yticks(tick_marks, classes)\n",
        "\n",
        "    if normalize:\n",
        "        cm = cm.astype('float') / cm.sum(axis=1)[:, np.newaxis]\n",
        "        print(\"Normalized confusion matrix\")\n",
        "    else:\n",
        "        print('Confusion matrix, without normalization')\n",
        "\n",
        "    thresh = cm.max() / 2.\n",
        "    for i, j in itertools.product(range(cm.shape[0]), range(cm.shape[1])):\n",
        "        plt.text(j, i, cm[i, j],\n",
        "                 horizontalalignment=\"center\",\n",
        "                 color=\"white\" if cm[i, j] > thresh else \"black\")\n",
        "\n",
        "    plt.tight_layout()\n",
        "    plt.ylabel('True label')\n",
        "    plt.xlabel('Predicted label')"
      ]
    },
    {
      "cell_type": "markdown",
      "source": [
        "**MultinomialNB Algorithm**\n",
        "\n",
        "it works well for text data, and it suppported multiple categories of output"
      ],
      "metadata": {
        "id": "Wz8neMljaE6Z"
      },
      "id": "Wz8neMljaE6Z"
    },
    {
      "cell_type": "code",
      "execution_count": 27,
      "id": "1d6b3638-0219-4e2c-9f0c-df36688e4d54",
      "metadata": {
        "id": "1d6b3638-0219-4e2c-9f0c-df36688e4d54"
      },
      "outputs": [],
      "source": [
        "from sklearn.naive_bayes import MultinomialNB\n",
        "classifier=MultinomialNB()"
      ]
    },
    {
      "cell_type": "code",
      "execution_count": 28,
      "id": "1ddc325c-2bb1-4471-8e97-0380a1e8fab8",
      "metadata": {
        "id": "1ddc325c-2bb1-4471-8e97-0380a1e8fab8"
      },
      "outputs": [],
      "source": [
        "from sklearn import metrics\n",
        "import numpy as np\n",
        "import itertools"
      ]
    },
    {
      "cell_type": "code",
      "execution_count": 29,
      "id": "eafcbe08-4256-4abe-b5d8-f43168803357",
      "metadata": {
        "id": "eafcbe08-4256-4abe-b5d8-f43168803357",
        "colab": {
          "base_uri": "https://localhost:8080/",
          "height": 541
        },
        "outputId": "d4216968-f94d-45fe-e798-2e33565900fd"
      },
      "outputs": [
        {
          "output_type": "stream",
          "name": "stdout",
          "text": [
            "accuracy:   0.899\n",
            "Confusion matrix, without normalization\n"
          ]
        },
        {
          "output_type": "display_data",
          "data": {
            "text/plain": [
              "<Figure size 640x480 with 2 Axes>"
            ],
            "image/png": "[encoded data removed]"
          },
          "metadata": {}
        }
      ],
      "source": [
        "classifier.fit(X_train, y_train)\n",
        "pred = classifier.predict(X_test)\n",
        "score = metrics.accuracy_score(y_test, pred)\n",
        "print(\"accuracy:   %0.3f\" % score)\n",
        "conf_mtrx = metrics.confusion_matrix(y_test, pred)\n",
        "plot_confusion_matrix(conf_mtrx, classes=['FAKE', 'REAL'])"
      ]
    },
    {
      "cell_type": "code",
      "execution_count": 30,
      "id": "7ce27d13-bafb-4640-84c0-733a5e064852",
      "metadata": {
        "id": "7ce27d13-bafb-4640-84c0-733a5e064852",
        "colab": {
          "base_uri": "https://localhost:8080/"
        },
        "outputId": "2dd0bc3c-c4d5-4603-e98a-a6e9f047950d"
      },
      "outputs": [
        {
          "output_type": "execute_result",
          "data": {
            "text/plain": [
              "0.89875"
            ]
          },
          "metadata": {},
          "execution_count": 30
        }
      ],
      "source": [
        "classifier.fit(X_train, y_train)\n",
        "pred = classifier.predict(X_test)\n",
        "acc_score = metrics.accuracy_score(y_test, pred)\n",
        "acc_score"
      ]
    },
    {
      "cell_type": "code",
      "execution_count": 31,
      "id": "c85656e3-5a2c-4ea0-86fb-c6d13b3ccd4e",
      "metadata": {
        "id": "c85656e3-5a2c-4ea0-86fb-c6d13b3ccd4e",
        "colab": {
          "base_uri": "https://localhost:8080/"
        },
        "outputId": "2badb084-cdf4-4a3a-cfdd-a8db83e92333"
      },
      "outputs": [
        {
          "output_type": "execute_result",
          "data": {
            "text/plain": [
              "(11885,)"
            ]
          },
          "metadata": {},
          "execution_count": 31
        }
      ],
      "source": [
        "y_train.shape"
      ]
    },
    {
      "cell_type": "markdown",
      "source": [
        "**Passive Aggressive Classifier Algorithm**\n",
        "\n",
        "it works well with text data"
      ],
      "metadata": {
        "id": "0JvLnx3AaKFm"
      },
      "id": "0JvLnx3AaKFm"
    },
    {
      "cell_type": "code",
      "execution_count": 32,
      "id": "20e518c7-7fea-4a83-acc9-87b77d2857ad",
      "metadata": {
        "id": "20e518c7-7fea-4a83-acc9-87b77d2857ad"
      },
      "outputs": [],
      "source": [
        "from sklearn.linear_model import PassiveAggressiveClassifier\n",
        "linear_clf = PassiveAggressiveClassifier(max_iter=50)  # n_ite (old)"
      ]
    },
    {
      "cell_type": "code",
      "execution_count": 33,
      "id": "45e65729-f9f7-4f86-b1d8-8e0e6c56bf54",
      "metadata": {
        "id": "45e65729-f9f7-4f86-b1d8-8e0e6c56bf54",
        "colab": {
          "base_uri": "https://localhost:8080/",
          "height": 541
        },
        "outputId": "3fe8e831-64c2-480a-b41d-b3fc8315c85d"
      },
      "outputs": [
        {
          "output_type": "stream",
          "name": "stdout",
          "text": [
            "accuracy:   0.953\n",
            "Confusion matrix, without normalization\n"
          ]
        },
        {
          "output_type": "display_data",
          "data": {
            "text/plain": [
              "<Figure size 640x480 with 2 Axes>"
            ],
            "image/png": "[encoded data removed]"
          },
          "metadata": {}
        }
      ],
      "source": [
        "linear_clf.fit(X_train, y_train)\n",
        "pred = linear_clf.predict(X_test)\n",
        "score = metrics.accuracy_score(y_test, pred)\n",
        "print(\"accuracy:   %0.3f\" % score)\n",
        "cm = metrics.confusion_matrix(y_test, pred)\n",
        "plot_confusion_matrix(cm, classes=['FAKE Data', 'REAL Data'])"
      ]
    },
    {
      "cell_type": "markdown",
      "source": [
        "**Multinomial Classifier with Hyperparameter**"
      ],
      "metadata": {
        "id": "WSv6y-H8aOCv"
      },
      "id": "WSv6y-H8aOCv"
    },
    {
      "cell_type": "code",
      "execution_count": 34,
      "id": "6885b9b2-a1fa-45aa-b691-1b9af0008e89",
      "metadata": {
        "id": "6885b9b2-a1fa-45aa-b691-1b9af0008e89"
      },
      "outputs": [],
      "source": [
        "classifier = MultinomialNB(alpha=0.1)"
      ]
    },
    {
      "cell_type": "code",
      "execution_count": 35,
      "id": "93980bad-257d-4095-9715-16fad9a8ff3e",
      "metadata": {
        "id": "93980bad-257d-4095-9715-16fad9a8ff3e",
        "colab": {
          "base_uri": "https://localhost:8080/"
        },
        "outputId": "0f023cf5-f1a7-43de-c02c-715c41fc7e9f"
      },
      "outputs": [
        {
          "output_type": "stream",
          "name": "stderr",
          "text": [
            "/usr/local/lib/python3.11/dist-packages/sklearn/naive_bayes.py:898: RuntimeWarning: divide by zero encountered in log\n",
            "  self.feature_log_prob_ = np.log(smoothed_fc) - np.log(\n",
            "/usr/local/lib/python3.11/dist-packages/sklearn/naive_bayes.py:898: RuntimeWarning: invalid value encountered in subtract\n",
            "  self.feature_log_prob_ = np.log(smoothed_fc) - np.log(\n",
            "/usr/local/lib/python3.11/dist-packages/sklearn/utils/extmath.py:203: RuntimeWarning: invalid value encountered in matmul\n",
            "  ret = a @ b\n"
          ]
        },
        {
          "output_type": "stream",
          "name": "stdout",
          "text": [
            "Alpha: 0.0, Score : 0.0\n",
            "Alpha: 0.1, Score : 0.90140625\n",
            "Alpha: 0.2, Score : 0.90078125\n",
            "Alpha: 0.30000000000000004, Score : 0.9\n",
            "Alpha: 0.4, Score : 0.89984375\n",
            "Alpha: 0.5, Score : 0.89984375\n",
            "Alpha: 0.6000000000000001, Score : 0.899375\n",
            "Alpha: 0.7000000000000001, Score : 0.899375\n",
            "Alpha: 0.8, Score : 0.89953125\n",
            "Alpha: 0.9, Score : 0.899375\n"
          ]
        }
      ],
      "source": [
        "#  looping over values of alpha from 0 to 0.9. For each alpha, training a new model and checking its accuracy.\n",
        "#  keep the best performing classifier.\n",
        "previous_score = 0\n",
        "for alpha in np.arange(0,1,0.1):\n",
        "    sub_classifier = MultinomialNB(alpha=alpha)\n",
        "    sub_classifier.fit(X_train,y_train)\n",
        "    y_pred = sub_classifier.predict(X_test)\n",
        "    score = metrics.accuracy_score(y_test, y_pred)\n",
        "    if score>previous_score:\n",
        "        classifier=sub_classifier\n",
        "    print(\"Alpha: {}, Score : {}\".format(alpha,score))"
      ]
    },
    {
      "cell_type": "code",
      "execution_count": 36,
      "id": "51a1c663-f175-4227-aa02-48644e2ae00e",
      "metadata": {
        "id": "51a1c663-f175-4227-aa02-48644e2ae00e"
      },
      "outputs": [],
      "source": [
        "# Get feature names from CountVectorizer\n",
        "feature_names = tfidf_vect.get_feature_names_out()"
      ]
    },
    {
      "cell_type": "code",
      "execution_count": 37,
      "id": "be1a1d38-bf4e-4e12-a195-acc6698ade40",
      "metadata": {
        "id": "be1a1d38-bf4e-4e12-a195-acc6698ade40",
        "colab": {
          "base_uri": "https://localhost:8080/",
          "height": 141
        },
        "outputId": "ffbf8d7f-89f9-403b-fce7-4537fab6e455"
      },
      "outputs": [
        {
          "output_type": "error",
          "ename": "AttributeError",
          "evalue": "'MultinomialNB' object has no attribute 'coef_'",
          "traceback": [
            "\u001b[0;31m---------------------------------------------------------------------------\u001b[0m",
            "\u001b[0;31mAttributeError\u001b[0m                            Traceback (most recent call last)",
            "\u001b[0;32m<ipython-input-37-ab19518b0478>\u001b[0m in \u001b[0;36m<cell line: 0>\u001b[0;34m()\u001b[0m\n\u001b[0;32m----> 1\u001b[0;31m \u001b[0mclassifier\u001b[0m\u001b[0;34m.\u001b[0m\u001b[0mcoef_\u001b[0m\u001b[0;34m[\u001b[0m\u001b[0;36m0\u001b[0m\u001b[0;34m]\u001b[0m\u001b[0;34m\u001b[0m\u001b[0;34m\u001b[0m\u001b[0m\n\u001b[0m",
            "\u001b[0;31mAttributeError\u001b[0m: 'MultinomialNB' object has no attribute 'coef_'"
          ]
        }
      ],
      "source": [
        "classifier.coef_[0]"
      ]
    },
    {
      "cell_type": "code",
      "execution_count": 38,
      "id": "ee4e79b5-68d9-4eb5-affd-9631a254a276",
      "metadata": {
        "id": "ee4e79b5-68d9-4eb5-affd-9631a254a276",
        "colab": {
          "base_uri": "https://localhost:8080/",
          "height": 158
        },
        "outputId": "0c1bf34d-50ef-4605-890b-9bf9ce79e2e8"
      },
      "outputs": [
        {
          "output_type": "error",
          "ename": "AttributeError",
          "evalue": "'MultinomialNB' object has no attribute 'coef_'",
          "traceback": [
            "\u001b[0;31m---------------------------------------------------------------------------\u001b[0m",
            "\u001b[0;31mAttributeError\u001b[0m                            Traceback (most recent call last)",
            "\u001b[0;32m<ipython-input-38-0796d0bff01a>\u001b[0m in \u001b[0;36m<cell line: 0>\u001b[0;34m()\u001b[0m\n\u001b[1;32m      1\u001b[0m \u001b[0;31m### Most real\u001b[0m\u001b[0;34m\u001b[0m\u001b[0;34m\u001b[0m\u001b[0m\n\u001b[0;32m----> 2\u001b[0;31m \u001b[0msorted\u001b[0m\u001b[0;34m(\u001b[0m\u001b[0mzip\u001b[0m\u001b[0;34m(\u001b[0m\u001b[0mclassifier\u001b[0m\u001b[0;34m.\u001b[0m\u001b[0mcoef_\u001b[0m\u001b[0;34m[\u001b[0m\u001b[0;36m0\u001b[0m\u001b[0;34m]\u001b[0m\u001b[0;34m,\u001b[0m \u001b[0mfeature_names\u001b[0m\u001b[0;34m)\u001b[0m\u001b[0;34m,\u001b[0m \u001b[0mreverse\u001b[0m\u001b[0;34m=\u001b[0m\u001b[0;32mTrue\u001b[0m\u001b[0;34m)\u001b[0m\u001b[0;34m[\u001b[0m\u001b[0;34m:\u001b[0m\u001b[0;36m20\u001b[0m\u001b[0;34m]\u001b[0m\u001b[0;34m\u001b[0m\u001b[0;34m\u001b[0m\u001b[0m\n\u001b[0m",
            "\u001b[0;31mAttributeError\u001b[0m: 'MultinomialNB' object has no attribute 'coef_'"
          ]
        }
      ],
      "source": [
        "### Most real\n",
        "sorted(zip(classifier.coef_[0], feature_names), reverse=True)[:20]"
      ]
    },
    {
      "cell_type": "code",
      "execution_count": 39,
      "id": "c71e2a4e-abcd-472d-820e-0a55167ff9cf",
      "metadata": {
        "id": "c71e2a4e-abcd-472d-820e-0a55167ff9cf",
        "colab": {
          "base_uri": "https://localhost:8080/",
          "height": 158
        },
        "outputId": "8e0cf19e-e2ef-422f-c077-4cc4845d6596"
      },
      "outputs": [
        {
          "output_type": "error",
          "ename": "AttributeError",
          "evalue": "'MultinomialNB' object has no attribute 'coef_'",
          "traceback": [
            "\u001b[0;31m---------------------------------------------------------------------------\u001b[0m",
            "\u001b[0;31mAttributeError\u001b[0m                            Traceback (most recent call last)",
            "\u001b[0;32m<ipython-input-39-08808031fbb1>\u001b[0m in \u001b[0;36m<cell line: 0>\u001b[0;34m()\u001b[0m\n\u001b[1;32m      1\u001b[0m \u001b[0;31m### Most fake\u001b[0m\u001b[0;34m\u001b[0m\u001b[0;34m\u001b[0m\u001b[0m\n\u001b[0;32m----> 2\u001b[0;31m \u001b[0msorted\u001b[0m\u001b[0;34m(\u001b[0m\u001b[0mzip\u001b[0m\u001b[0;34m(\u001b[0m\u001b[0mclassifier\u001b[0m\u001b[0;34m.\u001b[0m\u001b[0mcoef_\u001b[0m\u001b[0;34m[\u001b[0m\u001b[0;36m0\u001b[0m\u001b[0;34m]\u001b[0m\u001b[0;34m,\u001b[0m \u001b[0mfeature_names\u001b[0m\u001b[0;34m)\u001b[0m\u001b[0;34m)\u001b[0m\u001b[0;34m[\u001b[0m\u001b[0;34m:\u001b[0m\u001b[0;36m5000\u001b[0m\u001b[0;34m]\u001b[0m\u001b[0;34m\u001b[0m\u001b[0;34m\u001b[0m\u001b[0m\n\u001b[0m",
            "\u001b[0;31mAttributeError\u001b[0m: 'MultinomialNB' object has no attribute 'coef_'"
          ]
        }
      ],
      "source": [
        "### Most fake\n",
        "sorted(zip(classifier.coef_[0], feature_names))[:5000]"
      ]
    },
    {
      "cell_type": "markdown",
      "source": [
        "### Why **classifier.coef_** sometimes works with **MultinomialNB**\n",
        "Normally, **MultinomialNB** from **sklearn.naive_bayes** does not document **coef_** as a public attribute.\n",
        "\n",
        "However, **coef_** is a hidden alias for **feature_log_prob_** that:\n",
        "\n",
        "- only exists if your data has 2 classes\n",
        "\n",
        "- is created for consistency with other scikit-learn classifiers (like LogisticRegression)\n",
        "\n",
        "- is sometimes removed in future versions, so it might break even if it works now\n",
        "\n",
        "So when your guide code uses **classifier.coef_**, it works **only because**:\n",
        "\n",
        "- You're doing binary classification\n",
        "\n",
        "- You're using a version of scikit-learn that still exposes **coef_** as an alias\n",
        "\n",
        "### **Official and Safer Alternative**\n",
        "**Use this (official and stable):**\n",
        "\n",
        "classifier.feature_log_prob_[0]\n",
        "\n",
        "**Or to get the feature importance difference between classes:**\n",
        "\n",
        "classifier.feature_log_prob_[1] - classifier.feature_log_prob_[0]\n"
      ],
      "metadata": {
        "id": "TVrzHeqCargX"
      },
      "id": "TVrzHeqCargX"
    },
    {
      "cell_type": "code",
      "execution_count": 40,
      "id": "2be31f33-5424-4b28-8a8e-5972746c694b",
      "metadata": {
        "id": "2be31f33-5424-4b28-8a8e-5972746c694b",
        "colab": {
          "base_uri": "https://localhost:8080/"
        },
        "outputId": "450aeaac-1860-45ae-fd42-ee01b5868c45"
      },
      "outputs": [
        {
          "output_type": "execute_result",
          "data": {
            "text/plain": [
              "array([-8.51719319, -8.51719319, -8.51719319, ..., -8.51719319,\n",
              "       -8.51719319, -8.51719319])"
            ]
          },
          "metadata": {},
          "execution_count": 40
        }
      ],
      "source": [
        "# Use feature_log_prob_ instead of coef_\n",
        "classifier.feature_log_prob_[0]"
      ]
    },
    {
      "cell_type": "code",
      "execution_count": 41,
      "id": "6d659ead-bbad-4af9-b4bc-0941c25c521d",
      "metadata": {
        "id": "6d659ead-bbad-4af9-b4bc-0941c25c521d",
        "colab": {
          "base_uri": "https://localhost:8080/"
        },
        "outputId": "c4853484-8dcc-4620-9a7a-979587d53bf6"
      },
      "outputs": [
        {
          "output_type": "execute_result",
          "data": {
            "text/plain": [
              "array([-0.66552651, -0.33059194,  0.05046758, ..., -1.65113945,\n",
              "       -0.25746082, -2.78879426])"
            ]
          },
          "metadata": {},
          "execution_count": 41
        }
      ],
      "source": [
        "# feature importance difference between classes\n",
        "classifier.feature_log_prob_[1] - classifier.feature_log_prob_[0]"
      ]
    },
    {
      "cell_type": "code",
      "execution_count": 42,
      "id": "9a3335b2-47fb-4266-9a31-9994769b0547",
      "metadata": {
        "id": "9a3335b2-47fb-4266-9a31-9994769b0547"
      },
      "outputs": [],
      "source": [
        "# Use feature_log_prob_ to get real_class_features\n",
        "real_class_features = classifier.feature_log_prob_[1]"
      ]
    },
    {
      "cell_type": "code",
      "execution_count": 43,
      "id": "5b70c694-2795-4f2c-ab6a-2fb32a4c272e",
      "metadata": {
        "id": "5b70c694-2795-4f2c-ab6a-2fb32a4c272e"
      },
      "outputs": [],
      "source": [
        "# Use feature_log_prob_ to get fake_class_features\n",
        "fake_class_features = classifier.feature_log_prob_[0]"
      ]
    },
    {
      "cell_type": "code",
      "execution_count": 44,
      "id": "7fa4067a-c87b-43fb-bbff-b037eff834ba",
      "metadata": {
        "id": "7fa4067a-c87b-43fb-bbff-b037eff834ba",
        "colab": {
          "base_uri": "https://localhost:8080/"
        },
        "outputId": "be737b05-bb35-473d-9fa2-b934ee03fe83"
      },
      "outputs": [
        {
          "output_type": "stream",
          "name": "stdout",
          "text": [
            "Most Real News Features:\n",
            "\n",
            "mr: -4.8700\n",
            "said: -5.1418\n",
            "trump: -5.4246\n",
            "mr trump: -5.9170\n",
            "presid: -6.0349\n",
            "state: -6.0620\n",
            "would: -6.1844\n",
            "ms: -6.1876\n",
            "year: -6.1959\n",
            "one: -6.2035\n",
            "peopl: -6.2072\n",
            "new: -6.2125\n",
            "time: -6.2993\n",
            "like: -6.3292\n",
            "report: -6.4159\n",
            "also: -6.4897\n",
            "american: -6.5381\n",
            "say: -6.5402\n",
            "news: -6.5427\n",
            "hous: -6.5631\n"
          ]
        }
      ],
      "source": [
        "# Get most indicative features for REAL news\n",
        "most_real = sorted(zip(real_class_features, feature_names), reverse=True)[:20]\n",
        "print(\"Most Real News Features:\\n\")\n",
        "for score, word in most_real:\n",
        "    print(f\"{word}: {score:.4f}\")"
      ]
    },
    {
      "cell_type": "code",
      "execution_count": 45,
      "id": "02f8442e-79dd-4670-bb92-fe303559b062",
      "metadata": {
        "id": "02f8442e-79dd-4670-bb92-fe303559b062",
        "colab": {
          "base_uri": "https://localhost:8080/"
        },
        "outputId": "492b1aa4-4c93-4965-cc6d-668e8e4c9daf"
      },
      "outputs": [
        {
          "output_type": "stream",
          "name": "stdout",
          "text": [
            "\n",
            "Most Fake News Features:\n",
            "\n",
            "zu: -8.5172\n",
            "zone: -8.5172\n",
            "zionist: -8.5172\n",
            "zika: -8.5172\n",
            "zero: -8.5172\n",
            "youtub: -8.5172\n",
            "youth: -8.5172\n",
            "younger: -8.5172\n",
            "young peopl: -8.5172\n",
            "young: -8.5172\n",
            "yorker: -8.5172\n",
            "york time: -8.5172\n",
            "york citi: -8.5172\n",
            "york: -8.5172\n",
            "yield: -8.5172\n",
            "yiannopoulo: -8.5172\n",
            "yet anoth: -8.5172\n",
            "yet: -8.5172\n",
            "yesterday: -8.5172\n",
            "yemen: -8.5172\n"
          ]
        }
      ],
      "source": [
        "# Get most indicative features for FAKE news\n",
        "most_fake = sorted(zip(fake_class_features, feature_names), reverse=True)[:20]\n",
        "print(\"\\nMost Fake News Features:\\n\")\n",
        "for score, word in most_fake:\n",
        "    print(f\"{word}: {score:.4f}\")"
      ]
    },
    {
      "cell_type": "markdown",
      "source": [
        "**How to Get the Most Informative Features**"
      ],
      "metadata": {
        "id": "6ksX8I1hayn-"
      },
      "id": "6ksX8I1hayn-"
    },
    {
      "cell_type": "code",
      "execution_count": 46,
      "id": "1f3cc5be-a333-45fe-b1d3-fe7fba007d2f",
      "metadata": {
        "id": "1f3cc5be-a333-45fe-b1d3-fe7fba007d2f"
      },
      "outputs": [],
      "source": [
        "# Get log probabilities for each class\n",
        "log_probs = classifier.feature_log_prob_"
      ]
    },
    {
      "cell_type": "code",
      "execution_count": 47,
      "id": "70637c94-c685-4f86-8104-d70c39833d15",
      "metadata": {
        "id": "70637c94-c685-4f86-8104-d70c39833d15",
        "colab": {
          "base_uri": "https://localhost:8080/"
        },
        "outputId": "9fbcb1d0-5b67-461d-bd68-20c351c5d9fd"
      },
      "outputs": [
        {
          "output_type": "stream",
          "name": "stdout",
          "text": [
            "Top 20 features for REAL news:\n",
            "['mr', 'said', 'trump', 'mr trump', 'presid', 'state', 'would', 'ms', 'year', 'one', 'peopl', 'new', 'time', 'like', 'report', 'also', 'american', 'say', 'news', 'hous']\n"
          ]
        }
      ],
      "source": [
        "# Top features for 'real' class (assuming real is class 1)\n",
        "top_real = np.argsort(log_probs[1])[::-1][:20]\n",
        "print(\"Top 20 features for REAL news:\")\n",
        "print([feature_names[i] for i in top_real])"
      ]
    },
    {
      "cell_type": "code",
      "execution_count": 48,
      "id": "4bb77d41-3aae-4ae8-9cd0-11fd60558983",
      "metadata": {
        "id": "4bb77d41-3aae-4ae8-9cd0-11fd60558983",
        "colab": {
          "base_uri": "https://localhost:8080/"
        },
        "outputId": "e9d9dd89-61a1-4c9f-bd11-16a3d5df1d13"
      },
      "outputs": [
        {
          "output_type": "stream",
          "name": "stdout",
          "text": [
            "\n",
            "Top 20 features for FAKE news:\n",
            "['aaron', 'zu', 'zone', 'zionist', 'zika', 'zero', 'youtub', 'youth', 'action', 'act', 'across countri', 'across', 'acr', 'acquir', 'acknowledg', 'acid', 'adapt', 'adam', 'ad', 'actual']\n"
          ]
        }
      ],
      "source": [
        "# Top features for 'fake' class (assuming fake is class 0)\n",
        "top_fake = np.argsort(log_probs[0])[::-1][:20]\n",
        "print(\"\\nTop 20 features for FAKE news:\")\n",
        "print([feature_names[i] for i in top_fake])"
      ]
    },
    {
      "cell_type": "markdown",
      "source": [
        "**View Feature Weights Sorted Together**"
      ],
      "metadata": {
        "id": "0Ns5YU9xbAxa"
      },
      "id": "0Ns5YU9xbAxa"
    },
    {
      "cell_type": "code",
      "execution_count": 49,
      "id": "f2132460-ad7a-406c-91e0-9acf04f4108d",
      "metadata": {
        "id": "f2132460-ad7a-406c-91e0-9acf04f4108d"
      },
      "outputs": [],
      "source": [
        "# Difference in log probabilities: higher = more real, lower = more fake\n",
        "feature_diff = log_probs[1] - log_probs[0]\n",
        "sorted_features = sorted(zip(feature_diff, feature_names))\n"
      ]
    },
    {
      "cell_type": "code",
      "execution_count": 50,
      "id": "83a65b05-ae7b-4350-83e3-dc8ca7ba516a",
      "metadata": {
        "id": "83a65b05-ae7b-4350-83e3-dc8ca7ba516a",
        "colab": {
          "base_uri": "https://localhost:8080/"
        },
        "outputId": "09c141ac-a4b0-4559-b03e-a2608154d609"
      },
      "outputs": [
        {
          "output_type": "stream",
          "name": "stdout",
          "text": [
            "\n",
            "Most indicative of REAL news:\n",
            "['hous', 'news', 'say', 'american', 'also', 'report', 'like', 'time', 'new', 'peopl', 'one', 'year', 'ms', 'would', 'state', 'presid', 'mr trump', 'trump', 'said', 'mr']\n"
          ]
        }
      ],
      "source": [
        "# Most real\n",
        "print(\"\\nMost indicative of REAL news:\")\n",
        "print([f for _, f in sorted_features[-20:]])"
      ]
    },
    {
      "cell_type": "code",
      "execution_count": 51,
      "id": "6bc471a7-81f1-4c02-afd6-ec4b45f54c0e",
      "metadata": {
        "id": "6bc471a7-81f1-4c02-afd6-ec4b45f54c0e",
        "colab": {
          "base_uri": "https://localhost:8080/"
        },
        "outputId": "52d11f7e-19a6-4c5b-bb7c-519080c393e0"
      },
      "outputs": [
        {
          "output_type": "stream",
          "name": "stdout",
          "text": [
            "Most indicative of REAL news:\n",
            "\n",
            "mr: 3.6472\n",
            "said: 3.3754\n",
            "trump: 3.0926\n",
            "mr trump: 2.6002\n",
            "presid: 2.4823\n",
            "state: 2.4552\n",
            "would: 2.3328\n",
            "ms: 2.3296\n",
            "year: 2.3213\n",
            "one: 2.3137\n",
            "peopl: 2.3100\n",
            "new: 2.3046\n",
            "time: 2.2179\n",
            "like: 2.1880\n",
            "report: 2.1013\n",
            "also: 2.0275\n",
            "american: 1.9791\n",
            "say: 1.9770\n",
            "news: 1.9745\n",
            "hous: 1.9541\n"
          ]
        }
      ],
      "source": [
        "# Get most indicative features for REAL news\n",
        "most_real = sorted(zip(feature_diff, feature_names), reverse=True)[:20]\n",
        "print(\"Most indicative of REAL news:\\n\")\n",
        "for score, word in most_real:\n",
        "    print(f\"{word}: {score:.4f}\")"
      ]
    },
    {
      "cell_type": "code",
      "execution_count": 52,
      "id": "f3d25ca6-4014-4f93-bdde-7602ed35a2c4",
      "metadata": {
        "id": "f3d25ca6-4014-4f93-bdde-7602ed35a2c4",
        "colab": {
          "base_uri": "https://localhost:8080/"
        },
        "outputId": "50c0a17a-a509-4fc5-a370-9345b9166d96"
      },
      "outputs": [
        {
          "output_type": "stream",
          "name": "stdout",
          "text": [
            "Most indicative of FAKE news:\n",
            "['auf', 'fli zone', 'html', 'http co', 'http www', 'infowar life', 'ist', 'oligarchi', 'pic twitter com', 'ufo', 'utm', 'brain forc', 'twitter com', 'infowar com', 'zu', 'neo', 'como', 'kadzik', 'en el', 'widget']\n"
          ]
        }
      ],
      "source": [
        "# Most fake\n",
        "print(\"Most indicative of FAKE news:\")\n",
        "print([f for _, f in sorted_features[:20]])"
      ]
    },
    {
      "cell_type": "code",
      "execution_count": 53,
      "id": "790baf05-b2be-4c8d-87ca-f25b3a9fd9da",
      "metadata": {
        "id": "790baf05-b2be-4c8d-87ca-f25b3a9fd9da",
        "colab": {
          "base_uri": "https://localhost:8080/"
        },
        "outputId": "f53cf3c2-0bf8-44e6-d5e4-ea44112f195e"
      },
      "outputs": [
        {
          "output_type": "stream",
          "name": "stdout",
          "text": [
            "Most indicative of FAKE news:\n",
            "\n",
            "auf: -2.8340\n",
            "fli zone: -2.8340\n",
            "html: -2.8340\n",
            "http co: -2.8340\n",
            "http www: -2.8340\n",
            "infowar life: -2.8340\n",
            "ist: -2.8340\n",
            "oligarchi: -2.8340\n",
            "pic twitter com: -2.8340\n",
            "ufo: -2.8340\n",
            "utm: -2.8340\n",
            "brain forc: -2.8131\n",
            "twitter com: -2.8115\n",
            "infowar com: -2.7982\n",
            "zu: -2.7888\n",
            "neo: -2.7799\n",
            "como: -2.7566\n",
            "kadzik: -2.7564\n",
            "en el: -2.7541\n",
            "widget: -2.7442\n"
          ]
        }
      ],
      "source": [
        "# Get most indicative features for REAL news\n",
        "most_real = sorted(zip(feature_diff, feature_names))[:20]\n",
        "print(\"Most indicative of FAKE news:\\n\")\n",
        "for score, word in most_real:\n",
        "    print(f\"{word}: {score:.4f}\")"
      ]
    },
    {
      "cell_type": "markdown",
      "source": [
        "### **Creation of WordCloud**"
      ],
      "metadata": {
        "id": "0S50XZIibHAy"
      },
      "id": "0S50XZIibHAy"
    },
    {
      "cell_type": "code",
      "execution_count": 54,
      "id": "9a8506bf-0748-4cd2-b053-b045a56e62b2",
      "metadata": {
        "id": "9a8506bf-0748-4cd2-b053-b045a56e62b2",
        "colab": {
          "base_uri": "https://localhost:8080/"
        },
        "outputId": "76716e82-360d-4c5a-8d5e-f9b2564d03f4"
      },
      "outputs": [
        {
          "output_type": "stream",
          "name": "stdout",
          "text": [
            "Requirement already satisfied: wordcloud in /usr/local/lib/python3.11/dist-packages (1.9.4)\n",
            "Requirement already satisfied: numpy>=1.6.1 in /usr/local/lib/python3.11/dist-packages (from wordcloud) (2.0.2)\n",
            "Requirement already satisfied: pillow in /usr/local/lib/python3.11/dist-packages (from wordcloud) (11.2.1)\n",
            "Requirement already satisfied: matplotlib in /usr/local/lib/python3.11/dist-packages (from wordcloud) (3.10.0)\n",
            "Requirement already satisfied: contourpy>=1.0.1 in /usr/local/lib/python3.11/dist-packages (from matplotlib->wordcloud) (1.3.2)\n",
            "Requirement already satisfied: cycler>=0.10 in /usr/local/lib/python3.11/dist-packages (from matplotlib->wordcloud) (0.12.1)\n",
            "Requirement already satisfied: fonttools>=4.22.0 in /usr/local/lib/python3.11/dist-packages (from matplotlib->wordcloud) (4.58.0)\n",
            "Requirement already satisfied: kiwisolver>=1.3.1 in /usr/local/lib/python3.11/dist-packages (from matplotlib->wordcloud) (1.4.8)\n",
            "Requirement already satisfied: packaging>=20.0 in /usr/local/lib/python3.11/dist-packages (from matplotlib->wordcloud) (24.2)\n",
            "Requirement already satisfied: pyparsing>=2.3.1 in /usr/local/lib/python3.11/dist-packages (from matplotlib->wordcloud) (3.2.3)\n",
            "Requirement already satisfied: python-dateutil>=2.7 in /usr/local/lib/python3.11/dist-packages (from matplotlib->wordcloud) (2.9.0.post0)\n",
            "Requirement already satisfied: six>=1.5 in /usr/local/lib/python3.11/dist-packages (from python-dateutil>=2.7->matplotlib->wordcloud) (1.17.0)\n"
          ]
        }
      ],
      "source": [
        "!pip install wordcloud"
      ]
    },
    {
      "cell_type": "code",
      "execution_count": 55,
      "id": "7d0488fb-2b25-45f1-8fe5-9afe30926a77",
      "metadata": {
        "id": "7d0488fb-2b25-45f1-8fe5-9afe30926a77",
        "colab": {
          "base_uri": "https://localhost:8080/",
          "height": 461
        },
        "outputId": "d9240d1a-8065-40c8-891c-4d01869f9852"
      },
      "outputs": [
        {
          "output_type": "display_data",
          "data": {
            "text/plain": [
              "<Figure size 1000x500 with 1 Axes>"
            ],
            "image/png": "[encoded data removed]"
          },
          "metadata": {}
        },
        {
          "output_type": "display_data",
          "data": {
            "text/plain": [
              "<Figure size 640x480 with 0 Axes>"
            ]
          },
          "metadata": {}
        }
      ],
      "source": [
        "from wordcloud import WordCloud\n",
        "import matplotlib.pyplot as plt\n",
        "\n",
        "text = \" \".join(feature_names)  # or use only top fake/real features\n",
        "wordcloud = WordCloud(width=800, height=400, background_color='white').generate(text)\n",
        "\n",
        "plt.figure(figsize=(10, 5))\n",
        "plt.imshow(wordcloud, interpolation='bilinear')\n",
        "plt.axis(\"off\")\n",
        "plt.title(\"Word Cloud of Features\")\n",
        "plt.show()\n",
        "plt.savefig(\"Word Cloud of Features using TF-IDF\")\n"
      ]
    },
    {
      "cell_type": "markdown",
      "id": "7f869e0b-0751-4583-9906-6e51a59277c3",
      "metadata": {
        "id": "7f869e0b-0751-4583-9906-6e51a59277c3"
      },
      "source": [
        "# **HashingVectorizer**\n",
        "\n",
        "- **HashingVectorizer** transforms text into feature vectors using a hashing trick. **It does not check for collisions** and **produces both positive and negative values.**\n",
        "\n",
        "- MultinomialNB assumes that input features represent counts (non-negative), so **it cannot accept negative values.**"
      ]
    },
    {
      "cell_type": "code",
      "source": [
        "from sklearn.feature_extraction.text import HashingVectorizer\n",
        "hs_vectorizer = HashingVectorizer(n_features=5000, ngram_range=(1,3), non_negative=True)\n",
        "X = hs_vectorizer.fit_transform(corpus).toarray()"
      ],
      "metadata": {
        "colab": {
          "base_uri": "https://localhost:8080/",
          "height": 176
        },
        "id": "4s6aOdX7r3dh",
        "outputId": "ccd0793b-343a-42a5-dd7e-3723e2fc63dd"
      },
      "id": "4s6aOdX7r3dh",
      "execution_count": 57,
      "outputs": [
        {
          "output_type": "error",
          "ename": "TypeError",
          "evalue": "HashingVectorizer.__init__() got an unexpected keyword argument 'non_negative'",
          "traceback": [
            "\u001b[0;31m---------------------------------------------------------------------------\u001b[0m",
            "\u001b[0;31mTypeError\u001b[0m                                 Traceback (most recent call last)",
            "\u001b[0;32m<ipython-input-57-f2ac9c7a6e6b>\u001b[0m in \u001b[0;36m<cell line: 0>\u001b[0;34m()\u001b[0m\n\u001b[1;32m      1\u001b[0m \u001b[0;32mfrom\u001b[0m \u001b[0msklearn\u001b[0m\u001b[0;34m.\u001b[0m\u001b[0mfeature_extraction\u001b[0m\u001b[0;34m.\u001b[0m\u001b[0mtext\u001b[0m \u001b[0;32mimport\u001b[0m \u001b[0mHashingVectorizer\u001b[0m\u001b[0;34m\u001b[0m\u001b[0;34m\u001b[0m\u001b[0m\n\u001b[0;32m----> 2\u001b[0;31m \u001b[0mhs_vectorizer\u001b[0m \u001b[0;34m=\u001b[0m \u001b[0mHashingVectorizer\u001b[0m\u001b[0;34m(\u001b[0m\u001b[0mn_features\u001b[0m\u001b[0;34m=\u001b[0m\u001b[0;36m5000\u001b[0m\u001b[0;34m,\u001b[0m \u001b[0mngram_range\u001b[0m\u001b[0;34m=\u001b[0m\u001b[0;34m(\u001b[0m\u001b[0;36m1\u001b[0m\u001b[0;34m,\u001b[0m\u001b[0;36m3\u001b[0m\u001b[0;34m)\u001b[0m\u001b[0;34m,\u001b[0m \u001b[0mnon_negative\u001b[0m\u001b[0;34m=\u001b[0m\u001b[0;32mTrue\u001b[0m\u001b[0;34m)\u001b[0m\u001b[0;34m\u001b[0m\u001b[0;34m\u001b[0m\u001b[0m\n\u001b[0m\u001b[1;32m      3\u001b[0m \u001b[0mX\u001b[0m \u001b[0;34m=\u001b[0m \u001b[0mhs_vectorizer\u001b[0m\u001b[0;34m.\u001b[0m\u001b[0mfit_transform\u001b[0m\u001b[0;34m(\u001b[0m\u001b[0mcorpus\u001b[0m\u001b[0;34m)\u001b[0m\u001b[0;34m.\u001b[0m\u001b[0mtoarray\u001b[0m\u001b[0;34m(\u001b[0m\u001b[0;34m)\u001b[0m\u001b[0;34m\u001b[0m\u001b[0;34m\u001b[0m\u001b[0m\n",
            "\u001b[0;31mTypeError\u001b[0m: HashingVectorizer.__init__() got an unexpected keyword argument 'non_negative'"
          ]
        }
      ]
    },
    {
      "cell_type": "code",
      "execution_count": 58,
      "id": "68c8ef2f-94b5-4481-8da9-b160d1411bd1",
      "metadata": {
        "id": "68c8ef2f-94b5-4481-8da9-b160d1411bd1"
      },
      "outputs": [],
      "source": [
        "hs_vectorizer = HashingVectorizer(n_features=5000, ngram_range=(1,3))\n",
        "X = hs_vectorizer.fit_transform(corpus).toarray()"
      ]
    },
    {
      "cell_type": "code",
      "execution_count": 59,
      "id": "7e6daa85-bdc2-46e3-a65a-aef417a218b3",
      "metadata": {
        "id": "7e6daa85-bdc2-46e3-a65a-aef417a218b3",
        "colab": {
          "base_uri": "https://localhost:8080/"
        },
        "outputId": "1588d270-141d-4e41-cdf5-adb02213ee9e"
      },
      "outputs": [
        {
          "output_type": "execute_result",
          "data": {
            "text/plain": [
              "(18285, 5000)"
            ]
          },
          "metadata": {},
          "execution_count": 59
        }
      ],
      "source": [
        "X.shape"
      ]
    },
    {
      "cell_type": "code",
      "execution_count": 60,
      "id": "ddf029dd-1df2-4968-8f00-e55e98f31a27",
      "metadata": {
        "id": "ddf029dd-1df2-4968-8f00-e55e98f31a27",
        "colab": {
          "base_uri": "https://localhost:8080/"
        },
        "outputId": "af782c5b-257f-4e7c-8677-b8822b65e9e2"
      },
      "outputs": [
        {
          "output_type": "execute_result",
          "data": {
            "text/plain": [
              "array([[ 0.        , -0.12342962,  0.        , ...,  0.        ,\n",
              "         0.        ,  0.        ],\n",
              "       [ 0.02627035, -0.02627035,  0.        , ...,  0.        ,\n",
              "         0.        ,  0.        ],\n",
              "       [ 0.        , -0.01724651,  0.        , ...,  0.        ,\n",
              "         0.01724651,  0.        ],\n",
              "       ...,\n",
              "       [ 0.        ,  0.        ,  0.        , ...,  0.        ,\n",
              "         0.        ,  0.        ],\n",
              "       [ 0.        ,  0.        ,  0.        , ...,  0.        ,\n",
              "        -0.03573708,  0.        ],\n",
              "       [ 0.        , -0.05336761,  0.0177892 , ...,  0.0177892 ,\n",
              "        -0.0177892 ,  0.        ]])"
            ]
          },
          "metadata": {},
          "execution_count": 60
        }
      ],
      "source": [
        "X"
      ]
    },
    {
      "cell_type": "code",
      "execution_count": 61,
      "id": "b108e3d0-6b08-44ee-8aa3-c32e37459fd2",
      "metadata": {
        "id": "b108e3d0-6b08-44ee-8aa3-c32e37459fd2"
      },
      "outputs": [],
      "source": [
        "# Split the dataset into Train and Test\n",
        "from sklearn.model_selection import train_test_split\n",
        "X_train, X_test, y_train, y_test = train_test_split(X, y, test_size=0.35, random_state=42)"
      ]
    },
    {
      "cell_type": "code",
      "execution_count": 62,
      "id": "e02c6fed-7fe9-4867-85b7-b20afc4c82f0",
      "metadata": {
        "id": "e02c6fed-7fe9-4867-85b7-b20afc4c82f0",
        "colab": {
          "base_uri": "https://localhost:8080/",
          "height": 356
        },
        "outputId": "28c4ab1f-890c-48ba-97e4-acd5c6c34758"
      },
      "outputs": [
        {
          "output_type": "error",
          "ename": "ValueError",
          "evalue": "Negative values in data passed to MultinomialNB (input X).",
          "traceback": [
            "\u001b[0;31m---------------------------------------------------------------------------\u001b[0m",
            "\u001b[0;31mValueError\u001b[0m                                Traceback (most recent call last)",
            "\u001b[0;32m<ipython-input-62-a05b0d9f4327>\u001b[0m in \u001b[0;36m<cell line: 0>\u001b[0;34m()\u001b[0m\n\u001b[1;32m      1\u001b[0m \u001b[0;32mfrom\u001b[0m \u001b[0msklearn\u001b[0m\u001b[0;34m.\u001b[0m\u001b[0mnaive_bayes\u001b[0m \u001b[0;32mimport\u001b[0m \u001b[0mMultinomialNB\u001b[0m\u001b[0;34m\u001b[0m\u001b[0;34m\u001b[0m\u001b[0m\n\u001b[1;32m      2\u001b[0m \u001b[0mclassifier\u001b[0m\u001b[0;34m=\u001b[0m\u001b[0mMultinomialNB\u001b[0m\u001b[0;34m(\u001b[0m\u001b[0;34m)\u001b[0m\u001b[0;34m\u001b[0m\u001b[0;34m\u001b[0m\u001b[0m\n\u001b[0;32m----> 3\u001b[0;31m \u001b[0mclassifier\u001b[0m\u001b[0;34m.\u001b[0m\u001b[0mfit\u001b[0m\u001b[0;34m(\u001b[0m\u001b[0mX_train\u001b[0m\u001b[0;34m,\u001b[0m \u001b[0my_train\u001b[0m\u001b[0;34m)\u001b[0m\u001b[0;34m\u001b[0m\u001b[0;34m\u001b[0m\u001b[0m\n\u001b[0m\u001b[1;32m      4\u001b[0m \u001b[0mpred\u001b[0m \u001b[0;34m=\u001b[0m \u001b[0mclassifier\u001b[0m\u001b[0;34m.\u001b[0m\u001b[0mpredict\u001b[0m\u001b[0;34m(\u001b[0m\u001b[0mX_test\u001b[0m\u001b[0;34m)\u001b[0m\u001b[0;34m\u001b[0m\u001b[0;34m\u001b[0m\u001b[0m\n\u001b[1;32m      5\u001b[0m \u001b[0mscore\u001b[0m \u001b[0;34m=\u001b[0m \u001b[0mmetrics\u001b[0m\u001b[0;34m.\u001b[0m\u001b[0maccuracy_score\u001b[0m\u001b[0;34m(\u001b[0m\u001b[0my_test\u001b[0m\u001b[0;34m,\u001b[0m \u001b[0mpred\u001b[0m\u001b[0;34m)\u001b[0m\u001b[0;34m\u001b[0m\u001b[0;34m\u001b[0m\u001b[0m\n",
            "\u001b[0;32m/usr/local/lib/python3.11/dist-packages/sklearn/base.py\u001b[0m in \u001b[0;36mwrapper\u001b[0;34m(estimator, *args, **kwargs)\u001b[0m\n\u001b[1;32m   1387\u001b[0m                 )\n\u001b[1;32m   1388\u001b[0m             ):\n\u001b[0;32m-> 1389\u001b[0;31m                 \u001b[0;32mreturn\u001b[0m \u001b[0mfit_method\u001b[0m\u001b[0;34m(\u001b[0m\u001b[0mestimator\u001b[0m\u001b[0;34m,\u001b[0m \u001b[0;34m*\u001b[0m\u001b[0margs\u001b[0m\u001b[0;34m,\u001b[0m \u001b[0;34m**\u001b[0m\u001b[0mkwargs\u001b[0m\u001b[0;34m)\u001b[0m\u001b[0;34m\u001b[0m\u001b[0;34m\u001b[0m\u001b[0m\n\u001b[0m\u001b[1;32m   1390\u001b[0m \u001b[0;34m\u001b[0m\u001b[0m\n\u001b[1;32m   1391\u001b[0m         \u001b[0;32mreturn\u001b[0m \u001b[0mwrapper\u001b[0m\u001b[0;34m\u001b[0m\u001b[0;34m\u001b[0m\u001b[0m\n",
            "\u001b[0;32m/usr/local/lib/python3.11/dist-packages/sklearn/naive_bayes.py\u001b[0m in \u001b[0;36mfit\u001b[0;34m(self, X, y, sample_weight)\u001b[0m\n\u001b[1;32m    760\u001b[0m         \u001b[0mn_classes\u001b[0m \u001b[0;34m=\u001b[0m \u001b[0mY\u001b[0m\u001b[0;34m.\u001b[0m\u001b[0mshape\u001b[0m\u001b[0;34m[\u001b[0m\u001b[0;36m1\u001b[0m\u001b[0;34m]\u001b[0m\u001b[0;34m\u001b[0m\u001b[0;34m\u001b[0m\u001b[0m\n\u001b[1;32m    761\u001b[0m         \u001b[0mself\u001b[0m\u001b[0;34m.\u001b[0m\u001b[0m_init_counters\u001b[0m\u001b[0;34m(\u001b[0m\u001b[0mn_classes\u001b[0m\u001b[0;34m,\u001b[0m \u001b[0mn_features\u001b[0m\u001b[0;34m)\u001b[0m\u001b[0;34m\u001b[0m\u001b[0;34m\u001b[0m\u001b[0m\n\u001b[0;32m--> 762\u001b[0;31m         \u001b[0mself\u001b[0m\u001b[0;34m.\u001b[0m\u001b[0m_count\u001b[0m\u001b[0;34m(\u001b[0m\u001b[0mX\u001b[0m\u001b[0;34m,\u001b[0m \u001b[0mY\u001b[0m\u001b[0;34m)\u001b[0m\u001b[0;34m\u001b[0m\u001b[0;34m\u001b[0m\u001b[0m\n\u001b[0m\u001b[1;32m    763\u001b[0m         \u001b[0malpha\u001b[0m \u001b[0;34m=\u001b[0m \u001b[0mself\u001b[0m\u001b[0;34m.\u001b[0m\u001b[0m_check_alpha\u001b[0m\u001b[0;34m(\u001b[0m\u001b[0;34m)\u001b[0m\u001b[0;34m\u001b[0m\u001b[0;34m\u001b[0m\u001b[0m\n\u001b[1;32m    764\u001b[0m         \u001b[0mself\u001b[0m\u001b[0;34m.\u001b[0m\u001b[0m_update_feature_log_prob\u001b[0m\u001b[0;34m(\u001b[0m\u001b[0malpha\u001b[0m\u001b[0;34m)\u001b[0m\u001b[0;34m\u001b[0m\u001b[0;34m\u001b[0m\u001b[0m\n",
            "\u001b[0;32m/usr/local/lib/python3.11/dist-packages/sklearn/naive_bayes.py\u001b[0m in \u001b[0;36m_count\u001b[0;34m(self, X, Y)\u001b[0m\n\u001b[1;32m    887\u001b[0m     \u001b[0;32mdef\u001b[0m \u001b[0m_count\u001b[0m\u001b[0;34m(\u001b[0m\u001b[0mself\u001b[0m\u001b[0;34m,\u001b[0m \u001b[0mX\u001b[0m\u001b[0;34m,\u001b[0m \u001b[0mY\u001b[0m\u001b[0;34m)\u001b[0m\u001b[0;34m:\u001b[0m\u001b[0;34m\u001b[0m\u001b[0;34m\u001b[0m\u001b[0m\n\u001b[1;32m    888\u001b[0m         \u001b[0;34m\"\"\"Count and smooth feature occurrences.\"\"\"\u001b[0m\u001b[0;34m\u001b[0m\u001b[0;34m\u001b[0m\u001b[0m\n\u001b[0;32m--> 889\u001b[0;31m         \u001b[0mcheck_non_negative\u001b[0m\u001b[0;34m(\u001b[0m\u001b[0mX\u001b[0m\u001b[0;34m,\u001b[0m \u001b[0;34m\"MultinomialNB (input X)\"\u001b[0m\u001b[0;34m)\u001b[0m\u001b[0;34m\u001b[0m\u001b[0;34m\u001b[0m\u001b[0m\n\u001b[0m\u001b[1;32m    890\u001b[0m         \u001b[0mself\u001b[0m\u001b[0;34m.\u001b[0m\u001b[0mfeature_count_\u001b[0m \u001b[0;34m+=\u001b[0m \u001b[0msafe_sparse_dot\u001b[0m\u001b[0;34m(\u001b[0m\u001b[0mY\u001b[0m\u001b[0;34m.\u001b[0m\u001b[0mT\u001b[0m\u001b[0;34m,\u001b[0m \u001b[0mX\u001b[0m\u001b[0;34m)\u001b[0m\u001b[0;34m\u001b[0m\u001b[0;34m\u001b[0m\u001b[0m\n\u001b[1;32m    891\u001b[0m         \u001b[0mself\u001b[0m\u001b[0;34m.\u001b[0m\u001b[0mclass_count_\u001b[0m \u001b[0;34m+=\u001b[0m \u001b[0mY\u001b[0m\u001b[0;34m.\u001b[0m\u001b[0msum\u001b[0m\u001b[0;34m(\u001b[0m\u001b[0maxis\u001b[0m\u001b[0;34m=\u001b[0m\u001b[0;36m0\u001b[0m\u001b[0;34m)\u001b[0m\u001b[0;34m\u001b[0m\u001b[0;34m\u001b[0m\u001b[0m\n",
            "\u001b[0;32m/usr/local/lib/python3.11/dist-packages/sklearn/utils/validation.py\u001b[0m in \u001b[0;36mcheck_non_negative\u001b[0;34m(X, whom)\u001b[0m\n\u001b[1;32m   1825\u001b[0m \u001b[0;34m\u001b[0m\u001b[0m\n\u001b[1;32m   1826\u001b[0m     \u001b[0;32mif\u001b[0m \u001b[0mX_min\u001b[0m \u001b[0;34m<\u001b[0m \u001b[0;36m0\u001b[0m\u001b[0;34m:\u001b[0m\u001b[0;34m\u001b[0m\u001b[0;34m\u001b[0m\u001b[0m\n\u001b[0;32m-> 1827\u001b[0;31m         \u001b[0;32mraise\u001b[0m \u001b[0mValueError\u001b[0m\u001b[0;34m(\u001b[0m\u001b[0;34mf\"Negative values in data passed to {whom}.\"\u001b[0m\u001b[0;34m)\u001b[0m\u001b[0;34m\u001b[0m\u001b[0;34m\u001b[0m\u001b[0m\n\u001b[0m\u001b[1;32m   1828\u001b[0m \u001b[0;34m\u001b[0m\u001b[0m\n\u001b[1;32m   1829\u001b[0m \u001b[0;34m\u001b[0m\u001b[0m\n",
            "\u001b[0;31mValueError\u001b[0m: Negative values in data passed to MultinomialNB (input X)."
          ]
        }
      ],
      "source": [
        "from sklearn.naive_bayes import MultinomialNB\n",
        "classifier=MultinomialNB()\n",
        "classifier.fit(X_train, y_train)\n",
        "pred = classifier.predict(X_test)\n",
        "score = metrics.accuracy_score(y_test, pred)\n",
        "print(\"accuracy:   %0.3f\" % score)\n",
        "cm = metrics.confusion_matrix(y_test, pred)\n",
        "plot_confusion_matrix(cm, classes=['FAKE', 'REAL'])"
      ]
    }
  ],
  "metadata": {
    "kernelspec": {
      "display_name": "Python 3",
      "name": "python3"
    },
    "language_info": {
      "codemirror_mode": {
        "name": "ipython",
        "version": 3
      },
      "file_extension": ".py",
      "mimetype": "text/x-python",
      "name": "python",
      "nbconvert_exporter": "python",
      "pygments_lexer": "ipython3",
      "version": "3.12.7"
    },
    "colab": {
      "provenance": [],
      "gpuType": "T4"
    },
    "accelerator": "GPU"
  },
  "nbformat": 4,
  "nbformat_minor": 5
}